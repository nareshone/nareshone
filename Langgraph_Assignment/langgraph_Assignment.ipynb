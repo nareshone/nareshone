{
 "cells": [
  {
   "cell_type": "code",
   "execution_count": 1,
   "metadata": {},
   "outputs": [],
   "source": [
    "import os\n",
    "from dotenv import load_dotenv\n",
    "load_dotenv()\n",
    "\n",
    "#os.environ[\"GROQ_API_KEY\"]=os.getenv(\"GROQ_API_KEY\")\n",
    "os.environ[\"OPENAI_API_KEY\"]=os.getenv(\"OPENAI_API_KEY\")\n"
   ]
  },
  {
   "cell_type": "code",
   "execution_count": 2,
   "metadata": {},
   "outputs": [],
   "source": [
    "from langchain_openai import ChatOpenAI\n",
    "\n",
    "llm=ChatOpenAI(model=\"gpt-4o\")\n"
   ]
  },
  {
   "cell_type": "code",
   "execution_count": 21,
   "metadata": {},
   "outputs": [],
   "source": [
    "from langgraph.graph import MessagesState\n",
    "from typing_extensions import TypedDict, List, Optional\n",
    "\n",
    "\n",
    "class BlogState(TypedDict):\n",
    "    keyword: str\n",
    "    title: str\n",
    "    blog_content: Optional[str]\n"
   ]
  },
  {
   "cell_type": "code",
   "execution_count": 22,
   "metadata": {},
   "outputs": [],
   "source": [
    "from langchain_core.messages import HumanMessage, SystemMessage\n",
    "\n",
    "def createTitle(state: BlogState):\n",
    "    sys_msg_title = SystemMessage(content=\"You are a blog writer, Write a blog title based on the user input. Blog title should not be more than 60 characters - \")\n",
    "    return {\"title\":[llm.invoke([sys_msg_title] + state[\"keyword\"])]}\n",
    "\n",
    "def createBlog(state: BlogState):\n",
    "    sys_msg_blog = SystemMessage(content=\"You are a blog writer, Write a blog about 500 words based on the user input title -  \")\n",
    "    return {\"blog_content\":[llm.invoke([sys_msg_blog] + state[\"title\"])]}\n",
    "    "
   ]
  },
  {
   "cell_type": "code",
   "execution_count": 23,
   "metadata": {},
   "outputs": [
    {
     "data": {
      "image/png": "[encoded data removed]",
      "text/plain": [
       "<IPython.core.display.Image object>"
      ]
     },
     "metadata": {},
     "output_type": "display_data"
    }
   ],
   "source": [
    "from langgraph.graph import START,END, StateGraph\n",
    "from langgraph.prebuilt import tools_condition\n",
    "from langgraph.prebuilt import ToolNode\n",
    "from IPython.display import Image, display\n",
    "\n",
    "builder=StateGraph(BlogState)\n",
    "\n",
    "## Define the node\n",
    "builder.add_node(\"createTitle\",createTitle)\n",
    "builder.add_node(\"createBlog\",createBlog)\n",
    "\n",
    "## Define the edges\n",
    "\n",
    "builder.add_edge(START,\"createTitle\")\n",
    "builder.add_edge(\"createTitle\",\"createBlog\")\n",
    "builder.add_edge(\"createBlog\", END)\n",
    "graph=builder.compile()\n",
    "\n",
    "# Show\n",
    "display(Image(graph.get_graph().draw_mermaid_png()))"
   ]
  },
  {
   "cell_type": "code",
   "execution_count": 24,
   "metadata": {},
   "outputs": [],
   "source": [
    "messages = [HumanMessage(content=\"Tajmahal\")]\n",
    "messages = graph.invoke({\"keyword\": messages})"
   ]
  },
  {
   "cell_type": "code",
   "execution_count": 27,
   "metadata": {},
   "outputs": [
    {
     "name": "stdout",
     "output_type": "stream",
     "text": [
      "==================================\u001b[1m Ai Message \u001b[0m==================================\n",
      "\n",
      "\"The Timeless Beauty and Mystique of the Taj Mahal\"\n",
      "==================================\u001b[1m Ai Message \u001b[0m==================================\n",
      "\n",
      "The Taj Mahal stands as an icon of love, an architectural marvel, and a testament to human creativity. Situated on the south bank of the Yamuna River in Agra, India, this magnificent white marble mausoleum continues to enchant millions of visitors from around the world. Built in the 17th century by the Mughal Emperor Shah Jahan, the Taj Mahal was a tribute to his beloved wife Mumtaz Mahal. Yet, beyond its romantic origins, the Taj Mahal embodies a fusion of cultures, stunning artistry, and enduring legacy, making it a timeless wonder that deserves renewed attention and admiration.\n",
      "\n",
      "Upon entering the gardens that precede the Taj Mahal, visitors are captivated by the symmetry and meticulous design of the space. The gardens, split into four quadrants, symbolize paradise and are designed in the charbagh (four-part) style, an innovation that reflects Persian influences. This immaculate planning creates a sense of tranquility and prepares the observer for the grandeur of the mausoleum itself. The contrast between the lush greenery of the gardens and the stark white marble of the Taj Mahal enhances its ethereal beauty, making the visual journey unforgettable.\n",
      "\n",
      "Looming above is the central dome of the Taj Mahal, often referred to as the greatest accomplishment of Mughal architecture. The intricate carvings, inlaid with precious stones, create an awe-inspiring display of craftsmanship. Marble from Makrana, Rajasthan, was used to accentuate its luminescence, especially under the moonlight, when the Taj Mahal seems to glow with a surreal aura. The surrounding minarets, which lean slightly outward to protect the main structure in case of an earthquake, add to the architectural brilliance, exemplifying the advanced scientific thought of the Mughal era.\n",
      "\n",
      "The Taj Mahal’s aesthetic appeal is intricately tied to the love story that inspired its creation. Stories and legends surrounding Shah Jahan and Mumtaz Mahal have been romanticized over the centuries, embedding the monument with deeper meaning. Shah Jahan's dedication to honoring his wife’s memory, through years of careful construction and artistic detail, leads the viewer to reflect on themes of love, loss, and the human desire to create something lasting. The story of their passion endows the structure with an emotional resonance that transcends time and draws admirers from every corner of the globe.\n",
      "\n",
      "Beyond its romantic narrative, the Taj Mahal is an emblem of cultural synthesis, showcasing a blend of Indian, Persian, and Islamic architectural styles. The delicate calligraphy adorning its walls, featuring verses from the Quran, highlights the cross-cultural artistic exchanges of the time. This multicultural symbiosis not only adds to the Taj Mahal’s richness but also serves as a reminder of the importance of tolerance and unity in today’s multifaceted world.\n",
      "\n",
      "In recent years, challenges such as pollution and overcrowding have threatened the Taj Mahal’s integrity. Preservation efforts are crucial to protect this UNESCO World Heritage Site for future generations. Conscious tourism and ongoing maintenance play pivotal roles in ensuring that the beauty of the Taj Mahal continues to endure.\n",
      "\n",
      "In summary, the Taj Mahal is more than just a destination. It is a narrative carved in stone, a poem in architecture, and a historical icon that encapsulates the depth of human emotion and achievement. Whether through stories of devotion or through the magnificence of its structure, the Taj Mahal inspires a sense of wonder that continues to resonate globally, making it an eternal symbol of beauty and love.\n"
     ]
    }
   ],
   "source": [
    "for m in messages['title']:\n",
    "    m.pretty_print()\n",
    "for m in messages['blog_content']:\n",
    "    m.pretty_print()"
   ]
  }
 ],
 "metadata": {
  "kernelspec": {
   "display_name": "venv1",
   "language": "python",
   "name": "python3"
  },
  "language_info": {
   "codemirror_mode": {
    "name": "ipython",
    "version": 3
   },
   "file_extension": ".py",
   "mimetype": "text/x-python",
   "name": "python",
   "nbconvert_exporter": "python",
   "pygments_lexer": "ipython3",
   "version": "3.12.0"
  }
 },
 "nbformat": 4,
 "nbformat_minor": 2
}
