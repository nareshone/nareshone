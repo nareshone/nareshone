{
 "cells": [
  {
   "cell_type": "code",
   "execution_count": null,
   "metadata": {},
   "outputs": [
    {
     "data": {
      "text/plain": [
       "AIMessage(content='Hello! 👋 \\n\\nHow can I help you today? 😊\\n', additional_kwargs={}, response_metadata={'token_usage': {'completion_tokens': 16, 'prompt_tokens': 11, 'total_tokens': 27, 'completion_time': 0.029090909, 'prompt_time': 0.001899746, 'queue_time': 0.019476673, 'total_time': 0.030990655}, 'model_name': 'gemma2-9b-it', 'system_fingerprint': 'fp_10c08bf97d', 'finish_reason': 'stop', 'logprobs': None}, id='run-d8fe753c-4551-45bc-a10c-6300cfc0d567-0', usage_metadata={'input_tokens': 11, 'output_tokens': 16, 'total_tokens': 27})"
      ]
     },
     "execution_count": 178,
     "metadata": {},
     "output_type": "execute_result"
    }
   ],
   "source": [
    "from dotenv import load_dotenv\n",
    "load_dotenv()\n",
    "import os\n",
    "\n",
    "from langchain_groq import ChatGroq\n",
    "\n",
    "\n",
    "#os.environ[\"OPENAI_API_KEY\"]=os.getenv(\"OPENAI_API_KEY\")\n",
    "os.environ[\"GROQ_API_KEY\"]=os.getenv(\"GROQ_API_KEY\")\n",
    "\n",
    "\n",
    "llm=ChatGroq(model=\"qwen-2.5-32b\")\n",
    "reviewer_llm = ChatGroq(model=\"gemma2-9b-it\")\n",
    "#result1=llm.invoke(\"Hello\")\n",
    "#result2=reviewer_llm.invoke(\"Hello\")\n",
    "#result1\n",
    "#result2"
   ]
  },
  {
   "cell_type": "code",
   "execution_count": 199,
   "metadata": {},
   "outputs": [],
   "source": [
    "from youtube_transcript_api import YouTubeTranscriptApi\n",
    "from langchain_core.tools import tool\n",
    "\n",
    "@tool\n",
    "def yt_video_transcript_extractor(video_id: str) -> str:\n",
    "    \"\"\"\n",
    "    Extracts transcript data from a YouTube video.\n",
    "\n",
    "    Args:\n",
    "        video_id (str): The YouTube video ID.\n",
    "\n",
    "    Returns:\n",
    "        Document: A LangChain document containing the transcript.\n",
    "    \"\"\"\n",
    "\n",
    "    transcript = YouTubeTranscriptApi.get_transcript(video_id)\n",
    "    text_content = \"\\n\".join([entry[\"text\"] for entry in transcript])  # Combine transcript\n",
    "    return text_content\n",
    "\n",
    "\n",
    "tools = [yt_video_transcript_extractor]\n",
    "llm_with_tools = llm.bind_tools(tools)\n"
   ]
  },
  {
   "cell_type": "code",
   "execution_count": null,
   "metadata": {},
   "outputs": [
    {
     "data": {
      "image/png": "[encoded data removed]",
      "text/plain": [
       "<IPython.core.display.Image object>"
      ]
     },
     "metadata": {},
     "output_type": "display_data"
    }
   ],
   "source": [
    "from IPython.display import Image, display\n",
    "\n",
    "from langgraph.checkpoint.memory import MemorySaver\n",
    "from langgraph.graph import MessagesState\n",
    "from langgraph.graph import START, StateGraph, END\n",
    "from langgraph.prebuilt import tools_condition, ToolNode\n",
    "\n",
    "from langchain_core.messages import AIMessage, HumanMessage, SystemMessage\n",
    "\n",
    "# System message\n",
    "sys_msg = SystemMessage(content=\"You are a helpful assistant to review the transcript of youtube video and create a humour blog content which should have less than 500 words\")\n",
    "\n",
    "# Blog Generator Node\n",
    "def assistant(state: MessagesState):\n",
    "    transcript = None\n",
    "    blog = None\n",
    "    needs_humor_improvement = False  # Track if we need humor improvement\n",
    "\n",
    "    for msg in state[\"messages\"]:\n",
    "        if isinstance(msg, AIMessage):\n",
    "            if \"transcript\" in msg.content.lower():\n",
    "                transcript = msg.content\n",
    "            if \"humor improvement\" in msg.content.lower():  # Detect if humor needs improvement\n",
    "                needs_humor_improvement = True\n",
    "            if \"blog\" in msg.content.lower():\n",
    "                blog = msg.content\n",
    "\n",
    "    if transcript and not needs_humor_improvement:\n",
    "        # Generate normal blog\n",
    "        blog_msg = SystemMessage(\n",
    "            content=f\"Write a humorous blog (under 500 words) using this transcript:\\n{transcript}\"\n",
    "        )\n",
    "        return {\"messages\": [llm_with_tools.invoke([blog_msg])]}\n",
    "\n",
    "    elif transcript and needs_humor_improvement:\n",
    "        # Rewrite blog with extra humor\n",
    "        improve_blog_msg = SystemMessage(\n",
    "            content=f\"Improve the humor in this blog and make it really funny:\\n{blog}\"\n",
    "        )\n",
    "        return {\"messages\": [llm_with_tools.invoke([improve_blog_msg])]}\n",
    "\n",
    "    else:\n",
    "        # If no transcript, fetch it\n",
    "        return {\"messages\": [llm_with_tools.invoke([sys_msg] + state[\"messages\"])]}\n",
    "\n",
    "\n",
    "reviewer_msg = SystemMessage(content=\"You are a helpful assistant to review the blog content of a youtube video. You should rate the blog content based on the humour present in it. Rating should be in the scale of 100.\")\n",
    "\n",
    "# Reviewer Node\n",
    "def reviewer(state: MessagesState):\n",
    "   return {\"messages\": [reviewer_llm.invoke([reviewer_msg] + state[\"messages\"])]}\n",
    "\n",
    "# Human feedback node\n",
    "def human_feedback(state: MessagesState):\n",
    "    return {\"messages\": state[\"messages\"]}\n",
    "\n",
    "# Decision function for human feedback\n",
    "def evaluate_feedback(state: MessagesState) -> str:\n",
    "    \"\"\"Use LLM to classify user feedback as 'positive' or 'negative'.\"\"\"\n",
    "\n",
    "    last_message = state[\"messages\"][-1].content  # Get last human feedback\n",
    "\n",
    "    # System message to guide LLM\n",
    "    classify_msg = SystemMessage(\n",
    "        content=\"Analyze the following feedback and classify it strictly as 'positive' or 'negative'. \"\n",
    "                \"If the feedback suggests dissatisfaction, humor improvement, or rewriting, classify it as 'negative'. \"\n",
    "                \"Otherwise, classify it as 'positive'. Return only 'positive' or 'negative' as output.\\n\"\n",
    "                f\"Feedback: {last_message}\"\n",
    "    )\n",
    "\n",
    "    # Ask LLM to classify\n",
    "    response = llm_with_tools.invoke([classify_msg])\n",
    "\n",
    "    # Extract LLM's decision and ensure only 'positive' or 'negative' is assigned\n",
    "    if hasattr(response, 'content') and response.content:\n",
    "        decision = response.content.strip().lower()\n",
    "        if decision not in [\"positive\", \"negative\"]:  # Fallback if response is unexpected\n",
    "            decision = \"positive\"\n",
    "    else:\n",
    "        decision = \"positive\"  # Default if response is None or invalid\n",
    "\n",
    "    print(f\"Decision: {decision}\")  # Debugging output\n",
    "\n",
    "    return \"assistant\" if decision == \"negative\" else END  # Continue improving if negative\n",
    "\n",
    "\n",
    "    \n",
    "\n",
    "# Tool Node (Handles tool calls)\n",
    "def tool_node(state: MessagesState):\n",
    "    # Extract video ID\n",
    "    video_id = None\n",
    "    for msg in state[\"messages\"]:\n",
    "        if isinstance(msg, HumanMessage):\n",
    "            video_id = msg.content.strip()\n",
    "            break\n",
    "\n",
    "    if not video_id:\n",
    "        return {\"messages\": state[\"messages\"] + [AIMessage(content=\"ERROR: No video ID provided.\")]}\n",
    "\n",
    "    try:\n",
    "        transcript_msg = yt_video_transcript_extractor.invoke({\"video_id\": video_id})\n",
    "        return {\"messages\": state[\"messages\"] + [transcript_msg]}\n",
    "    except Exception as e:\n",
    "        return {\"messages\": state[\"messages\"] + [AIMessage(content=f\"ERROR: {str(e)}\")]}\n",
    "\n",
    "# Conditional edge function to route to the appropriate node\n",
    "def route_decision(state: MessagesState):\n",
    "    \"\"\"Determine whether to fetch transcript or write blog\"\"\"\n",
    "    for msg in state[\"messages\"]:\n",
    "        if \"transcript\" in msg.content.lower():\n",
    "            return \"reviewer\"  # If transcript exists, send for review\n",
    "    return \"tools\"  # Else, go get transcript  \n",
    "\n",
    "# Graph\n",
    "builder = StateGraph(MessagesState)\n",
    "\n",
    "# Define nodes: these do the work\n",
    "builder.add_node(\"assistant\", assistant)\n",
    "builder.add_node(\"tools\", tool_node)\n",
    "builder.add_node(\"reviewer\", reviewer)\n",
    "builder.add_node(\"human_feedback\", human_feedback)\n",
    "\n",
    "# Define edges: these determine the control flow\n",
    "builder.add_edge(START, \"assistant\")\n",
    "builder.add_edge(\"tools\", \"assistant\")\n",
    "builder.add_edge(\"reviewer\", \"human_feedback\")\n",
    "builder.add_conditional_edges(\n",
    "    \"assistant\",\n",
    "    route_decision,\n",
    "    {  # Name returned by route_decision : Name of next node to visit\n",
    "        \"tools\": \"tools\",\n",
    "        \"reviewer\": \"reviewer\",\n",
    "    }\n",
    ")\n",
    "builder.add_conditional_edges(\"human_feedback\",evaluate_feedback,[\"assistant\", END])\n",
    "\n",
    "memory = MemorySaver()\n",
    "## human in the loop\n",
    "graph = builder.compile(interrupt_before=[\"human_feedback\"], checkpointer=memory)\n",
    "\n",
    "# Show\n",
    "display(Image(graph.get_graph().draw_mermaid_png()))"
   ]
  },
  {
   "cell_type": "code",
   "execution_count": 201,
   "metadata": {},
   "outputs": [],
   "source": [
    "initial_input={\"messages\":HumanMessage(content=\"wVhG59zh4uQ&list=PLA7lNLNvxTzig5dqfGl8DGbLOvUI08yXg&index=4\")}\n",
    "\n",
    "thread={\"configurable\":{\"thread_id\":\"6\"}}"
   ]
  },
  {
   "cell_type": "code",
   "execution_count": 202,
   "metadata": {},
   "outputs": [
    {
     "name": "stdout",
     "output_type": "stream",
     "text": [
      "================================\u001b[1m Human Message \u001b[0m=================================\n",
      "\n",
      "wVhG59zh4uQ&list=PLA7lNLNvxTzig5dqfGl8DGbLOvUI08yXg&index=4\n",
      "==================================\u001b[1m Ai Message \u001b[0m==================================\n",
      "Tool Calls:\n",
      "  yt_video_transcript_extractor (call_zyfy)\n",
      " Call ID: call_zyfy\n",
      "  Args:\n",
      "    video_id: wVhG59zh4uQ\n",
      "================================\u001b[1m Human Message \u001b[0m=================================\n",
      "\n",
      "what's your name uh Ralph wreck-it Ralph\n",
      "you're not from here are you\n",
      "no well yeah I mean I mean not from\n",
      "right in this area I'm just doing some\n",
      "work here Oh kind of work there's some\n",
      "routine candy tree trimming uh you\n",
      "probably want to stand back in fact this\n",
      "whole area is technically closed while\n",
      "we're trimming who's we\n",
      "candy tree Department ah where is\n",
      "everybody else\n",
      "oh it's just me today ah you just met\n",
      "like the Royal we\n",
      "yep that's right hey are you a hobo no\n",
      "I'm not a hobo\n",
      "what's your name uh Ralph wreck-it Ralph\n",
      "you're not from here are you\n",
      "no well yeah I mean I mean not from\n",
      "right in this area I'm just doing some\n",
      "work here okay no work there's some\n",
      "routine candy tree trimming uh you\n",
      "probably want to stand back in fact this\n",
      "whole area is technically closed while\n",
      "we're trimming who's we\n",
      "candy tree Department ah where is\n",
      "everybody else\n",
      "oh it's just me today huh you just met\n",
      "like the Royal we\n",
      "yep that's right hey are you a hobo no\n",
      "I'm not a hobo\n",
      "you\n",
      "what's your name uh Ralph wreck-it Ralph\n",
      "you're not from here are you\n",
      "no well yeah I mean I mean not from\n",
      "right in this area I'm just doing some\n",
      "work here Oh kind of work there's some\n",
      "routine candy tree trimming uh you\n",
      "probably want to stand back in fact this\n",
      "whole area is technically closed while\n",
      "we're trimming who's we\n",
      "candy tree Department ah where is\n",
      "everybody else\n",
      "oh it's just me today ah you just met\n",
      "like the Royal we yep that's right\n",
      "hey are you a hobo no I'm not a hobo\n",
      "==================================\u001b[1m Ai Message \u001b[0m==================================\n",
      "\n",
      "Alright, let's take a humorous dive into the world of \"Wreck-It Ralph\" and this peculiar transcript, which seems to be an endless loop of confusion and repetition!\n",
      "\n",
      "### The Great Candy Tree Trimming Mystery\n",
      "\n",
      "Imagine a scene in the vibrant world of Sugar Rush, where our protagonist, Ralph, is trying to blend in at a new job. But, oh boy, things get a little...sticky. He's introduced to a mysterious figure in the Candy Tree Department, who seems overwhelmed and a bit lost. Let's break it down:\n",
      "\n",
      "1. **The Introduction:**\n",
      "   - **Mysterious Figure:** \"What's your name? Uh, Ralph, Wreck-It Ralph. You're not from here, are you?\"\n",
      "   - **Ralph:** \"No, well, yeah, I mean, not from right in this area. I'm just doing some work here.\"\n",
      "\n",
      "2. **The Candy Tree Trimming Job:**\n",
      "   - **Mysterious Figure:** \"Oh, kind of work? There's some routine candy tree trimming. Uh, you probably want to stand back. In fact, this whole area is technically closed while we're trimming. Who's 'we'?\"\n",
      "   - **Ralph:** *Might be wondering who this guy is talking to, but lets it slide.*\n",
      "\n",
      "3. **The Lone Ranger:**\n",
      "   - **Mysterious Figure:** \"Candy Tree Department. Ah, where is everybody else? Oh, it's just me today.\"\n",
      "   - **Ralph:** *Slightly confused but still trying to be polite.*\n",
      "\n",
      "4. **The Hobo Question:**\n",
      "   - **Mysterious Figure:** \"Hey, are you a hobo? No, I'm not a hobo.\"\n",
      "   - **Ralph:** *Eyes wide, probably wondering how to respond to this unexpected question.*\n",
      "\n",
      "### The Loop of Confusion\n",
      "\n",
      "The transcript repeats itself multiple times, creating a comedic cycle of misunderstandings. It's like a broken record, with the same questions and answers spewing out, leaving viewers (and poor Ralph) in a whirlwind of confusion. The repetitive dialogue could be a fun Easter egg for fans of the movie, or it might just be a hilarious glitch in the system.\n",
      "\n",
      "### A Humorous Takeaway\n",
      "\n",
      "What can we learn from this? Sometimes, in the world of video game characters and their quirks, things don't always make sense, and that's what makes it so entertaining! Ralph's patience and the bizarre repetitiveness of the scene make for a hilarious watch. It's like a funny little adventure within the larger adventure of \"Wreck-It Ralph.\"\n",
      "\n",
      "So, next time you're feeling confused or lost in a world that doesn't seem to make sense, remember: it might just be a funny loop, and that's okay! Keep smiling and, most importantly, keep trimming those candy trees (or whatever your task may be)!\n",
      "==================================\u001b[1m Ai Message \u001b[0m==================================\n",
      "\n",
      "\n",
      "\n",
      "**Humor Rating:** 75/100 \n",
      "\n",
      "It's a good chuckle, especially when you realize the loop, but it might need a little more zesty comedic timing to reach full hilarity.\n"
     ]
    }
   ],
   "source": [
    "for event in graph.stream(initial_input,thread,stream_mode=\"values\"):\n",
    "    event['messages'][-1].pretty_print()"
   ]
  },
  {
   "cell_type": "code",
   "execution_count": 203,
   "metadata": {},
   "outputs": [
    {
     "data": {
      "text/plain": [
       "('human_feedback',)"
      ]
     },
     "execution_count": 203,
     "metadata": {},
     "output_type": "execute_result"
    }
   ],
   "source": [
    "state=graph.get_state(thread)\n",
    "state.next"
   ]
  },
  {
   "cell_type": "code",
   "execution_count": 194,
   "metadata": {},
   "outputs": [
    {
     "data": {
      "text/plain": [
       "StateSnapshot(values={'messages': [HumanMessage(content='wVhG59zh4uQ&list=PLA7lNLNvxTzig5dqfGl8DGbLOvUI08yXg&index=4', additional_kwargs={}, response_metadata={}, id='8378eb85-1089-4b11-be33-b4c65d23e99c'), AIMessage(content='', additional_kwargs={'tool_calls': [{'id': 'call_ya2c', 'function': {'arguments': '{\"video_id\": \"wVhG59zh4uQ\"}', 'name': 'yt_video_transcript_extractor'}, 'type': 'function'}]}, response_metadata={'token_usage': {'completion_tokens': 33, 'prompt_tokens': 255, 'total_tokens': 288, 'completion_time': 0.165, 'prompt_time': 0.01413485, 'queue_time': 0.23654114499999998, 'total_time': 0.17913485}, 'model_name': 'qwen-2.5-32b', 'system_fingerprint': 'fp_35f92f8282', 'finish_reason': 'tool_calls', 'logprobs': None}, id='run-c19d0619-8c84-4a17-8cf3-9457a0c3aa9b-0', tool_calls=[{'name': 'yt_video_transcript_extractor', 'args': {'video_id': 'wVhG59zh4uQ'}, 'id': 'call_ya2c', 'type': 'tool_call'}], usage_metadata={'input_tokens': 255, 'output_tokens': 33, 'total_tokens': 288}), HumanMessage(content=\"what's your name uh Ralph wreck-it Ralph\\nyou're not from here are you\\nno well yeah I mean I mean not from\\nright in this area I'm just doing some\\nwork here Oh kind of work there's some\\nroutine candy tree trimming uh you\\nprobably want to stand back in fact this\\nwhole area is technically closed while\\nwe're trimming who's we\\ncandy tree Department ah where is\\neverybody else\\noh it's just me today ah you just met\\nlike the Royal we\\nyep that's right hey are you a hobo no\\nI'm not a hobo\\nwhat's your name uh Ralph wreck-it Ralph\\nyou're not from here are you\\nno well yeah I mean I mean not from\\nright in this area I'm just doing some\\nwork here okay no work there's some\\nroutine candy tree trimming uh you\\nprobably want to stand back in fact this\\nwhole area is technically closed while\\nwe're trimming who's we\\ncandy tree Department ah where is\\neverybody else\\noh it's just me today huh you just met\\nlike the Royal we\\nyep that's right hey are you a hobo no\\nI'm not a hobo\\nyou\\nwhat's your name uh Ralph wreck-it Ralph\\nyou're not from here are you\\nno well yeah I mean I mean not from\\nright in this area I'm just doing some\\nwork here Oh kind of work there's some\\nroutine candy tree trimming uh you\\nprobably want to stand back in fact this\\nwhole area is technically closed while\\nwe're trimming who's we\\ncandy tree Department ah where is\\neverybody else\\noh it's just me today ah you just met\\nlike the Royal we yep that's right\\nhey are you a hobo no I'm not a hobo\", additional_kwargs={}, response_metadata={}, id='0c91bfd5-e149-4978-9e1c-31aeb0968de6'), AIMessage(content='Alright, let’s dive into the transcript of this YouTube video and turn it into a hilarious blog post!\\n\\n---\\n\\n### The Adventures of Wreck-It Ralph: The Candy Tree Trimmer\\n\\nImagine this: You’re wandering around a magical land, and out of nowhere, you bump into a guy who’s apparently here to trim trees. But not just any trees—candy trees! \\n\\n**You:** \"What’s your name, uh… Ralph?\"\\n\\n**Ralph:** \"Wreck-It Ralph.\"\\n\\n**You:** \"You’re not from around here, are you?\"\\n\\n**Ralph:** \"No, well, yeah. I mean, not from right here. I’m just doing some work.\"\\n\\nAnd here’s where it gets interesting. Ralph is trimming these candy trees, and he’s all, \"Oh, you probably want to stand back. This whole area is technically closed while we’re trimming.\"\\n\\n**You:** \"Who\\'s \\'we\\'?\"\\n\\n**Ralph:** \"Candy Tree Department.\"\\n\\n**You:** \"Where are the other members of the Candy Tree Department?\"\\n\\n**Ralph:** \"Oh, it’s just me today.\"\\n\\nSo, Ralph, the lone candy tree trimmer, is busy making sure the area is safe for everyone, even if it’s just him doing the job. And the best part? When you ask him if he’s a hobo, he’s quick to correct you:\\n\\n**You:** \"Are you a hobo?\"\\n\\n**Ralph:** \"No, I’m not a hobo.\"\\n\\nBut here’s the kicker: This conversation repeats itself, like a broken record. It’s like Ralph is stuck in an endless loop, repeating the same lines over and over again. It’s classic Wreck-It Ralph—confused, friendly, and a bit lost in a world he doesn’t quite understand.\\n\\nSo, next time you bump into Wreck-It Ralph, remember: He’s a candy tree trimmer, not a hobo, and he’s got the most awkward, repetitive, yet lovable conversation style that’ll make you laugh every time.\\n\\n---\\n\\nThere you have it! A humorous take on the transcript, perfect for a light-hearted blog post. Enjoy the laughs and the chaos that comes with Wreck-It Ralph’s adventures!', additional_kwargs={}, response_metadata={'token_usage': {'completion_tokens': 463, 'prompt_tokens': 676, 'total_tokens': 1139, 'completion_time': 2.315, 'prompt_time': 0.033792233, 'queue_time': 0.231272755, 'total_time': 2.348792233}, 'model_name': 'qwen-2.5-32b', 'system_fingerprint': 'fp_35f92f8282', 'finish_reason': 'stop', 'logprobs': None}, id='run-332b873c-40a0-4939-8926-8992c2ce17dd-0', usage_metadata={'input_tokens': 676, 'output_tokens': 463, 'total_tokens': 1139}), AIMessage(content=\"\\n\\n\\n\\n**Humor Rating:** 75/100 \\n\\n**Reasoning:** The humor stems from the repetition and Wreck-It Ralph's confused, endearing persona. It's a classic case of awkward comedy that works well with his character. \\n\", additional_kwargs={}, response_metadata={'token_usage': {'completion_tokens': 56, 'prompt_tokens': 976, 'total_tokens': 1032, 'completion_time': 0.101818182, 'prompt_time': 0.04209702, 'queue_time': 0.018074429000000003, 'total_time': 0.143915202}, 'model_name': 'gemma2-9b-it', 'system_fingerprint': 'fp_10c08bf97d', 'finish_reason': 'stop', 'logprobs': None}, id='run-4c43de62-d103-4307-a93b-ae0f10d02d9c-0', usage_metadata={'input_tokens': 976, 'output_tokens': 56, 'total_tokens': 1032})]}, next=('human_feedback',), config={'configurable': {'thread_id': '5', 'checkpoint_ns': '', 'checkpoint_id': '1eff5b68-3fbd-6829-8004-6c547b18dd2b'}}, metadata={'source': 'loop', 'writes': {'reviewer': {'messages': [AIMessage(content=\"\\n\\n\\n\\n**Humor Rating:** 75/100 \\n\\n**Reasoning:** The humor stems from the repetition and Wreck-It Ralph's confused, endearing persona. It's a classic case of awkward comedy that works well with his character. \\n\", additional_kwargs={}, response_metadata={'token_usage': {'completion_tokens': 56, 'prompt_tokens': 976, 'total_tokens': 1032, 'completion_time': 0.101818182, 'prompt_time': 0.04209702, 'queue_time': 0.018074429000000003, 'total_time': 0.143915202}, 'model_name': 'gemma2-9b-it', 'system_fingerprint': 'fp_10c08bf97d', 'finish_reason': 'stop', 'logprobs': None}, id='run-4c43de62-d103-4307-a93b-ae0f10d02d9c-0', usage_metadata={'input_tokens': 976, 'output_tokens': 56, 'total_tokens': 1032})]}}, 'thread_id': '5', 'step': 4, 'parents': {}}, created_at='2025-02-28T09:29:31.894788+00:00', parent_config={'configurable': {'thread_id': '5', 'checkpoint_ns': '', 'checkpoint_id': '1eff5b68-3b5d-6e50-8003-03169870a0d1'}}, tasks=(PregelTask(id='6da229c8-b2c8-6eeb-9997-51e2bdb8146e', name='human_feedback', path=('__pregel_pull', 'human_feedback'), error=None, interrupts=(), state=None, result=None),))"
      ]
     },
     "execution_count": 194,
     "metadata": {},
     "output_type": "execute_result"
    }
   ],
   "source": [
    "state"
   ]
  },
  {
   "cell_type": "code",
   "execution_count": 209,
   "metadata": {},
   "outputs": [
    {
     "data": {
      "text/plain": [
       "{'configurable': {'thread_id': '6',\n",
       "  'checkpoint_ns': '',\n",
       "  'checkpoint_id': '1eff5b8d-0660-6f72-8009-da3556b30959'}}"
      ]
     },
     "execution_count": 209,
     "metadata": {},
     "output_type": "execute_result"
    }
   ],
   "source": [
    "graph.update_state(thread,{\"messages\":[HumanMessage(content=\"Its good but need some dark humour in it\")]})"
   ]
  },
  {
   "cell_type": "code",
   "execution_count": 210,
   "metadata": {},
   "outputs": [
    {
     "name": "stdout",
     "output_type": "stream",
     "text": [
      "================================\u001b[1m Human Message \u001b[0m=================================\n",
      "\n",
      "wVhG59zh4uQ&list=PLA7lNLNvxTzig5dqfGl8DGbLOvUI08yXg&index=4\n",
      "==================================\u001b[1m Ai Message \u001b[0m==================================\n",
      "Tool Calls:\n",
      "  yt_video_transcript_extractor (call_zyfy)\n",
      " Call ID: call_zyfy\n",
      "  Args:\n",
      "    video_id: wVhG59zh4uQ\n",
      "================================\u001b[1m Human Message \u001b[0m=================================\n",
      "\n",
      "what's your name uh Ralph wreck-it Ralph\n",
      "you're not from here are you\n",
      "no well yeah I mean I mean not from\n",
      "right in this area I'm just doing some\n",
      "work here Oh kind of work there's some\n",
      "routine candy tree trimming uh you\n",
      "probably want to stand back in fact this\n",
      "whole area is technically closed while\n",
      "we're trimming who's we\n",
      "candy tree Department ah where is\n",
      "everybody else\n",
      "oh it's just me today ah you just met\n",
      "like the Royal we\n",
      "yep that's right hey are you a hobo no\n",
      "I'm not a hobo\n",
      "what's your name uh Ralph wreck-it Ralph\n",
      "you're not from here are you\n",
      "no well yeah I mean I mean not from\n",
      "right in this area I'm just doing some\n",
      "work here okay no work there's some\n",
      "routine candy tree trimming uh you\n",
      "probably want to stand back in fact this\n",
      "whole area is technically closed while\n",
      "we're trimming who's we\n",
      "candy tree Department ah where is\n",
      "everybody else\n",
      "oh it's just me today huh you just met\n",
      "like the Royal we\n",
      "yep that's right hey are you a hobo no\n",
      "I'm not a hobo\n",
      "you\n",
      "what's your name uh Ralph wreck-it Ralph\n",
      "you're not from here are you\n",
      "no well yeah I mean I mean not from\n",
      "right in this area I'm just doing some\n",
      "work here Oh kind of work there's some\n",
      "routine candy tree trimming uh you\n",
      "probably want to stand back in fact this\n",
      "whole area is technically closed while\n",
      "we're trimming who's we\n",
      "candy tree Department ah where is\n",
      "everybody else\n",
      "oh it's just me today ah you just met\n",
      "like the Royal we yep that's right\n",
      "hey are you a hobo no I'm not a hobo\n",
      "==================================\u001b[1m Ai Message \u001b[0m==================================\n",
      "\n",
      "Alright, let's take a humorous dive into the world of \"Wreck-It Ralph\" and this peculiar transcript, which seems to be an endless loop of confusion and repetition!\n",
      "\n",
      "### The Great Candy Tree Trimming Mystery\n",
      "\n",
      "Imagine a scene in the vibrant world of Sugar Rush, where our protagonist, Ralph, is trying to blend in at a new job. But, oh boy, things get a little...sticky. He's introduced to a mysterious figure in the Candy Tree Department, who seems overwhelmed and a bit lost. Let's break it down:\n",
      "\n",
      "1. **The Introduction:**\n",
      "   - **Mysterious Figure:** \"What's your name? Uh, Ralph, Wreck-It Ralph. You're not from here, are you?\"\n",
      "   - **Ralph:** \"No, well, yeah, I mean, not from right in this area. I'm just doing some work here.\"\n",
      "\n",
      "2. **The Candy Tree Trimming Job:**\n",
      "   - **Mysterious Figure:** \"Oh, kind of work? There's some routine candy tree trimming. Uh, you probably want to stand back. In fact, this whole area is technically closed while we're trimming. Who's 'we'?\"\n",
      "   - **Ralph:** *Might be wondering who this guy is talking to, but lets it slide.*\n",
      "\n",
      "3. **The Lone Ranger:**\n",
      "   - **Mysterious Figure:** \"Candy Tree Department. Ah, where is everybody else? Oh, it's just me today.\"\n",
      "   - **Ralph:** *Slightly confused but still trying to be polite.*\n",
      "\n",
      "4. **The Hobo Question:**\n",
      "   - **Mysterious Figure:** \"Hey, are you a hobo? No, I'm not a hobo.\"\n",
      "   - **Ralph:** *Eyes wide, probably wondering how to respond to this unexpected question.*\n",
      "\n",
      "### The Loop of Confusion\n",
      "\n",
      "The transcript repeats itself multiple times, creating a comedic cycle of misunderstandings. It's like a broken record, with the same questions and answers spewing out, leaving viewers (and poor Ralph) in a whirlwind of confusion. The repetitive dialogue could be a fun Easter egg for fans of the movie, or it might just be a hilarious glitch in the system.\n",
      "\n",
      "### A Humorous Takeaway\n",
      "\n",
      "What can we learn from this? Sometimes, in the world of video game characters and their quirks, things don't always make sense, and that's what makes it so entertaining! Ralph's patience and the bizarre repetitiveness of the scene make for a hilarious watch. It's like a funny little adventure within the larger adventure of \"Wreck-It Ralph.\"\n",
      "\n",
      "So, next time you're feeling confused or lost in a world that doesn't seem to make sense, remember: it might just be a funny loop, and that's okay! Keep smiling and, most importantly, keep trimming those candy trees (or whatever your task may be)!\n",
      "==================================\u001b[1m Ai Message \u001b[0m==================================\n",
      "\n",
      "\n",
      "\n",
      "**Humor Rating:** 75/100 \n",
      "\n",
      "It's a good chuckle, especially when you realize the loop, but it might need a little more zesty comedic timing to reach full hilarity.\n",
      "================================\u001b[1m Human Message \u001b[0m=================================\n",
      "\n",
      "I dont find hilarious\n",
      "==================================\u001b[1m Ai Message \u001b[0m==================================\n",
      "Tool Calls:\n",
      "  yt_video_transcript_extractor (call_nwq9)\n",
      " Call ID: call_nwq9\n",
      "  Args:\n",
      "    video_id: dZ7t3bZKO0k\n",
      "==================================\u001b[1m Ai Message \u001b[0m==================================\n",
      "\n",
      "You got it! Humor is subjective, so what cracks one person up might leave another scratching their head. \n",
      "\n",
      "Maybe the humor here is more subtle and relies on the awkwardness and absurdity of the situation. \n",
      "\n",
      "What *do* you find funny? Knowing your sense of humor could help me understand why this particular scene doesn't land for you.\n",
      "================================\u001b[1m Human Message \u001b[0m=================================\n",
      "\n",
      "Its good but need some dark humour in it\n"
     ]
    }
   ],
   "source": [
    "new_state = graph.get_state(thread).values\n",
    "for m in new_state['messages']:\n",
    "    m.pretty_print()"
   ]
  },
  {
   "cell_type": "code",
   "execution_count": 211,
   "metadata": {},
   "outputs": [
    {
     "name": "stdout",
     "output_type": "stream",
     "text": [
      "================================\u001b[1m Human Message \u001b[0m=================================\n",
      "\n",
      "Its good but need some dark humour in it\n",
      "Decision: negative\n",
      "================================\u001b[1m Human Message \u001b[0m=================================\n",
      "\n",
      "Its good but need some dark humour in it\n",
      "==================================\u001b[1m Ai Message \u001b[0m==================================\n",
      "Tool Calls:\n",
      "  yt_video_transcript_extractor (call_95th)\n",
      " Call ID: call_95th\n",
      "  Args:\n",
      "    video_id: dZ7t3b5kK5g\n",
      "==================================\u001b[1m Ai Message \u001b[0m==================================\n",
      "\n",
      "Okay, I see where you're coming from! Injecting some dark humor into this scene could definitely crank up the laughs for you. \n",
      "\n",
      "Here's how we could twist the candy tree trimming scenario to be a bit more darkly comedic:\n",
      "\n",
      "* **Twisted Motivation:** Instead of routine maintenance, Ralph is actually sabotaging the candy trees, slowly poisoning them with despair and existential dread. He's tired of the sugary sweetness and wants to bring some \"real world\" problems to Sugar Rush.\n",
      "\n",
      "* **The Hobo's Backstory:**  The hobo isn't just a random passerby. He's actually a disgruntled former candy tree trimmer who was fired for \"lacking enthusiasm\" and now roams the streets, spreading his bitterness and warning others about the dangers of \"artificial happiness.\"\n",
      "\n",
      "* **Candy Tree Apocalypse:** The candy trees aren't just trees – they're sentient beings with a dark secret. They feed off the happiness of the citizens of Sugar Rush, and Ralph accidentally stumbles upon their sinister plan to take over the world.\n",
      "\n",
      "* **Ralph's Inner Turmoil:** Ralph is struggling with his own identity crisis. He wants to be a hero, but he also secretly enjoys the chaos he causes. He contemplates the moral implications of his candy tree trimming while munching on a lollipop, creating a hilarious internal conflict.\n",
      "\n",
      "\n",
      "\n",
      "By adding a layer of darkness and irony, we can turn this simple scene into something much more subversive and darkly comedic. \n",
      "\n",
      "\n",
      "Let me know if you want to brainstorm further!\n"
     ]
    }
   ],
   "source": [
    "for event in graph.stream(None, thread, stream_mode=\"values\"):\n",
    "    event['messages'][-1].pretty_print()"
   ]
  },
  {
   "cell_type": "code",
   "execution_count": 212,
   "metadata": {},
   "outputs": [
    {
     "data": {
      "text/plain": [
       "('human_feedback',)"
      ]
     },
     "execution_count": 212,
     "metadata": {},
     "output_type": "execute_result"
    }
   ],
   "source": [
    "state=graph.get_state(thread)\n",
    "state.next"
   ]
  },
  {
   "cell_type": "code",
   "execution_count": 213,
   "metadata": {},
   "outputs": [
    {
     "data": {
      "text/plain": [
       "StateSnapshot(values={'messages': [HumanMessage(content='wVhG59zh4uQ&list=PLA7lNLNvxTzig5dqfGl8DGbLOvUI08yXg&index=4', additional_kwargs={}, response_metadata={}, id='20d8dfb1-8595-4a6a-8de0-3296f876fa6c'), AIMessage(content='', additional_kwargs={'tool_calls': [{'id': 'call_zyfy', 'function': {'arguments': '{\"video_id\": \"wVhG59zh4uQ\"}', 'name': 'yt_video_transcript_extractor'}, 'type': 'function'}]}, response_metadata={'token_usage': {'completion_tokens': 33, 'prompt_tokens': 255, 'total_tokens': 288, 'completion_time': 0.165, 'prompt_time': 0.016382687, 'queue_time': 0.23514914999999997, 'total_time': 0.181382687}, 'model_name': 'qwen-2.5-32b', 'system_fingerprint': 'fp_35f92f8282', 'finish_reason': 'tool_calls', 'logprobs': None}, id='run-94b0f495-423c-4968-8209-8ef52a7cfd91-0', tool_calls=[{'name': 'yt_video_transcript_extractor', 'args': {'video_id': 'wVhG59zh4uQ'}, 'id': 'call_zyfy', 'type': 'tool_call'}], usage_metadata={'input_tokens': 255, 'output_tokens': 33, 'total_tokens': 288}), HumanMessage(content=\"what's your name uh Ralph wreck-it Ralph\\nyou're not from here are you\\nno well yeah I mean I mean not from\\nright in this area I'm just doing some\\nwork here Oh kind of work there's some\\nroutine candy tree trimming uh you\\nprobably want to stand back in fact this\\nwhole area is technically closed while\\nwe're trimming who's we\\ncandy tree Department ah where is\\neverybody else\\noh it's just me today ah you just met\\nlike the Royal we\\nyep that's right hey are you a hobo no\\nI'm not a hobo\\nwhat's your name uh Ralph wreck-it Ralph\\nyou're not from here are you\\nno well yeah I mean I mean not from\\nright in this area I'm just doing some\\nwork here okay no work there's some\\nroutine candy tree trimming uh you\\nprobably want to stand back in fact this\\nwhole area is technically closed while\\nwe're trimming who's we\\ncandy tree Department ah where is\\neverybody else\\noh it's just me today huh you just met\\nlike the Royal we\\nyep that's right hey are you a hobo no\\nI'm not a hobo\\nyou\\nwhat's your name uh Ralph wreck-it Ralph\\nyou're not from here are you\\nno well yeah I mean I mean not from\\nright in this area I'm just doing some\\nwork here Oh kind of work there's some\\nroutine candy tree trimming uh you\\nprobably want to stand back in fact this\\nwhole area is technically closed while\\nwe're trimming who's we\\ncandy tree Department ah where is\\neverybody else\\noh it's just me today ah you just met\\nlike the Royal we yep that's right\\nhey are you a hobo no I'm not a hobo\", additional_kwargs={}, response_metadata={}, id='51dc958c-4b53-45b6-9784-a84569955284'), AIMessage(content='Alright, let\\'s take a humorous dive into the world of \"Wreck-It Ralph\" and this peculiar transcript, which seems to be an endless loop of confusion and repetition!\\n\\n### The Great Candy Tree Trimming Mystery\\n\\nImagine a scene in the vibrant world of Sugar Rush, where our protagonist, Ralph, is trying to blend in at a new job. But, oh boy, things get a little...sticky. He\\'s introduced to a mysterious figure in the Candy Tree Department, who seems overwhelmed and a bit lost. Let\\'s break it down:\\n\\n1. **The Introduction:**\\n   - **Mysterious Figure:** \"What\\'s your name? Uh, Ralph, Wreck-It Ralph. You\\'re not from here, are you?\"\\n   - **Ralph:** \"No, well, yeah, I mean, not from right in this area. I\\'m just doing some work here.\"\\n\\n2. **The Candy Tree Trimming Job:**\\n   - **Mysterious Figure:** \"Oh, kind of work? There\\'s some routine candy tree trimming. Uh, you probably want to stand back. In fact, this whole area is technically closed while we\\'re trimming. Who\\'s \\'we\\'?\"\\n   - **Ralph:** *Might be wondering who this guy is talking to, but lets it slide.*\\n\\n3. **The Lone Ranger:**\\n   - **Mysterious Figure:** \"Candy Tree Department. Ah, where is everybody else? Oh, it\\'s just me today.\"\\n   - **Ralph:** *Slightly confused but still trying to be polite.*\\n\\n4. **The Hobo Question:**\\n   - **Mysterious Figure:** \"Hey, are you a hobo? No, I\\'m not a hobo.\"\\n   - **Ralph:** *Eyes wide, probably wondering how to respond to this unexpected question.*\\n\\n### The Loop of Confusion\\n\\nThe transcript repeats itself multiple times, creating a comedic cycle of misunderstandings. It\\'s like a broken record, with the same questions and answers spewing out, leaving viewers (and poor Ralph) in a whirlwind of confusion. The repetitive dialogue could be a fun Easter egg for fans of the movie, or it might just be a hilarious glitch in the system.\\n\\n### A Humorous Takeaway\\n\\nWhat can we learn from this? Sometimes, in the world of video game characters and their quirks, things don\\'t always make sense, and that\\'s what makes it so entertaining! Ralph\\'s patience and the bizarre repetitiveness of the scene make for a hilarious watch. It\\'s like a funny little adventure within the larger adventure of \"Wreck-It Ralph.\"\\n\\nSo, next time you\\'re feeling confused or lost in a world that doesn\\'t seem to make sense, remember: it might just be a funny loop, and that\\'s okay! Keep smiling and, most importantly, keep trimming those candy trees (or whatever your task may be)!', additional_kwargs={}, response_metadata={'token_usage': {'completion_tokens': 592, 'prompt_tokens': 676, 'total_tokens': 1268, 'completion_time': 2.96, 'prompt_time': 0.03375641, 'queue_time': 0.229498176, 'total_time': 2.99375641}, 'model_name': 'qwen-2.5-32b', 'system_fingerprint': 'fp_35f92f8282', 'finish_reason': 'stop', 'logprobs': None}, id='run-eb1d3fd2-1c19-4142-8d16-653b6abb1920-0', usage_metadata={'input_tokens': 676, 'output_tokens': 592, 'total_tokens': 1268}), AIMessage(content=\"\\n\\n**Humor Rating:** 75/100 \\n\\nIt's a good chuckle, especially when you realize the loop, but it might need a little more zesty comedic timing to reach full hilarity. \\n\\n\\n\\n\", additional_kwargs={}, response_metadata={'token_usage': {'completion_tokens': 49, 'prompt_tokens': 1093, 'total_tokens': 1142, 'completion_time': 0.089090909, 'prompt_time': 0.038226162, 'queue_time': 0.022112821999999997, 'total_time': 0.127317071}, 'model_name': 'gemma2-9b-it', 'system_fingerprint': 'fp_10c08bf97d', 'finish_reason': 'stop', 'logprobs': None}, id='run-38d697b6-82c5-4637-ae31-7c52be8f63cb-0', usage_metadata={'input_tokens': 1093, 'output_tokens': 49, 'total_tokens': 1142}), HumanMessage(content='I dont find hilarious', additional_kwargs={}, response_metadata={}, id='61c00c31-58f8-4dbf-914d-c19a3b93086a'), AIMessage(content='', additional_kwargs={'tool_calls': [{'id': 'call_nwq9', 'function': {'arguments': '{\"video_id\": \"dZ7t3bZKO0k\"}', 'name': 'yt_video_transcript_extractor'}, 'type': 'function'}]}, response_metadata={'token_usage': {'completion_tokens': 71, 'prompt_tokens': 793, 'total_tokens': 864, 'completion_time': 0.355, 'prompt_time': 0.042740838, 'queue_time': 0.23704783499999998, 'total_time': 0.397740838}, 'model_name': 'qwen-2.5-32b', 'system_fingerprint': 'fp_35f92f8282', 'finish_reason': 'tool_calls', 'logprobs': None}, id='run-93529123-536f-4c4c-a18d-36ab4b338af9-0', tool_calls=[{'name': 'yt_video_transcript_extractor', 'args': {'video_id': 'dZ7t3bZKO0k'}, 'id': 'call_nwq9', 'type': 'tool_call'}], usage_metadata={'input_tokens': 793, 'output_tokens': 71, 'total_tokens': 864}), AIMessage(content=\"You got it! Humor is subjective, so what cracks one person up might leave another scratching their head. \\n\\nMaybe the humor here is more subtle and relies on the awkwardness and absurdity of the situation. \\n\\nWhat *do* you find funny? Knowing your sense of humor could help me understand why this particular scene doesn't land for you. \\n\\n\", additional_kwargs={}, response_metadata={'token_usage': {'completion_tokens': 77, 'prompt_tokens': 1163, 'total_tokens': 1240, 'completion_time': 0.14, 'prompt_time': 0.040988506, 'queue_time': 0.022432356999999993, 'total_time': 0.180988506}, 'model_name': 'gemma2-9b-it', 'system_fingerprint': 'fp_10c08bf97d', 'finish_reason': 'stop', 'logprobs': None}, id='run-00221b95-0633-453b-8614-0471012ff85a-0', usage_metadata={'input_tokens': 1163, 'output_tokens': 77, 'total_tokens': 1240}), HumanMessage(content='Its good but need some dark humour in it', additional_kwargs={}, response_metadata={}, id='1d719780-d52b-469d-af42-a87d9790b09a'), AIMessage(content='', additional_kwargs={'tool_calls': [{'id': 'call_95th', 'function': {'arguments': '{\"video_id\": \"dZ7t3b5kK5g\"}', 'name': 'yt_video_transcript_extractor'}, 'type': 'function'}]}, response_metadata={'token_usage': {'completion_tokens': 34, 'prompt_tokens': 793, 'total_tokens': 827, 'completion_time': 0.17, 'prompt_time': 0.039041134, 'queue_time': 0.23750638999999998, 'total_time': 0.209041134}, 'model_name': 'qwen-2.5-32b', 'system_fingerprint': 'fp_35f92f8282', 'finish_reason': 'tool_calls', 'logprobs': None}, id='run-ce308747-9677-4064-bfb2-42f4793753ce-0', tool_calls=[{'name': 'yt_video_transcript_extractor', 'args': {'video_id': 'dZ7t3b5kK5g'}, 'id': 'call_95th', 'type': 'tool_call'}], usage_metadata={'input_tokens': 793, 'output_tokens': 34, 'total_tokens': 827}), AIMessage(content='Okay, I see where you\\'re coming from! Injecting some dark humor into this scene could definitely crank up the laughs for you. \\n\\nHere\\'s how we could twist the candy tree trimming scenario to be a bit more darkly comedic:\\n\\n* **Twisted Motivation:** Instead of routine maintenance, Ralph is actually sabotaging the candy trees, slowly poisoning them with despair and existential dread. He\\'s tired of the sugary sweetness and wants to bring some \"real world\" problems to Sugar Rush.\\n\\n* **The Hobo\\'s Backstory:**  The hobo isn\\'t just a random passerby. He\\'s actually a disgruntled former candy tree trimmer who was fired for \"lacking enthusiasm\" and now roams the streets, spreading his bitterness and warning others about the dangers of \"artificial happiness.\"\\n\\n* **Candy Tree Apocalypse:** The candy trees aren\\'t just trees – they\\'re sentient beings with a dark secret. They feed off the happiness of the citizens of Sugar Rush, and Ralph accidentally stumbles upon their sinister plan to take over the world.\\n\\n* **Ralph\\'s Inner Turmoil:** Ralph is struggling with his own identity crisis. He wants to be a hero, but he also secretly enjoys the chaos he causes. He contemplates the moral implications of his candy tree trimming while munching on a lollipop, creating a hilarious internal conflict.\\n\\n\\n\\nBy adding a layer of darkness and irony, we can turn this simple scene into something much more subversive and darkly comedic. \\n\\n\\nLet me know if you want to brainstorm further!\\n', additional_kwargs={}, response_metadata={'token_usage': {'completion_tokens': 317, 'prompt_tokens': 1266, 'total_tokens': 1583, 'completion_time': 0.576363636, 'prompt_time': 0.044272566, 'queue_time': 0.020224307999999996, 'total_time': 0.620636202}, 'model_name': 'gemma2-9b-it', 'system_fingerprint': 'fp_10c08bf97d', 'finish_reason': 'stop', 'logprobs': None}, id='run-077eb873-aac0-4dc8-af41-341608ea0008-0', usage_metadata={'input_tokens': 1266, 'output_tokens': 317, 'total_tokens': 1583})]}, next=('human_feedback',), config={'configurable': {'thread_id': '6', 'checkpoint_ns': '', 'checkpoint_id': '1eff5b8d-8728-61d1-800c-4c3b43443790'}}, metadata={'source': 'loop', 'writes': {'reviewer': {'messages': [AIMessage(content='Okay, I see where you\\'re coming from! Injecting some dark humor into this scene could definitely crank up the laughs for you. \\n\\nHere\\'s how we could twist the candy tree trimming scenario to be a bit more darkly comedic:\\n\\n* **Twisted Motivation:** Instead of routine maintenance, Ralph is actually sabotaging the candy trees, slowly poisoning them with despair and existential dread. He\\'s tired of the sugary sweetness and wants to bring some \"real world\" problems to Sugar Rush.\\n\\n* **The Hobo\\'s Backstory:**  The hobo isn\\'t just a random passerby. He\\'s actually a disgruntled former candy tree trimmer who was fired for \"lacking enthusiasm\" and now roams the streets, spreading his bitterness and warning others about the dangers of \"artificial happiness.\"\\n\\n* **Candy Tree Apocalypse:** The candy trees aren\\'t just trees – they\\'re sentient beings with a dark secret. They feed off the happiness of the citizens of Sugar Rush, and Ralph accidentally stumbles upon their sinister plan to take over the world.\\n\\n* **Ralph\\'s Inner Turmoil:** Ralph is struggling with his own identity crisis. He wants to be a hero, but he also secretly enjoys the chaos he causes. He contemplates the moral implications of his candy tree trimming while munching on a lollipop, creating a hilarious internal conflict.\\n\\n\\n\\nBy adding a layer of darkness and irony, we can turn this simple scene into something much more subversive and darkly comedic. \\n\\n\\nLet me know if you want to brainstorm further!\\n', additional_kwargs={}, response_metadata={'token_usage': {'completion_tokens': 317, 'prompt_tokens': 1266, 'total_tokens': 1583, 'completion_time': 0.576363636, 'prompt_time': 0.044272566, 'queue_time': 0.020224307999999996, 'total_time': 0.620636202}, 'model_name': 'gemma2-9b-it', 'system_fingerprint': 'fp_10c08bf97d', 'finish_reason': 'stop', 'logprobs': None}, id='run-077eb873-aac0-4dc8-af41-341608ea0008-0', usage_metadata={'input_tokens': 1266, 'output_tokens': 317, 'total_tokens': 1583})]}}, 'thread_id': '6', 'step': 12, 'parents': {}}, created_at='2025-02-28T09:46:12.594529+00:00', parent_config={'configurable': {'thread_id': '6', 'checkpoint_ns': '', 'checkpoint_id': '1eff5b8d-7dab-67e3-800b-de9d2b526865'}}, tasks=(PregelTask(id='14a863f2-54bd-dc12-feb3-e7eaaae6d289', name='human_feedback', path=('__pregel_pull', 'human_feedback'), error=None, interrupts=(), state=None, result=None),))"
      ]
     },
     "execution_count": 213,
     "metadata": {},
     "output_type": "execute_result"
    }
   ],
   "source": [
    "state"
   ]
  },
  {
   "cell_type": "code",
   "execution_count": 215,
   "metadata": {},
   "outputs": [
    {
     "data": {
      "text/plain": [
       "{'configurable': {'thread_id': '6',\n",
       "  'checkpoint_ns': '',\n",
       "  'checkpoint_id': '1eff5b9c-7c99-669d-800d-519142c9a027'}}"
      ]
     },
     "execution_count": 215,
     "metadata": {},
     "output_type": "execute_result"
    }
   ],
   "source": [
    "graph.update_state(thread,{\"messages\":[HumanMessage(content=\"Its good now. Thanks\")]})"
   ]
  },
  {
   "cell_type": "code",
   "execution_count": 217,
   "metadata": {},
   "outputs": [
    {
     "name": "stdout",
     "output_type": "stream",
     "text": [
      "================================\u001b[1m Human Message \u001b[0m=================================\n",
      "\n",
      "Its good now. Thanks\n",
      "Decision: positive\n",
      "================================\u001b[1m Human Message \u001b[0m=================================\n",
      "\n",
      "Its good now. Thanks\n"
     ]
    }
   ],
   "source": [
    "for event in graph.stream(None, thread, stream_mode=\"values\"):\n",
    "    event['messages'][-1].pretty_print()"
   ]
  },
  {
   "cell_type": "code",
   "execution_count": 218,
   "metadata": {},
   "outputs": [
    {
     "data": {
      "text/plain": [
       "()"
      ]
     },
     "execution_count": 218,
     "metadata": {},
     "output_type": "execute_result"
    }
   ],
   "source": [
    "state=graph.get_state(thread)\n",
    "state.next"
   ]
  }
 ],
 "metadata": {
  "kernelspec": {
   "display_name": "venv1",
   "language": "python",
   "name": "python3"
  },
  "language_info": {
   "codemirror_mode": {
    "name": "ipython",
    "version": 3
   },
   "file_extension": ".py",
   "mimetype": "text/x-python",
   "name": "python",
   "nbconvert_exporter": "python",
   "pygments_lexer": "ipython3",
   "version": "3.12.0"
  }
 },
 "nbformat": 4,
 "nbformat_minor": 2
}
