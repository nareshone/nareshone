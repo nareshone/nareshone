{
 "cells": [
  {
   "cell_type": "code",
   "execution_count": 0,
   "metadata": {
    "application/vnd.databricks.v1+cell": {
     "cellMetadata": {
      "byteLimit": 2048000,
      "rowLimit": 10000
     },
     "inputWidgets": {},
     "nuid": "6406ae3f-982e-41f7-a523-81d48f248a1a",
     "showTitle": false,
     "title": ""
    }
   },
   "outputs": [],
   "source": [
    "# Read CSV file into DataFrame\n",
    "csv_file_path = \"/FileStore/tables/Online_Sales_Data_1.csv\"\n",
    "df = spark.read.csv(csv_file_path, header=True)\n",
    "\n"
   ]
  },
  {
   "cell_type": "code",
   "execution_count": 0,
   "metadata": {
    "application/vnd.databricks.v1+cell": {
     "cellMetadata": {
      "byteLimit": 2048000,
      "rowLimit": 10000
     },
     "inputWidgets": {},
     "nuid": "877d1781-dc65-4410-afbf-6b4e8f499c65",
     "showTitle": false,
     "title": ""
    }
   },
   "outputs": [
    {
     "name": "stdout",
     "output_type": "stream",
     "text": [
      "root\n",
      " |-- ID: string (nullable = true)\n",
      " |-- Date: string (nullable = true)\n",
      " |-- Category: string (nullable = true)\n",
      " |-- Name: string (nullable = true)\n",
      " |-- Units: string (nullable = true)\n",
      " |-- Unit_Price: string (nullable = true)\n",
      " |-- Total_Revenue: string (nullable = true)\n",
      " |-- Region: string (nullable = true)\n",
      " |-- Payment_Method: string (nullable = true)\n",
      "\n",
      "+-----+----------+---------------+--------------------+-----+----------+-------------+-------------+--------------+\n",
      "|   ID|      Date|       Category|                Name|Units|Unit_Price|Total_Revenue|       Region|Payment_Method|\n",
      "+-----+----------+---------------+--------------------+-----+----------+-------------+-------------+--------------+\n",
      "|10001|01-01-2024|    Electronics|       iPhone 14 Pro|    2|    999.99|      1999.98|North America|   Credit Card|\n",
      "|10002|02-01-2024|Home Appliances|    Dyson V11 Vacuum|    1|    499.99|       499.99|       Europe|        PayPal|\n",
      "|10003|03-01-2024|       Clothing|    Levi's 501 Jeans|    3|     69.99|       209.97|         Asia|    Debit Card|\n",
      "|10004|04-01-2024|          Books|   The Da Vinci Code|    4|     15.99|        63.96|North America|   Credit Card|\n",
      "|10005|05-01-2024|Beauty Products|Neutrogena Skinca...|    1|     89.99|        89.99|       Europe|        PayPal|\n",
      "+-----+----------+---------------+--------------------+-----+----------+-------------+-------------+--------------+\n",
      "only showing top 5 rows\n",
      "\n"
     ]
    }
   ],
   "source": [
    "# Display schema of DataFrame\n",
    "df.printSchema()\n",
    "\n",
    "# Display content of DataFrame\n",
    "df.show(5)"
   ]
  },
  {
   "cell_type": "code",
   "execution_count": 0,
   "metadata": {
    "application/vnd.databricks.v1+cell": {
     "cellMetadata": {
      "byteLimit": 2048000,
      "rowLimit": 10000
     },
     "inputWidgets": {},
     "nuid": "1b06f6ae-3a2d-4c69-95f3-284fb0d09e6f",
     "showTitle": false,
     "title": ""
    }
   },
   "outputs": [
    {
     "name": "stdout",
     "output_type": "stream",
     "text": [
      "Selected Columns:\n",
      "+-----+--------------------+----------+\n",
      "|   ID|                Name|Unit_Price|\n",
      "+-----+--------------------+----------+\n",
      "|10001|       iPhone 14 Pro|    999.99|\n",
      "|10002|    Dyson V11 Vacuum|    499.99|\n",
      "|10003|    Levi's 501 Jeans|     69.99|\n",
      "|10004|   The Da Vinci Code|     15.99|\n",
      "|10005|Neutrogena Skinca...|     89.99|\n",
      "|10006|Wilson Evolution ...|     29.99|\n",
      "|10007| MacBook Pro 16-inch|   2499.99|\n",
      "|10008|Blueair Classic 480i|    599.99|\n",
      "|10009|    Nike Air Force 1|     89.99|\n",
      "|10010|Dune by Frank Her...|     25.99|\n",
      "+-----+--------------------+----------+\n",
      "only showing top 10 rows\n",
      "\n"
     ]
    }
   ],
   "source": [
    "# Select specific columns\n",
    "selected_columns = df.select(\"ID\", \"Name\", \"Unit_Price\")\n",
    "print(\"Selected Columns:\")\n",
    "selected_columns.show(10)"
   ]
  },
  {
   "cell_type": "markdown",
   "metadata": {
    "application/vnd.databricks.v1+cell": {
     "cellMetadata": {},
     "inputWidgets": {},
     "nuid": "75b97294-a199-44b9-b390-b84e3556e74a",
     "showTitle": false,
     "title": ""
    }
   },
   "source": [
    "Filter: Apply conditions to filter rows.\n"
   ]
  },
  {
   "cell_type": "code",
   "execution_count": 0,
   "metadata": {
    "application/vnd.databricks.v1+cell": {
     "cellMetadata": {
      "byteLimit": 2048000,
      "rowLimit": 10000
     },
     "inputWidgets": {},
     "nuid": "ecd287f4-15ca-43d9-9969-15697c1839f9",
     "showTitle": false,
     "title": ""
    }
   },
   "outputs": [
    {
     "name": "stdout",
     "output_type": "stream",
     "text": [
      "Filtered Data: 5\n",
      "+-----+----------+--------+--------------------+-----+----------+-------------+------+--------------+\n",
      "|   ID|      Date|Category|                Name|Units|Unit_Price|Total_Revenue|Region|Payment_Method|\n",
      "+-----+----------+--------+--------------------+-----+----------+-------------+------+--------------+\n",
      "|10009|09-01-2024|Clothing|    Nike Air Force 1|    6|     89.99|       539.94|  Asia|    Debit Card|\n",
      "|10048|17-02-2024|  Sports|Yeti Rambler Tumbler|    6|     39.99|       239.94|  Asia|   Credit Card|\n",
      "|10063|03-03-2024|Clothing|Hanes ComfortSoft...|   10|      9.99|         99.9|  Asia|    Debit Card|\n",
      "|10084|24-03-2024|  Sports|Spalding NBA Stre...|    6|     24.99|       149.94|  Asia|   Credit Card|\n",
      "|10099|08-04-2024|Clothing|Gap Essential Cre...|    6|     19.99|       119.94|  Asia|    Debit Card|\n",
      "+-----+----------+--------+--------------------+-----+----------+-------------+------+--------------+\n",
      "\n"
     ]
    }
   ],
   "source": [
    "# Filter rows based on a condition\n",
    "filtered_data = df.filter(df.Units > 5)\n",
    "print(\"Filtered Data:\", filtered_data.count())\n",
    "filtered_data.show()"
   ]
  },
  {
   "cell_type": "markdown",
   "metadata": {
    "application/vnd.databricks.v1+cell": {
     "cellMetadata": {},
     "inputWidgets": {},
     "nuid": "f55dc1eb-ddb2-46aa-bd2d-636fc0c342ec",
     "showTitle": false,
     "title": ""
    }
   },
   "source": [
    "GroupBy: Group data based on specific columns\n",
    "Aggregations: Perform functions like sum, average, etc., on grouped data."
   ]
  },
  {
   "cell_type": "code",
   "execution_count": 0,
   "metadata": {
    "application/vnd.databricks.v1+cell": {
     "cellMetadata": {
      "byteLimit": 2048000,
      "rowLimit": 10000
     },
     "inputWidgets": {},
     "nuid": "ae1172a4-90fa-4281-b844-834ca0a1c6e4",
     "showTitle": false,
     "title": ""
    }
   },
   "outputs": [
    {
     "name": "stdout",
     "output_type": "stream",
     "text": [
      "Grouped and Aggregated Data:\n",
      "+---------------+----------+------------------+\n",
      "|       Category|sum(Units)|   avg(Unit_Price)|\n",
      "+---------------+----------+------------------+\n",
      "|         Sports|      88.0| 261.2839999999999|\n",
      "|    Electronics|      66.0| 691.5915000000003|\n",
      "|       Clothing|     145.0| 67.53649999999999|\n",
      "|Beauty Products|      46.0|61.623000000000005|\n",
      "|          Books|     114.0|16.153000000000006|\n",
      "|Home Appliances|      59.0|320.18549999999993|\n",
      "+---------------+----------+------------------+\n",
      "\n"
     ]
    }
   ],
   "source": [
    "# GroupBy and Aggregations\n",
    "grouped_data = df.groupBy(\"Category\").agg({\"Units\": \"sum\", \"Unit_Price\": \"avg\"})\n",
    "print(\"Grouped and Aggregated Data:\")\n",
    "grouped_data.show()"
   ]
  },
  {
   "cell_type": "markdown",
   "metadata": {
    "application/vnd.databricks.v1+cell": {
     "cellMetadata": {},
     "inputWidgets": {},
     "nuid": "1e2eaea2-d029-4f14-adef-db4c55e95cc2",
     "showTitle": false,
     "title": ""
    }
   },
   "source": [
    "Join: Combine multiple DataFrames based on specified columns."
   ]
  },
  {
   "cell_type": "code",
   "execution_count": 0,
   "metadata": {
    "application/vnd.databricks.v1+cell": {
     "cellMetadata": {
      "byteLimit": 2048000,
      "rowLimit": 10000
     },
     "inputWidgets": {},
     "nuid": "fee0c1ed-7984-41fd-a9a7-700e8fa93a4d",
     "showTitle": false,
     "title": ""
    }
   },
   "outputs": [
    {
     "name": "stdout",
     "output_type": "stream",
     "text": [
      "Joined Data:\n",
      "+-----+----------+---------------+--------------------+-----+----------+-------------+-------------+--------------+---------------+\n",
      "|   ID|      Date|       Category|                Name|Units|Unit_Price|Total_Revenue|       Region|Payment_Method|       category|\n",
      "+-----+----------+---------------+--------------------+-----+----------+-------------+-------------+--------------+---------------+\n",
      "|10001|01-01-2024|    Electronics|       iPhone 14 Pro|    2|    999.99|      1999.98|North America|   Credit Card|    Electronics|\n",
      "|10002|02-01-2024|Home Appliances|    Dyson V11 Vacuum|    1|    499.99|       499.99|       Europe|        PayPal|Home Appliances|\n",
      "|10003|03-01-2024|       Clothing|    Levi's 501 Jeans|    3|     69.99|       209.97|         Asia|    Debit Card|       Clothing|\n",
      "|10004|04-01-2024|          Books|   The Da Vinci Code|    4|     15.99|        63.96|North America|   Credit Card|          Books|\n",
      "|10005|05-01-2024|Beauty Products|Neutrogena Skinca...|    1|     89.99|        89.99|       Europe|        PayPal|Beauty Products|\n",
      "|10006|06-01-2024|         Sports|Wilson Evolution ...|    5|     29.99|       149.95|         Asia|   Credit Card|         Sports|\n",
      "|10007|07-01-2024|    Electronics| MacBook Pro 16-inch|    1|   2499.99|      2499.99|North America|   Credit Card|    Electronics|\n",
      "|10008|08-01-2024|Home Appliances|Blueair Classic 480i|    2|    599.99|      1199.98|       Europe|        PayPal|Home Appliances|\n",
      "|10009|09-01-2024|       Clothing|    Nike Air Force 1|    6|     89.99|       539.94|         Asia|    Debit Card|       Clothing|\n",
      "|10010|10-01-2024|          Books|Dune by Frank Her...|    2|     25.99|        51.98|North America|   Credit Card|          Books|\n",
      "+-----+----------+---------------+--------------------+-----+----------+-------------+-------------+--------------+---------------+\n",
      "\n"
     ]
    }
   ],
   "source": [
    "# Join with another DataFrame\n",
    "df2 = df.select(\"id\", \"category\").limit(10)\n",
    "joined_data = df.join(df2, \"id\", \"inner\")\n",
    "print(\"Joined Data:\")\n",
    "joined_data.show()"
   ]
  },
  {
   "cell_type": "markdown",
   "metadata": {
    "application/vnd.databricks.v1+cell": {
     "cellMetadata": {},
     "inputWidgets": {},
     "nuid": "8a06c632-1365-401c-8653-5d1d0165a6de",
     "showTitle": false,
     "title": ""
    }
   },
   "source": [
    "Sort: Arrange rows based on one or more columns."
   ]
  },
  {
   "cell_type": "code",
   "execution_count": 0,
   "metadata": {
    "application/vnd.databricks.v1+cell": {
     "cellMetadata": {
      "byteLimit": 2048000,
      "rowLimit": 10000
     },
     "inputWidgets": {},
     "nuid": "038878ad-6c91-40b5-95b3-fff9820dc256",
     "showTitle": false,
     "title": ""
    }
   },
   "outputs": [
    {
     "name": "stdout",
     "output_type": "stream",
     "text": [
      "Sorted Data:\n",
      "+-----+----------+---------------+--------------------+-----+----------+-------------+-------------+--------------+\n",
      "|   ID|      Date|       Category|                Name|Units|Unit_Price|Total_Revenue|       Region|Payment_Method|\n",
      "+-----+----------+---------------+--------------------+-----+----------+-------------+-------------+--------------+\n",
      "|10070|10-03-2024|          Books|The Great Gatsby ...|    2|     10.99|        21.98|North America|   Credit Card|\n",
      "|10106|15-04-2024|          Books|The Girl on the T...|    4|     10.99|        43.96|North America|   Credit Card|\n",
      "|10148|27-05-2024|          Books|The Outsiders by ...|    3|     10.99|        32.97|North America|   Credit Card|\n",
      "|10190|08-07-2024|          Books|The Catcher in th...|    3|     10.99|        32.97|North America|   Credit Card|\n",
      "|10214|01-08-2024|          Books|The Girl with the...|    3|     10.99|        32.97|North America|   Credit Card|\n",
      "|10238|25-08-2024|          Books|The Handmaid's Ta...|    3|     10.99|        32.97|North America|   Credit Card|\n",
      "|10083|23-03-2024|Beauty Products|Charlotte Tilbury...|    1|       100|          100|       Europe|        PayPal|\n",
      "|10065|05-03-2024|Beauty Products|Lancome La Vie Es...|    1|       102|          102|       Europe|        PayPal|\n",
      "|10089|29-03-2024|Beauty Products|Sunday Riley Good...|    1|       105|          105|       Europe|        PayPal|\n",
      "|10041|10-02-2024|Beauty Products|Estee Lauder Adva...|    1|       105|          105|       Europe|        PayPal|\n",
      "+-----+----------+---------------+--------------------+-----+----------+-------------+-------------+--------------+\n",
      "only showing top 10 rows\n",
      "\n"
     ]
    }
   ],
   "source": [
    "# Sort by a column\n",
    "sorted_data = df.orderBy(\"Unit_Price\")\n",
    "print(\"Sorted Data:\")\n",
    "sorted_data.show(10)"
   ]
  },
  {
   "cell_type": "code",
   "execution_count": 0,
   "metadata": {
    "application/vnd.databricks.v1+cell": {
     "cellMetadata": {
      "byteLimit": 2048000,
      "rowLimit": 10000
     },
     "inputWidgets": {},
     "nuid": "2818ccdf-d87b-47f2-a8a1-b985424d9cc8",
     "showTitle": false,
     "title": ""
    }
   },
   "outputs": [
    {
     "name": "stdout",
     "output_type": "stream",
     "text": [
      "Sorted Data Descending:\n",
      "+-----+----------+---------------+--------------------+-----+----------+-------------+-------------+--------------+\n",
      "|   ID|      Date|       Category|                Name|Units|Unit_Price|Total_Revenue|       Region|Payment_Method|\n",
      "+-----+----------+---------------+--------------------+-----+----------+-------------+-------------+--------------+\n",
      "|10096|05-04-2024|         Sports| Garmin Fenix 6X Pro|    1|    999.99|       999.99|         Asia|   Credit Card|\n",
      "|10001|01-01-2024|    Electronics|       iPhone 14 Pro|    2|    999.99|      1999.98|North America|   Credit Card|\n",
      "|10091|31-03-2024|    Electronics|Logitech MX Maste...|    2|     99.99|       199.98|North America|   Credit Card|\n",
      "|10085|25-03-2024|    Electronics| Ring Video Doorbell|    1|     99.99|        99.99|North America|   Credit Card|\n",
      "|10020|20-01-2024|Home Appliances|Ninja Professiona...|    1|     99.99|        99.99|       Europe|        PayPal|\n",
      "|10200|18-07-2024|Home Appliances|Instant Pot Duo Nova|    1|     99.95|        99.95|       Europe|        PayPal|\n",
      "|10138|17-05-2024|         Sports|    Fitbit Inspire 2|    2|     99.95|        199.9|         Asia|   Credit Card|\n",
      "|10207|25-07-2024|       Clothing|Lululemon Wunder ...|    2|        98|          196|         Asia|    Debit Card|\n",
      "|10147|26-05-2024|       Clothing|Levi's Sherpa Tru...|    2|        98|          196|         Asia|    Debit Card|\n",
      "|10129|08-05-2024|       Clothing|Lululemon Align L...|    3|        98|          294|         Asia|    Debit Card|\n",
      "+-----+----------+---------------+--------------------+-----+----------+-------------+-------------+--------------+\n",
      "only showing top 10 rows\n",
      "\n"
     ]
    }
   ],
   "source": [
    "# Sort by a column desc\n",
    "from pyspark.sql.functions import col, desc\n",
    "sorted_data = df.orderBy(col(\"Unit_Price\").desc(), col(\"ID\").desc())\n",
    "print(\"Sorted Data Descending:\")\n",
    "sorted_data.show(10)"
   ]
  },
  {
   "cell_type": "markdown",
   "metadata": {
    "application/vnd.databricks.v1+cell": {
     "cellMetadata": {},
     "inputWidgets": {},
     "nuid": "e915cb49-83c5-4748-9b69-6c144a487973",
     "showTitle": false,
     "title": ""
    }
   },
   "source": [
    "Distinct: Get unique rows."
   ]
  },
  {
   "cell_type": "code",
   "execution_count": 0,
   "metadata": {
    "application/vnd.databricks.v1+cell": {
     "cellMetadata": {
      "byteLimit": 2048000,
      "rowLimit": 10000
     },
     "inputWidgets": {},
     "nuid": "8d8e6554-3628-4dce-a2ed-18e55bcfcf32",
     "showTitle": false,
     "title": ""
    }
   },
   "outputs": [
    {
     "name": "stdout",
     "output_type": "stream",
     "text": [
      "Distinct Product Categories:\n",
      "+---------------+\n",
      "|       Category|\n",
      "+---------------+\n",
      "|         Sports|\n",
      "|    Electronics|\n",
      "|       Clothing|\n",
      "|Beauty Products|\n",
      "|          Books|\n",
      "|Home Appliances|\n",
      "+---------------+\n",
      "\n"
     ]
    }
   ],
   "source": [
    "# Get distinct product category\n",
    "distinct_rows = df.select(\"Category\").distinct()\n",
    "print(\"Distinct Product Categories:\")\n",
    "distinct_rows.show()"
   ]
  },
  {
   "cell_type": "markdown",
   "metadata": {
    "application/vnd.databricks.v1+cell": {
     "cellMetadata": {},
     "inputWidgets": {},
     "nuid": "6c4d1508-c1c3-4ff6-8351-404e632c62ba",
     "showTitle": false,
     "title": ""
    }
   },
   "source": [
    "Drop: Remove specified columns."
   ]
  },
  {
   "cell_type": "code",
   "execution_count": 0,
   "metadata": {
    "application/vnd.databricks.v1+cell": {
     "cellMetadata": {
      "byteLimit": 2048000,
      "rowLimit": 10000
     },
     "inputWidgets": {},
     "nuid": "e662e90f-8b85-40a8-ac61-129fb9129fd2",
     "showTitle": false,
     "title": ""
    }
   },
   "outputs": [
    {
     "name": "stdout",
     "output_type": "stream",
     "text": [
      "Dropped Columns:\n",
      "+-----+----------+--------------------+----------+-------------+-------------+--------------+\n",
      "|   ID|      Date|                Name|Unit_Price|Total_Revenue|       Region|Payment_Method|\n",
      "+-----+----------+--------------------+----------+-------------+-------------+--------------+\n",
      "|10001|01-01-2024|       iPhone 14 Pro|    999.99|      1999.98|North America|   Credit Card|\n",
      "|10002|02-01-2024|    Dyson V11 Vacuum|    499.99|       499.99|       Europe|        PayPal|\n",
      "|10003|03-01-2024|    Levi's 501 Jeans|     69.99|       209.97|         Asia|    Debit Card|\n",
      "|10004|04-01-2024|   The Da Vinci Code|     15.99|        63.96|North America|   Credit Card|\n",
      "|10005|05-01-2024|Neutrogena Skinca...|     89.99|        89.99|       Europe|        PayPal|\n",
      "|10006|06-01-2024|Wilson Evolution ...|     29.99|       149.95|         Asia|   Credit Card|\n",
      "|10007|07-01-2024| MacBook Pro 16-inch|   2499.99|      2499.99|North America|   Credit Card|\n",
      "|10008|08-01-2024|Blueair Classic 480i|    599.99|      1199.98|       Europe|        PayPal|\n",
      "|10009|09-01-2024|    Nike Air Force 1|     89.99|       539.94|         Asia|    Debit Card|\n",
      "|10010|10-01-2024|Dune by Frank Her...|     25.99|        51.98|North America|   Credit Card|\n",
      "+-----+----------+--------------------+----------+-------------+-------------+--------------+\n",
      "only showing top 10 rows\n",
      "\n"
     ]
    }
   ],
   "source": [
    "# Drop columns\n",
    "dropped_columns = df.drop(\"Units\", \"Category\")\n",
    "print(\"Dropped Columns:\")\n",
    "dropped_columns.show(10)"
   ]
  },
  {
   "cell_type": "markdown",
   "metadata": {
    "application/vnd.databricks.v1+cell": {
     "cellMetadata": {},
     "inputWidgets": {},
     "nuid": "abf8a555-714c-4f1d-8ae2-efe15a6b2039",
     "showTitle": false,
     "title": ""
    }
   },
   "source": [
    "WithColumn: Add new calculated columns."
   ]
  },
  {
   "cell_type": "code",
   "execution_count": 0,
   "metadata": {
    "application/vnd.databricks.v1+cell": {
     "cellMetadata": {
      "byteLimit": 2048000,
      "rowLimit": 10000
     },
     "inputWidgets": {},
     "nuid": "1dd71b1c-15fc-470c-90d8-9b210fed0ab6",
     "showTitle": false,
     "title": ""
    }
   },
   "outputs": [
    {
     "name": "stdout",
     "output_type": "stream",
     "text": [
      "DataFrame with New Column:\n",
      "+-----+----------+---------------+--------------------+-----+----------+-------------+-------------+--------------+------------------+\n",
      "|   ID|      Date|       Category|                Name|Units|Unit_Price|Total_Revenue|       Region|Payment_Method|   Derived_Revenue|\n",
      "+-----+----------+---------------+--------------------+-----+----------+-------------+-------------+--------------+------------------+\n",
      "|10001|01-01-2024|    Electronics|       iPhone 14 Pro|    2|    999.99|      1999.98|North America|   Credit Card|           1999.98|\n",
      "|10002|02-01-2024|Home Appliances|    Dyson V11 Vacuum|    1|    499.99|       499.99|       Europe|        PayPal|            499.99|\n",
      "|10003|03-01-2024|       Clothing|    Levi's 501 Jeans|    3|     69.99|       209.97|         Asia|    Debit Card|209.96999999999997|\n",
      "|10004|04-01-2024|          Books|   The Da Vinci Code|    4|     15.99|        63.96|North America|   Credit Card|             63.96|\n",
      "|10005|05-01-2024|Beauty Products|Neutrogena Skinca...|    1|     89.99|        89.99|       Europe|        PayPal|             89.99|\n",
      "|10006|06-01-2024|         Sports|Wilson Evolution ...|    5|     29.99|       149.95|         Asia|   Credit Card|            149.95|\n",
      "|10007|07-01-2024|    Electronics| MacBook Pro 16-inch|    1|   2499.99|      2499.99|North America|   Credit Card|           2499.99|\n",
      "|10008|08-01-2024|Home Appliances|Blueair Classic 480i|    2|    599.99|      1199.98|       Europe|        PayPal|           1199.98|\n",
      "|10009|09-01-2024|       Clothing|    Nike Air Force 1|    6|     89.99|       539.94|         Asia|    Debit Card| 539.9399999999999|\n",
      "|10010|10-01-2024|          Books|Dune by Frank Her...|    2|     25.99|        51.98|North America|   Credit Card|             51.98|\n",
      "+-----+----------+---------------+--------------------+-----+----------+-------------+-------------+--------------+------------------+\n",
      "only showing top 10 rows\n",
      "\n"
     ]
    }
   ],
   "source": [
    "# Add a new calculated column\n",
    "df_with_new_column = df.withColumn(\"Derived_Revenue\", df.Units * df.Unit_Price)\n",
    "print(\"DataFrame with New Column:\")\n",
    "df_with_new_column.show(10)"
   ]
  },
  {
   "cell_type": "markdown",
   "metadata": {
    "application/vnd.databricks.v1+cell": {
     "cellMetadata": {},
     "inputWidgets": {},
     "nuid": "e2eda018-f285-47be-8159-3823b6782234",
     "showTitle": false,
     "title": ""
    }
   },
   "source": [
    "Alias: Rename columns for better readability."
   ]
  },
  {
   "cell_type": "code",
   "execution_count": 0,
   "metadata": {
    "application/vnd.databricks.v1+cell": {
     "cellMetadata": {
      "byteLimit": 2048000,
      "rowLimit": 10000
     },
     "inputWidgets": {},
     "nuid": "2d9e06af-804b-4516-86b8-a9ead829d783",
     "showTitle": false,
     "title": ""
    }
   },
   "outputs": [
    {
     "name": "stdout",
     "output_type": "stream",
     "text": [
      "DataFrame with Aliased Column:\n",
      "+-----+----------+---------------+--------------------+-----+-------+-------------+-------------+--------------+\n",
      "|   ID|      Date|       Category|                Name|Units|  Price|Total_Revenue|       Region|Payment_Method|\n",
      "+-----+----------+---------------+--------------------+-----+-------+-------------+-------------+--------------+\n",
      "|10001|01-01-2024|    Electronics|       iPhone 14 Pro|    2| 999.99|      1999.98|North America|   Credit Card|\n",
      "|10002|02-01-2024|Home Appliances|    Dyson V11 Vacuum|    1| 499.99|       499.99|       Europe|        PayPal|\n",
      "|10003|03-01-2024|       Clothing|    Levi's 501 Jeans|    3|  69.99|       209.97|         Asia|    Debit Card|\n",
      "|10004|04-01-2024|          Books|   The Da Vinci Code|    4|  15.99|        63.96|North America|   Credit Card|\n",
      "|10005|05-01-2024|Beauty Products|Neutrogena Skinca...|    1|  89.99|        89.99|       Europe|        PayPal|\n",
      "|10006|06-01-2024|         Sports|Wilson Evolution ...|    5|  29.99|       149.95|         Asia|   Credit Card|\n",
      "|10007|07-01-2024|    Electronics| MacBook Pro 16-inch|    1|2499.99|      2499.99|North America|   Credit Card|\n",
      "|10008|08-01-2024|Home Appliances|Blueair Classic 480i|    2| 599.99|      1199.98|       Europe|        PayPal|\n",
      "|10009|09-01-2024|       Clothing|    Nike Air Force 1|    6|  89.99|       539.94|         Asia|    Debit Card|\n",
      "|10010|10-01-2024|          Books|Dune by Frank Her...|    2|  25.99|        51.98|North America|   Credit Card|\n",
      "+-----+----------+---------------+--------------------+-----+-------+-------------+-------------+--------------+\n",
      "only showing top 10 rows\n",
      "\n"
     ]
    }
   ],
   "source": [
    "# Rename columns using alias\n",
    "df_with_alias = df.withColumnRenamed(\"Unit_Price\", \"Price\")\n",
    "print(\"DataFrame with Aliased Column:\")\n",
    "df_with_alias.show(10)"
   ]
  }
 ],
 "metadata": {
  "application/vnd.databricks.v1+notebook": {
   "dashboards": [],
   "environmentMetadata": null,
   "language": "python",
   "notebookMetadata": {
    "pythonIndentUnit": 4
   },
   "notebookName": "Pyspark_Tutorial",
   "widgets": {}
  },
  "kernelspec": {
   "display_name": "Python 3 (ipykernel)",
   "language": "python",
   "name": "python3"
  },
  "language_info": {
   "codemirror_mode": {
    "name": "ipython",
    "version": 3
   },
   "file_extension": ".py",
   "mimetype": "text/x-python",
   "name": "python",
   "nbconvert_exporter": "python",
   "pygments_lexer": "ipython3",
   "version": "3.10.9"
  }
 },
 "nbformat": 4,
 "nbformat_minor": 1
}
