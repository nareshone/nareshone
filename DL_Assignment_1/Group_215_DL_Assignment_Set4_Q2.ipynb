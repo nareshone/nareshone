{
  "nbformat": 4,
  "nbformat_minor": 0,
  "metadata": {
    "colab": {
      "name": "DL_Assignment_Set4_Q2.ipynb",
      "provenance": [],
      "collapsed_sections": []
    },
    "kernelspec": {
      "name": "python3",
      "display_name": "Python 3"
    },
    "language_info": {
      "name": "python"
    }
  },
  "cells": [
    {
      "cell_type": "markdown",
      "source": [
        "# **DL Assignment 4 - Question2**\n",
        "## **DL Group 215**\n",
        "###Nareskumar P (2020FC04122),\n",
        "###Kommajyosula VNS Kanth (2020FC04120),\n",
        "###Tejesh Dola (2020FC04459)"
      ],
      "metadata": {
        "id": "nSrUWpztBOuJ"
      }
    },
    {
      "cell_type": "markdown",
      "source": [
        "##Importing Libraries"
      ],
      "metadata": {
        "id": "XgKnKsDnBgty"
      }
    },
    {
      "cell_type": "code",
      "execution_count": 1,
      "metadata": {
        "id": "b87DFjDB98Ac"
      },
      "outputs": [],
      "source": [
        "import pandas as pd\n",
        "import numpy as np\n",
        "from numpy import nan\n",
        "import seaborn as sns\n",
        "from google.colab import drive\n",
        "import tensorflow as tf\n",
        "from sklearn.model_selection import train_test_split\n",
        "from sklearn.feature_extraction.text import CountVectorizer\n",
        "from sklearn.feature_extraction.text import TfidfVectorizer\n",
        "from keras.models import Sequential\n",
        "from keras.layers import Dense, Dropout, Input, Embedding\n",
        "from tensorflow.python.keras import regularizers\n",
        "from sklearn.metrics import accuracy_score, confusion_matrix, classification_report\n",
        "\n",
        "import imblearn\n",
        "from imblearn import under_sampling, over_sampling\n",
        "from imblearn.over_sampling import RandomOverSampler"
      ]
    },
    {
      "cell_type": "markdown",
      "source": [
        "1. Load the attached csv file in python. Each row consists of feature 1, feature 2, class label."
      ],
      "metadata": {
        "id": "mlDZ36OdCw-E"
      }
    },
    {
      "cell_type": "code",
      "source": [
        "drive.mount('/content/gdrive')\n",
        "root_path = 'gdrive/My Drive/'  \n",
        "dataset= pd.read_csv('gdrive/My Drive/data1_0.2.csv', encoding='latin-1')"
      ],
      "metadata": {
        "colab": {
          "base_uri": "https://localhost:8080/"
        },
        "id": "NBMqjVdoCuui",
        "outputId": "2bda1fb2-50b4-4731-ba35-2d4f1b70803c"
      },
      "execution_count": 2,
      "outputs": [
        {
          "output_type": "stream",
          "name": "stdout",
          "text": [
            "Mounted at /content/gdrive\n"
          ]
        }
      ]
    },
    {
      "cell_type": "markdown",
      "source": [
        "###Data Validation"
      ],
      "metadata": {
        "id": "3tEMrCA0Blao"
      }
    },
    {
      "cell_type": "code",
      "source": [
        "dataset.head()"
      ],
      "metadata": {
        "colab": {
          "base_uri": "https://localhost:8080/",
          "height": 206
        },
        "id": "OdzzNjKG_A6U",
        "outputId": "6ae2b9ad-bf4b-473d-b185-51b0c2f034fe"
      },
      "execution_count": 3,
      "outputs": [
        {
          "output_type": "execute_result",
          "data": {
            "text/html": [
              "\n",
              "  <div id=\"df-177b1029-013b-4930-9ebc-bfc253f910a1\">\n",
              "    <div class=\"colab-df-container\">\n",
              "      <div>\n",
              "<style scoped>\n",
              "    .dataframe tbody tr th:only-of-type {\n",
              "        vertical-align: middle;\n",
              "    }\n",
              "\n",
              "    .dataframe tbody tr th {\n",
              "        vertical-align: top;\n",
              "    }\n",
              "\n",
              "    .dataframe thead th {\n",
              "        text-align: right;\n",
              "    }\n",
              "</style>\n",
              "<table border=\"1\" class=\"dataframe\">\n",
              "  <thead>\n",
              "    <tr style=\"text-align: right;\">\n",
              "      <th></th>\n",
              "      <th>0.045999539</th>\n",
              "      <th>-0.18176747</th>\n",
              "      <th>0</th>\n",
              "    </tr>\n",
              "  </thead>\n",
              "  <tbody>\n",
              "    <tr>\n",
              "      <th>0</th>\n",
              "      <td>-0.516146</td>\n",
              "      <td>0.210068</td>\n",
              "      <td>0</td>\n",
              "    </tr>\n",
              "    <tr>\n",
              "      <th>1</th>\n",
              "      <td>0.246368</td>\n",
              "      <td>-0.514901</td>\n",
              "      <td>0</td>\n",
              "    </tr>\n",
              "    <tr>\n",
              "      <th>2</th>\n",
              "      <td>-0.176004</td>\n",
              "      <td>0.538347</td>\n",
              "      <td>0</td>\n",
              "    </tr>\n",
              "    <tr>\n",
              "      <th>3</th>\n",
              "      <td>-0.540533</td>\n",
              "      <td>0.239300</td>\n",
              "      <td>0</td>\n",
              "    </tr>\n",
              "    <tr>\n",
              "      <th>4</th>\n",
              "      <td>-0.493781</td>\n",
              "      <td>-0.339981</td>\n",
              "      <td>0</td>\n",
              "    </tr>\n",
              "  </tbody>\n",
              "</table>\n",
              "</div>\n",
              "      <button class=\"colab-df-convert\" onclick=\"convertToInteractive('df-177b1029-013b-4930-9ebc-bfc253f910a1')\"\n",
              "              title=\"Convert this dataframe to an interactive table.\"\n",
              "              style=\"display:none;\">\n",
              "        \n",
              "  <svg xmlns=\"http://www.w3.org/2000/svg\" height=\"24px\"viewBox=\"0 0 24 24\"\n",
              "       width=\"24px\">\n",
              "    <path d=\"M0 0h24v24H0V0z\" fill=\"none\"/>\n",
              "    <path d=\"M18.56 5.44l.94 2.06.94-2.06 2.06-.94-2.06-.94-.94-2.06-.94 2.06-2.06.94zm-11 1L8.5 8.5l.94-2.06 2.06-.94-2.06-.94L8.5 2.5l-.94 2.06-2.06.94zm10 10l.94 2.06.94-2.06 2.06-.94-2.06-.94-.94-2.06-.94 2.06-2.06.94z\"/><path d=\"M17.41 7.96l-1.37-1.37c-.4-.4-.92-.59-1.43-.59-.52 0-1.04.2-1.43.59L10.3 9.45l-7.72 7.72c-.78.78-.78 2.05 0 2.83L4 21.41c.39.39.9.59 1.41.59.51 0 1.02-.2 1.41-.59l7.78-7.78 2.81-2.81c.8-.78.8-2.07 0-2.86zM5.41 20L4 18.59l7.72-7.72 1.47 1.35L5.41 20z\"/>\n",
              "  </svg>\n",
              "      </button>\n",
              "      \n",
              "  <style>\n",
              "    .colab-df-container {\n",
              "      display:flex;\n",
              "      flex-wrap:wrap;\n",
              "      gap: 12px;\n",
              "    }\n",
              "\n",
              "    .colab-df-convert {\n",
              "      background-color: #E8F0FE;\n",
              "      border: none;\n",
              "      border-radius: 50%;\n",
              "      cursor: pointer;\n",
              "      display: none;\n",
              "      fill: #1967D2;\n",
              "      height: 32px;\n",
              "      padding: 0 0 0 0;\n",
              "      width: 32px;\n",
              "    }\n",
              "\n",
              "    .colab-df-convert:hover {\n",
              "      background-color: #E2EBFA;\n",
              "      box-shadow: 0px 1px 2px rgba(60, 64, 67, 0.3), 0px 1px 3px 1px rgba(60, 64, 67, 0.15);\n",
              "      fill: #174EA6;\n",
              "    }\n",
              "\n",
              "    [theme=dark] .colab-df-convert {\n",
              "      background-color: #3B4455;\n",
              "      fill: #D2E3FC;\n",
              "    }\n",
              "\n",
              "    [theme=dark] .colab-df-convert:hover {\n",
              "      background-color: #434B5C;\n",
              "      box-shadow: 0px 1px 3px 1px rgba(0, 0, 0, 0.15);\n",
              "      filter: drop-shadow(0px 1px 2px rgba(0, 0, 0, 0.3));\n",
              "      fill: #FFFFFF;\n",
              "    }\n",
              "  </style>\n",
              "\n",
              "      <script>\n",
              "        const buttonEl =\n",
              "          document.querySelector('#df-177b1029-013b-4930-9ebc-bfc253f910a1 button.colab-df-convert');\n",
              "        buttonEl.style.display =\n",
              "          google.colab.kernel.accessAllowed ? 'block' : 'none';\n",
              "\n",
              "        async function convertToInteractive(key) {\n",
              "          const element = document.querySelector('#df-177b1029-013b-4930-9ebc-bfc253f910a1');\n",
              "          const dataTable =\n",
              "            await google.colab.kernel.invokeFunction('convertToInteractive',\n",
              "                                                     [key], {});\n",
              "          if (!dataTable) return;\n",
              "\n",
              "          const docLinkHtml = 'Like what you see? Visit the ' +\n",
              "            '<a target=\"_blank\" href=https://colab.research.google.com/notebooks/data_table.ipynb>data table notebook</a>'\n",
              "            + ' to learn more about interactive tables.';\n",
              "          element.innerHTML = '';\n",
              "          dataTable['output_type'] = 'display_data';\n",
              "          await google.colab.output.renderOutput(dataTable, element);\n",
              "          const docLink = document.createElement('div');\n",
              "          docLink.innerHTML = docLinkHtml;\n",
              "          element.appendChild(docLink);\n",
              "        }\n",
              "      </script>\n",
              "    </div>\n",
              "  </div>\n",
              "  "
            ],
            "text/plain": [
              "   0.045999539  -0.18176747  0\n",
              "0    -0.516146     0.210068  0\n",
              "1     0.246368    -0.514901  0\n",
              "2    -0.176004     0.538347  0\n",
              "3    -0.540533     0.239300  0\n",
              "4    -0.493781    -0.339981  0"
            ]
          },
          "metadata": {},
          "execution_count": 3
        }
      ]
    },
    {
      "cell_type": "markdown",
      "source": [
        "Could see two features and one classifier in the dataset"
      ],
      "metadata": {
        "id": "y08y0JSCCNAZ"
      }
    },
    {
      "cell_type": "code",
      "source": [
        "tf.test.gpu_device_name()"
      ],
      "metadata": {
        "colab": {
          "base_uri": "https://localhost:8080/",
          "height": 35
        },
        "id": "va4-kU6y_KBK",
        "outputId": "00261c0a-fe70-4a5b-e7c8-0537de1049a4"
      },
      "execution_count": 4,
      "outputs": [
        {
          "output_type": "execute_result",
          "data": {
            "application/vnd.google.colaboratory.intrinsic+json": {
              "type": "string"
            },
            "text/plain": [
              "''"
            ]
          },
          "metadata": {},
          "execution_count": 4
        }
      ]
    },
    {
      "cell_type": "code",
      "source": [
        "#Assigning column names\n",
        "dataset.columns =['feature1', 'feature2', 'classifier']"
      ],
      "metadata": {
        "id": "P9d4-0fb_MXQ"
      },
      "execution_count": 5,
      "outputs": []
    },
    {
      "cell_type": "code",
      "source": [
        "dataset.describe()"
      ],
      "metadata": {
        "colab": {
          "base_uri": "https://localhost:8080/",
          "height": 300
        },
        "id": "TGsLVYrJ_Z3q",
        "outputId": "5907f639-7c37-43d3-a050-df3693ceebe4"
      },
      "execution_count": 6,
      "outputs": [
        {
          "output_type": "execute_result",
          "data": {
            "text/html": [
              "\n",
              "  <div id=\"df-db04dd77-4fbc-48fe-a67b-a016c95d1226\">\n",
              "    <div class=\"colab-df-container\">\n",
              "      <div>\n",
              "<style scoped>\n",
              "    .dataframe tbody tr th:only-of-type {\n",
              "        vertical-align: middle;\n",
              "    }\n",
              "\n",
              "    .dataframe tbody tr th {\n",
              "        vertical-align: top;\n",
              "    }\n",
              "\n",
              "    .dataframe thead th {\n",
              "        text-align: right;\n",
              "    }\n",
              "</style>\n",
              "<table border=\"1\" class=\"dataframe\">\n",
              "  <thead>\n",
              "    <tr style=\"text-align: right;\">\n",
              "      <th></th>\n",
              "      <th>feature1</th>\n",
              "      <th>feature2</th>\n",
              "      <th>classifier</th>\n",
              "    </tr>\n",
              "  </thead>\n",
              "  <tbody>\n",
              "    <tr>\n",
              "      <th>count</th>\n",
              "      <td>764.000000</td>\n",
              "      <td>764.000000</td>\n",
              "      <td>764.000000</td>\n",
              "    </tr>\n",
              "    <tr>\n",
              "      <th>mean</th>\n",
              "      <td>0.025005</td>\n",
              "      <td>-0.006135</td>\n",
              "      <td>0.418848</td>\n",
              "    </tr>\n",
              "    <tr>\n",
              "      <th>std</th>\n",
              "      <td>0.480714</td>\n",
              "      <td>0.499429</td>\n",
              "      <td>0.493694</td>\n",
              "    </tr>\n",
              "    <tr>\n",
              "      <th>min</th>\n",
              "      <td>-0.996726</td>\n",
              "      <td>-0.999604</td>\n",
              "      <td>0.000000</td>\n",
              "    </tr>\n",
              "    <tr>\n",
              "      <th>25%</th>\n",
              "      <td>-0.351179</td>\n",
              "      <td>-0.420132</td>\n",
              "      <td>0.000000</td>\n",
              "    </tr>\n",
              "    <tr>\n",
              "      <th>50%</th>\n",
              "      <td>0.028465</td>\n",
              "      <td>-0.005979</td>\n",
              "      <td>0.000000</td>\n",
              "    </tr>\n",
              "    <tr>\n",
              "      <th>75%</th>\n",
              "      <td>0.404878</td>\n",
              "      <td>0.382846</td>\n",
              "      <td>1.000000</td>\n",
              "    </tr>\n",
              "    <tr>\n",
              "      <th>max</th>\n",
              "      <td>0.953268</td>\n",
              "      <td>0.984892</td>\n",
              "      <td>1.000000</td>\n",
              "    </tr>\n",
              "  </tbody>\n",
              "</table>\n",
              "</div>\n",
              "      <button class=\"colab-df-convert\" onclick=\"convertToInteractive('df-db04dd77-4fbc-48fe-a67b-a016c95d1226')\"\n",
              "              title=\"Convert this dataframe to an interactive table.\"\n",
              "              style=\"display:none;\">\n",
              "        \n",
              "  <svg xmlns=\"http://www.w3.org/2000/svg\" height=\"24px\"viewBox=\"0 0 24 24\"\n",
              "       width=\"24px\">\n",
              "    <path d=\"M0 0h24v24H0V0z\" fill=\"none\"/>\n",
              "    <path d=\"M18.56 5.44l.94 2.06.94-2.06 2.06-.94-2.06-.94-.94-2.06-.94 2.06-2.06.94zm-11 1L8.5 8.5l.94-2.06 2.06-.94-2.06-.94L8.5 2.5l-.94 2.06-2.06.94zm10 10l.94 2.06.94-2.06 2.06-.94-2.06-.94-.94-2.06-.94 2.06-2.06.94z\"/><path d=\"M17.41 7.96l-1.37-1.37c-.4-.4-.92-.59-1.43-.59-.52 0-1.04.2-1.43.59L10.3 9.45l-7.72 7.72c-.78.78-.78 2.05 0 2.83L4 21.41c.39.39.9.59 1.41.59.51 0 1.02-.2 1.41-.59l7.78-7.78 2.81-2.81c.8-.78.8-2.07 0-2.86zM5.41 20L4 18.59l7.72-7.72 1.47 1.35L5.41 20z\"/>\n",
              "  </svg>\n",
              "      </button>\n",
              "      \n",
              "  <style>\n",
              "    .colab-df-container {\n",
              "      display:flex;\n",
              "      flex-wrap:wrap;\n",
              "      gap: 12px;\n",
              "    }\n",
              "\n",
              "    .colab-df-convert {\n",
              "      background-color: #E8F0FE;\n",
              "      border: none;\n",
              "      border-radius: 50%;\n",
              "      cursor: pointer;\n",
              "      display: none;\n",
              "      fill: #1967D2;\n",
              "      height: 32px;\n",
              "      padding: 0 0 0 0;\n",
              "      width: 32px;\n",
              "    }\n",
              "\n",
              "    .colab-df-convert:hover {\n",
              "      background-color: #E2EBFA;\n",
              "      box-shadow: 0px 1px 2px rgba(60, 64, 67, 0.3), 0px 1px 3px 1px rgba(60, 64, 67, 0.15);\n",
              "      fill: #174EA6;\n",
              "    }\n",
              "\n",
              "    [theme=dark] .colab-df-convert {\n",
              "      background-color: #3B4455;\n",
              "      fill: #D2E3FC;\n",
              "    }\n",
              "\n",
              "    [theme=dark] .colab-df-convert:hover {\n",
              "      background-color: #434B5C;\n",
              "      box-shadow: 0px 1px 3px 1px rgba(0, 0, 0, 0.15);\n",
              "      filter: drop-shadow(0px 1px 2px rgba(0, 0, 0, 0.3));\n",
              "      fill: #FFFFFF;\n",
              "    }\n",
              "  </style>\n",
              "\n",
              "      <script>\n",
              "        const buttonEl =\n",
              "          document.querySelector('#df-db04dd77-4fbc-48fe-a67b-a016c95d1226 button.colab-df-convert');\n",
              "        buttonEl.style.display =\n",
              "          google.colab.kernel.accessAllowed ? 'block' : 'none';\n",
              "\n",
              "        async function convertToInteractive(key) {\n",
              "          const element = document.querySelector('#df-db04dd77-4fbc-48fe-a67b-a016c95d1226');\n",
              "          const dataTable =\n",
              "            await google.colab.kernel.invokeFunction('convertToInteractive',\n",
              "                                                     [key], {});\n",
              "          if (!dataTable) return;\n",
              "\n",
              "          const docLinkHtml = 'Like what you see? Visit the ' +\n",
              "            '<a target=\"_blank\" href=https://colab.research.google.com/notebooks/data_table.ipynb>data table notebook</a>'\n",
              "            + ' to learn more about interactive tables.';\n",
              "          element.innerHTML = '';\n",
              "          dataTable['output_type'] = 'display_data';\n",
              "          await google.colab.output.renderOutput(dataTable, element);\n",
              "          const docLink = document.createElement('div');\n",
              "          docLink.innerHTML = docLinkHtml;\n",
              "          element.appendChild(docLink);\n",
              "        }\n",
              "      </script>\n",
              "    </div>\n",
              "  </div>\n",
              "  "
            ],
            "text/plain": [
              "         feature1    feature2  classifier\n",
              "count  764.000000  764.000000  764.000000\n",
              "mean     0.025005   -0.006135    0.418848\n",
              "std      0.480714    0.499429    0.493694\n",
              "min     -0.996726   -0.999604    0.000000\n",
              "25%     -0.351179   -0.420132    0.000000\n",
              "50%      0.028465   -0.005979    0.000000\n",
              "75%      0.404878    0.382846    1.000000\n",
              "max      0.953268    0.984892    1.000000"
            ]
          },
          "metadata": {},
          "execution_count": 6
        }
      ]
    },
    {
      "cell_type": "code",
      "source": [
        "dataset.classifier.unique()"
      ],
      "metadata": {
        "colab": {
          "base_uri": "https://localhost:8080/"
        },
        "id": "W2IevQW4_fEW",
        "outputId": "691a0e61-ee23-4eb4-9da6-d509b07f9c24"
      },
      "execution_count": 7,
      "outputs": [
        {
          "output_type": "execute_result",
          "data": {
            "text/plain": [
              "array([0, 1])"
            ]
          },
          "metadata": {},
          "execution_count": 7
        }
      ]
    },
    {
      "cell_type": "markdown",
      "source": [
        "Only two unique classes are present in the classifier"
      ],
      "metadata": {
        "id": "AtOPgbjnD1-x"
      }
    },
    {
      "cell_type": "code",
      "source": [
        "dataset.loc[dataset['classifier'] == 0]"
      ],
      "metadata": {
        "colab": {
          "base_uri": "https://localhost:8080/",
          "height": 424
        },
        "id": "Cgtg3mFR_yr-",
        "outputId": "fcc8969c-60e5-4095-cbe5-b85e035120f1"
      },
      "execution_count": 8,
      "outputs": [
        {
          "output_type": "execute_result",
          "data": {
            "text/html": [
              "\n",
              "  <div id=\"df-49b420d5-f346-4186-9c18-cd9566309bfa\">\n",
              "    <div class=\"colab-df-container\">\n",
              "      <div>\n",
              "<style scoped>\n",
              "    .dataframe tbody tr th:only-of-type {\n",
              "        vertical-align: middle;\n",
              "    }\n",
              "\n",
              "    .dataframe tbody tr th {\n",
              "        vertical-align: top;\n",
              "    }\n",
              "\n",
              "    .dataframe thead th {\n",
              "        text-align: right;\n",
              "    }\n",
              "</style>\n",
              "<table border=\"1\" class=\"dataframe\">\n",
              "  <thead>\n",
              "    <tr style=\"text-align: right;\">\n",
              "      <th></th>\n",
              "      <th>feature1</th>\n",
              "      <th>feature2</th>\n",
              "      <th>classifier</th>\n",
              "    </tr>\n",
              "  </thead>\n",
              "  <tbody>\n",
              "    <tr>\n",
              "      <th>0</th>\n",
              "      <td>-0.516146</td>\n",
              "      <td>0.210068</td>\n",
              "      <td>0</td>\n",
              "    </tr>\n",
              "    <tr>\n",
              "      <th>1</th>\n",
              "      <td>0.246368</td>\n",
              "      <td>-0.514901</td>\n",
              "      <td>0</td>\n",
              "    </tr>\n",
              "    <tr>\n",
              "      <th>2</th>\n",
              "      <td>-0.176004</td>\n",
              "      <td>0.538347</td>\n",
              "      <td>0</td>\n",
              "    </tr>\n",
              "    <tr>\n",
              "      <th>3</th>\n",
              "      <td>-0.540533</td>\n",
              "      <td>0.239300</td>\n",
              "      <td>0</td>\n",
              "    </tr>\n",
              "    <tr>\n",
              "      <th>4</th>\n",
              "      <td>-0.493781</td>\n",
              "      <td>-0.339981</td>\n",
              "      <td>0</td>\n",
              "    </tr>\n",
              "    <tr>\n",
              "      <th>...</th>\n",
              "      <td>...</td>\n",
              "      <td>...</td>\n",
              "      <td>...</td>\n",
              "    </tr>\n",
              "    <tr>\n",
              "      <th>439</th>\n",
              "      <td>0.081769</td>\n",
              "      <td>0.809590</td>\n",
              "      <td>0</td>\n",
              "    </tr>\n",
              "    <tr>\n",
              "      <th>440</th>\n",
              "      <td>-0.308407</td>\n",
              "      <td>0.806917</td>\n",
              "      <td>0</td>\n",
              "    </tr>\n",
              "    <tr>\n",
              "      <th>441</th>\n",
              "      <td>-0.474379</td>\n",
              "      <td>0.784835</td>\n",
              "      <td>0</td>\n",
              "    </tr>\n",
              "    <tr>\n",
              "      <th>442</th>\n",
              "      <td>0.715742</td>\n",
              "      <td>-0.590735</td>\n",
              "      <td>0</td>\n",
              "    </tr>\n",
              "    <tr>\n",
              "      <th>443</th>\n",
              "      <td>-0.150463</td>\n",
              "      <td>0.850325</td>\n",
              "      <td>0</td>\n",
              "    </tr>\n",
              "  </tbody>\n",
              "</table>\n",
              "<p>444 rows × 3 columns</p>\n",
              "</div>\n",
              "      <button class=\"colab-df-convert\" onclick=\"convertToInteractive('df-49b420d5-f346-4186-9c18-cd9566309bfa')\"\n",
              "              title=\"Convert this dataframe to an interactive table.\"\n",
              "              style=\"display:none;\">\n",
              "        \n",
              "  <svg xmlns=\"http://www.w3.org/2000/svg\" height=\"24px\"viewBox=\"0 0 24 24\"\n",
              "       width=\"24px\">\n",
              "    <path d=\"M0 0h24v24H0V0z\" fill=\"none\"/>\n",
              "    <path d=\"M18.56 5.44l.94 2.06.94-2.06 2.06-.94-2.06-.94-.94-2.06-.94 2.06-2.06.94zm-11 1L8.5 8.5l.94-2.06 2.06-.94-2.06-.94L8.5 2.5l-.94 2.06-2.06.94zm10 10l.94 2.06.94-2.06 2.06-.94-2.06-.94-.94-2.06-.94 2.06-2.06.94z\"/><path d=\"M17.41 7.96l-1.37-1.37c-.4-.4-.92-.59-1.43-.59-.52 0-1.04.2-1.43.59L10.3 9.45l-7.72 7.72c-.78.78-.78 2.05 0 2.83L4 21.41c.39.39.9.59 1.41.59.51 0 1.02-.2 1.41-.59l7.78-7.78 2.81-2.81c.8-.78.8-2.07 0-2.86zM5.41 20L4 18.59l7.72-7.72 1.47 1.35L5.41 20z\"/>\n",
              "  </svg>\n",
              "      </button>\n",
              "      \n",
              "  <style>\n",
              "    .colab-df-container {\n",
              "      display:flex;\n",
              "      flex-wrap:wrap;\n",
              "      gap: 12px;\n",
              "    }\n",
              "\n",
              "    .colab-df-convert {\n",
              "      background-color: #E8F0FE;\n",
              "      border: none;\n",
              "      border-radius: 50%;\n",
              "      cursor: pointer;\n",
              "      display: none;\n",
              "      fill: #1967D2;\n",
              "      height: 32px;\n",
              "      padding: 0 0 0 0;\n",
              "      width: 32px;\n",
              "    }\n",
              "\n",
              "    .colab-df-convert:hover {\n",
              "      background-color: #E2EBFA;\n",
              "      box-shadow: 0px 1px 2px rgba(60, 64, 67, 0.3), 0px 1px 3px 1px rgba(60, 64, 67, 0.15);\n",
              "      fill: #174EA6;\n",
              "    }\n",
              "\n",
              "    [theme=dark] .colab-df-convert {\n",
              "      background-color: #3B4455;\n",
              "      fill: #D2E3FC;\n",
              "    }\n",
              "\n",
              "    [theme=dark] .colab-df-convert:hover {\n",
              "      background-color: #434B5C;\n",
              "      box-shadow: 0px 1px 3px 1px rgba(0, 0, 0, 0.15);\n",
              "      filter: drop-shadow(0px 1px 2px rgba(0, 0, 0, 0.3));\n",
              "      fill: #FFFFFF;\n",
              "    }\n",
              "  </style>\n",
              "\n",
              "      <script>\n",
              "        const buttonEl =\n",
              "          document.querySelector('#df-49b420d5-f346-4186-9c18-cd9566309bfa button.colab-df-convert');\n",
              "        buttonEl.style.display =\n",
              "          google.colab.kernel.accessAllowed ? 'block' : 'none';\n",
              "\n",
              "        async function convertToInteractive(key) {\n",
              "          const element = document.querySelector('#df-49b420d5-f346-4186-9c18-cd9566309bfa');\n",
              "          const dataTable =\n",
              "            await google.colab.kernel.invokeFunction('convertToInteractive',\n",
              "                                                     [key], {});\n",
              "          if (!dataTable) return;\n",
              "\n",
              "          const docLinkHtml = 'Like what you see? Visit the ' +\n",
              "            '<a target=\"_blank\" href=https://colab.research.google.com/notebooks/data_table.ipynb>data table notebook</a>'\n",
              "            + ' to learn more about interactive tables.';\n",
              "          element.innerHTML = '';\n",
              "          dataTable['output_type'] = 'display_data';\n",
              "          await google.colab.output.renderOutput(dataTable, element);\n",
              "          const docLink = document.createElement('div');\n",
              "          docLink.innerHTML = docLinkHtml;\n",
              "          element.appendChild(docLink);\n",
              "        }\n",
              "      </script>\n",
              "    </div>\n",
              "  </div>\n",
              "  "
            ],
            "text/plain": [
              "     feature1  feature2  classifier\n",
              "0   -0.516146  0.210068           0\n",
              "1    0.246368 -0.514901           0\n",
              "2   -0.176004  0.538347           0\n",
              "3   -0.540533  0.239300           0\n",
              "4   -0.493781 -0.339981           0\n",
              "..        ...       ...         ...\n",
              "439  0.081769  0.809590           0\n",
              "440 -0.308407  0.806917           0\n",
              "441 -0.474379  0.784835           0\n",
              "442  0.715742 -0.590735           0\n",
              "443 -0.150463  0.850325           0\n",
              "\n",
              "[444 rows x 3 columns]"
            ]
          },
          "metadata": {},
          "execution_count": 8
        }
      ]
    },
    {
      "cell_type": "code",
      "source": [
        "dataset.loc[dataset['classifier'] == 1]"
      ],
      "metadata": {
        "colab": {
          "base_uri": "https://localhost:8080/",
          "height": 424
        },
        "id": "2sSwVYTIABoU",
        "outputId": "c1cad501-121b-4949-ff6e-2b9b7e37351d"
      },
      "execution_count": 9,
      "outputs": [
        {
          "output_type": "execute_result",
          "data": {
            "text/html": [
              "\n",
              "  <div id=\"df-f5a99fe2-1dbf-4f16-a94a-ff55e8c40a1f\">\n",
              "    <div class=\"colab-df-container\">\n",
              "      <div>\n",
              "<style scoped>\n",
              "    .dataframe tbody tr th:only-of-type {\n",
              "        vertical-align: middle;\n",
              "    }\n",
              "\n",
              "    .dataframe tbody tr th {\n",
              "        vertical-align: top;\n",
              "    }\n",
              "\n",
              "    .dataframe thead th {\n",
              "        text-align: right;\n",
              "    }\n",
              "</style>\n",
              "<table border=\"1\" class=\"dataframe\">\n",
              "  <thead>\n",
              "    <tr style=\"text-align: right;\">\n",
              "      <th></th>\n",
              "      <th>feature1</th>\n",
              "      <th>feature2</th>\n",
              "      <th>classifier</th>\n",
              "    </tr>\n",
              "  </thead>\n",
              "  <tbody>\n",
              "    <tr>\n",
              "      <th>444</th>\n",
              "      <td>0.702478</td>\n",
              "      <td>0.127961</td>\n",
              "      <td>1</td>\n",
              "    </tr>\n",
              "    <tr>\n",
              "      <th>445</th>\n",
              "      <td>0.640130</td>\n",
              "      <td>-0.281620</td>\n",
              "      <td>1</td>\n",
              "    </tr>\n",
              "    <tr>\n",
              "      <th>446</th>\n",
              "      <td>-0.429982</td>\n",
              "      <td>-0.581259</td>\n",
              "      <td>1</td>\n",
              "    </tr>\n",
              "    <tr>\n",
              "      <th>447</th>\n",
              "      <td>-0.149910</td>\n",
              "      <td>-0.645058</td>\n",
              "      <td>1</td>\n",
              "    </tr>\n",
              "    <tr>\n",
              "      <th>448</th>\n",
              "      <td>0.684375</td>\n",
              "      <td>0.164741</td>\n",
              "      <td>1</td>\n",
              "    </tr>\n",
              "    <tr>\n",
              "      <th>...</th>\n",
              "      <td>...</td>\n",
              "      <td>...</td>\n",
              "      <td>...</td>\n",
              "    </tr>\n",
              "    <tr>\n",
              "      <th>759</th>\n",
              "      <td>0.218472</td>\n",
              "      <td>0.184996</td>\n",
              "      <td>1</td>\n",
              "    </tr>\n",
              "    <tr>\n",
              "      <th>760</th>\n",
              "      <td>-0.097992</td>\n",
              "      <td>-0.302559</td>\n",
              "      <td>1</td>\n",
              "    </tr>\n",
              "    <tr>\n",
              "      <th>761</th>\n",
              "      <td>-0.236467</td>\n",
              "      <td>0.212870</td>\n",
              "      <td>1</td>\n",
              "    </tr>\n",
              "    <tr>\n",
              "      <th>762</th>\n",
              "      <td>0.745290</td>\n",
              "      <td>-0.210026</td>\n",
              "      <td>1</td>\n",
              "    </tr>\n",
              "    <tr>\n",
              "      <th>763</th>\n",
              "      <td>0.248667</td>\n",
              "      <td>0.218322</td>\n",
              "      <td>1</td>\n",
              "    </tr>\n",
              "  </tbody>\n",
              "</table>\n",
              "<p>320 rows × 3 columns</p>\n",
              "</div>\n",
              "      <button class=\"colab-df-convert\" onclick=\"convertToInteractive('df-f5a99fe2-1dbf-4f16-a94a-ff55e8c40a1f')\"\n",
              "              title=\"Convert this dataframe to an interactive table.\"\n",
              "              style=\"display:none;\">\n",
              "        \n",
              "  <svg xmlns=\"http://www.w3.org/2000/svg\" height=\"24px\"viewBox=\"0 0 24 24\"\n",
              "       width=\"24px\">\n",
              "    <path d=\"M0 0h24v24H0V0z\" fill=\"none\"/>\n",
              "    <path d=\"M18.56 5.44l.94 2.06.94-2.06 2.06-.94-2.06-.94-.94-2.06-.94 2.06-2.06.94zm-11 1L8.5 8.5l.94-2.06 2.06-.94-2.06-.94L8.5 2.5l-.94 2.06-2.06.94zm10 10l.94 2.06.94-2.06 2.06-.94-2.06-.94-.94-2.06-.94 2.06-2.06.94z\"/><path d=\"M17.41 7.96l-1.37-1.37c-.4-.4-.92-.59-1.43-.59-.52 0-1.04.2-1.43.59L10.3 9.45l-7.72 7.72c-.78.78-.78 2.05 0 2.83L4 21.41c.39.39.9.59 1.41.59.51 0 1.02-.2 1.41-.59l7.78-7.78 2.81-2.81c.8-.78.8-2.07 0-2.86zM5.41 20L4 18.59l7.72-7.72 1.47 1.35L5.41 20z\"/>\n",
              "  </svg>\n",
              "      </button>\n",
              "      \n",
              "  <style>\n",
              "    .colab-df-container {\n",
              "      display:flex;\n",
              "      flex-wrap:wrap;\n",
              "      gap: 12px;\n",
              "    }\n",
              "\n",
              "    .colab-df-convert {\n",
              "      background-color: #E8F0FE;\n",
              "      border: none;\n",
              "      border-radius: 50%;\n",
              "      cursor: pointer;\n",
              "      display: none;\n",
              "      fill: #1967D2;\n",
              "      height: 32px;\n",
              "      padding: 0 0 0 0;\n",
              "      width: 32px;\n",
              "    }\n",
              "\n",
              "    .colab-df-convert:hover {\n",
              "      background-color: #E2EBFA;\n",
              "      box-shadow: 0px 1px 2px rgba(60, 64, 67, 0.3), 0px 1px 3px 1px rgba(60, 64, 67, 0.15);\n",
              "      fill: #174EA6;\n",
              "    }\n",
              "\n",
              "    [theme=dark] .colab-df-convert {\n",
              "      background-color: #3B4455;\n",
              "      fill: #D2E3FC;\n",
              "    }\n",
              "\n",
              "    [theme=dark] .colab-df-convert:hover {\n",
              "      background-color: #434B5C;\n",
              "      box-shadow: 0px 1px 3px 1px rgba(0, 0, 0, 0.15);\n",
              "      filter: drop-shadow(0px 1px 2px rgba(0, 0, 0, 0.3));\n",
              "      fill: #FFFFFF;\n",
              "    }\n",
              "  </style>\n",
              "\n",
              "      <script>\n",
              "        const buttonEl =\n",
              "          document.querySelector('#df-f5a99fe2-1dbf-4f16-a94a-ff55e8c40a1f button.colab-df-convert');\n",
              "        buttonEl.style.display =\n",
              "          google.colab.kernel.accessAllowed ? 'block' : 'none';\n",
              "\n",
              "        async function convertToInteractive(key) {\n",
              "          const element = document.querySelector('#df-f5a99fe2-1dbf-4f16-a94a-ff55e8c40a1f');\n",
              "          const dataTable =\n",
              "            await google.colab.kernel.invokeFunction('convertToInteractive',\n",
              "                                                     [key], {});\n",
              "          if (!dataTable) return;\n",
              "\n",
              "          const docLinkHtml = 'Like what you see? Visit the ' +\n",
              "            '<a target=\"_blank\" href=https://colab.research.google.com/notebooks/data_table.ipynb>data table notebook</a>'\n",
              "            + ' to learn more about interactive tables.';\n",
              "          element.innerHTML = '';\n",
              "          dataTable['output_type'] = 'display_data';\n",
              "          await google.colab.output.renderOutput(dataTable, element);\n",
              "          const docLink = document.createElement('div');\n",
              "          docLink.innerHTML = docLinkHtml;\n",
              "          element.appendChild(docLink);\n",
              "        }\n",
              "      </script>\n",
              "    </div>\n",
              "  </div>\n",
              "  "
            ],
            "text/plain": [
              "     feature1  feature2  classifier\n",
              "444  0.702478  0.127961           1\n",
              "445  0.640130 -0.281620           1\n",
              "446 -0.429982 -0.581259           1\n",
              "447 -0.149910 -0.645058           1\n",
              "448  0.684375  0.164741           1\n",
              "..        ...       ...         ...\n",
              "759  0.218472  0.184996           1\n",
              "760 -0.097992 -0.302559           1\n",
              "761 -0.236467  0.212870           1\n",
              "762  0.745290 -0.210026           1\n",
              "763  0.248667  0.218322           1\n",
              "\n",
              "[320 rows x 3 columns]"
            ]
          },
          "metadata": {},
          "execution_count": 9
        }
      ]
    },
    {
      "cell_type": "code",
      "source": [
        "import matplotlib.pyplot as plt\n",
        "plt.figure(figsize=(5, 3))\n",
        "sns.countplot(data=dataset, x='classifier', hue='classifier')\n",
        "plt.show()"
      ],
      "metadata": {
        "colab": {
          "base_uri": "https://localhost:8080/",
          "height": 225
        },
        "id": "JpjGGzHbAFxN",
        "outputId": "12ad99a6-2738-4cd9-8f9d-bedf21eff76a"
      },
      "execution_count": 10,
      "outputs": [
        {
          "output_type": "display_data",
          "data": {
            "image/png": "[encoded data removed]",
            "text/plain": [
              "<Figure size 360x216 with 1 Axes>"
            ]
          },
          "metadata": {
            "needs_background": "light"
          }
        }
      ]
    },
    {
      "cell_type": "code",
      "source": [
        "dataset.shape"
      ],
      "metadata": {
        "colab": {
          "base_uri": "https://localhost:8080/"
        },
        "id": "N4ZKyRz1AQIA",
        "outputId": "fcaa4cb4-86e9-477d-d11a-1c2506fdb188"
      },
      "execution_count": 11,
      "outputs": [
        {
          "output_type": "execute_result",
          "data": {
            "text/plain": [
              "(764, 3)"
            ]
          },
          "metadata": {},
          "execution_count": 11
        }
      ]
    },
    {
      "cell_type": "code",
      "source": [
        "#Assigning features columns to x and classifier columns to y\n",
        "x = dataset.drop(['classifier'], axis=1)\n",
        "y = dataset['classifier']"
      ],
      "metadata": {
        "id": "IhXfxylQAVdO"
      },
      "execution_count": 12,
      "outputs": []
    },
    {
      "cell_type": "code",
      "source": [
        "x.head"
      ],
      "metadata": {
        "colab": {
          "base_uri": "https://localhost:8080/"
        },
        "id": "aqTWYzxPBO88",
        "outputId": "36426a7d-9566-4ecf-ce25-88ad30414f05"
      },
      "execution_count": 13,
      "outputs": [
        {
          "output_type": "execute_result",
          "data": {
            "text/plain": [
              "<bound method NDFrame.head of      feature1  feature2\n",
              "0   -0.516146  0.210068\n",
              "1    0.246368 -0.514901\n",
              "2   -0.176004  0.538347\n",
              "3   -0.540533  0.239300\n",
              "4   -0.493781 -0.339981\n",
              "..        ...       ...\n",
              "759  0.218472  0.184996\n",
              "760 -0.097992 -0.302559\n",
              "761 -0.236467  0.212870\n",
              "762  0.745290 -0.210026\n",
              "763  0.248667  0.218322\n",
              "\n",
              "[764 rows x 2 columns]>"
            ]
          },
          "metadata": {},
          "execution_count": 13
        }
      ]
    },
    {
      "cell_type": "code",
      "source": [
        "y.head"
      ],
      "metadata": {
        "colab": {
          "base_uri": "https://localhost:8080/"
        },
        "id": "EjUyxsHeBY4Y",
        "outputId": "199ffcc8-b31d-49f7-ca31-d7c560006824"
      },
      "execution_count": 14,
      "outputs": [
        {
          "output_type": "execute_result",
          "data": {
            "text/plain": [
              "<bound method NDFrame.head of 0      0\n",
              "1      0\n",
              "2      0\n",
              "3      0\n",
              "4      0\n",
              "      ..\n",
              "759    1\n",
              "760    1\n",
              "761    1\n",
              "762    1\n",
              "763    1\n",
              "Name: classifier, Length: 764, dtype: int64>"
            ]
          },
          "metadata": {},
          "execution_count": 14
        }
      ]
    },
    {
      "cell_type": "markdown",
      "source": [
        "2. Train two single/double hidden layer deep networks by varying the number of hidden nodes (4, 8, 12, 16) in each layer with 70% training and 30% validation data. Use appropriate learning rate, activation, and loss functions and also mention the reason for choosing the same. Report, compare, and explain the observed accuracy and minimum loss achieved."
      ],
      "metadata": {
        "id": "mP1QblZJIyEv"
      }
    },
    {
      "cell_type": "code",
      "source": [
        "#Splitting the data into training and testing in 70:30 ratio.\n",
        "xtrain, xtest, ytrain, ytest = train_test_split(x,y,test_size=0.3, random_state=1, stratify=y)\n"
      ],
      "metadata": {
        "id": "WLI4esboBc2T"
      },
      "execution_count": 15,
      "outputs": []
    },
    {
      "cell_type": "code",
      "source": [
        "ytrain.value_counts(), ytest.value_counts()"
      ],
      "metadata": {
        "colab": {
          "base_uri": "https://localhost:8080/"
        },
        "id": "Pzx4R0sSLexZ",
        "outputId": "f40a94dd-4e32-47e8-eb74-b15102098581"
      },
      "execution_count": 16,
      "outputs": [
        {
          "output_type": "execute_result",
          "data": {
            "text/plain": [
              "(0    310\n",
              " 1    224\n",
              " Name: classifier, dtype: int64, 0    134\n",
              " 1     96\n",
              " Name: classifier, dtype: int64)"
            ]
          },
          "metadata": {},
          "execution_count": 16
        }
      ]
    },
    {
      "cell_type": "markdown",
      "source": [
        "##Model Building"
      ],
      "metadata": {
        "id": "lNCaSFKvH2_z"
      }
    },
    {
      "cell_type": "code",
      "source": [
        "model=Sequential()\n",
        "model.add(Dense(4,input_dim=2, activation='relu',kernel_regularizer = regularizers.l2(0.0001))) #Input layer #using l2 regularizer to assign compressed weights\n",
        "model.add(Dense(8,activation='relu')) #Hidden layer\n",
        "model.add(Dense(12,activation='relu')) #Hidden layer\n",
        "model.add(Dropout(0.3)) # Added dropout to introduce more randomness\n",
        "model.add(Dense(16,activation='relu')) #Hidden layer \n",
        "model.add(Dense(1,activation='sigmoid')) #ouptut layer, Using sigmoid since its a binary output\n",
        "model.summary()"
      ],
      "metadata": {
        "colab": {
          "base_uri": "https://localhost:8080/"
        },
        "id": "kOLyq7GLCdDx",
        "outputId": "a165e77d-f0ae-40ca-c4ca-967293108545"
      },
      "execution_count": 17,
      "outputs": [
        {
          "output_type": "stream",
          "name": "stdout",
          "text": [
            "Model: \"sequential\"\n",
            "_________________________________________________________________\n",
            " Layer (type)                Output Shape              Param #   \n",
            "=================================================================\n",
            " dense (Dense)               (None, 4)                 12        \n",
            "                                                                 \n",
            " dense_1 (Dense)             (None, 8)                 40        \n",
            "                                                                 \n",
            " dense_2 (Dense)             (None, 12)                108       \n",
            "                                                                 \n",
            " dropout (Dropout)           (None, 12)                0         \n",
            "                                                                 \n",
            " dense_3 (Dense)             (None, 16)                208       \n",
            "                                                                 \n",
            " dense_4 (Dense)             (None, 1)                 17        \n",
            "                                                                 \n",
            "=================================================================\n",
            "Total params: 385\n",
            "Trainable params: 385\n",
            "Non-trainable params: 0\n",
            "_________________________________________________________________\n"
          ]
        }
      ]
    },
    {
      "cell_type": "code",
      "source": [
        "xtrain.head"
      ],
      "metadata": {
        "colab": {
          "base_uri": "https://localhost:8080/"
        },
        "id": "gCZHcc1iDQ4e",
        "outputId": "5d639a1a-ee50-40b4-d4fe-4d0e33894a1d"
      },
      "execution_count": 18,
      "outputs": [
        {
          "output_type": "execute_result",
          "data": {
            "text/plain": [
              "<bound method NDFrame.head of      feature1  feature2\n",
              "65   0.002964 -0.092039\n",
              "414 -0.445750 -0.883797\n",
              "194  0.591415  0.598393\n",
              "630  0.374065  0.679751\n",
              "58   0.123803  0.016378\n",
              "..        ...       ...\n",
              "312 -0.863169  0.023720\n",
              "440 -0.308407  0.806917\n",
              "179 -0.578008  0.778017\n",
              "81  -0.341317 -0.456833\n",
              "433 -0.811821 -0.015052\n",
              "\n",
              "[534 rows x 2 columns]>"
            ]
          },
          "metadata": {},
          "execution_count": 18
        }
      ]
    },
    {
      "cell_type": "markdown",
      "source": [
        "##Model Compiling and Training"
      ],
      "metadata": {
        "id": "QN7cUiteJNl_"
      }
    },
    {
      "cell_type": "code",
      "source": [
        "from tensorflow.keras.optimizers import Adam\n",
        "model.compile(loss='binary_crossentropy',optimizer='adam',metrics=['accuracy'])\n",
        "#since we are having binary classifier hence using binary_crossentropy loss function"
      ],
      "metadata": {
        "id": "r3YPtUrdDXkY"
      },
      "execution_count": 19,
      "outputs": []
    },
    {
      "cell_type": "code",
      "source": [
        "history = model.fit(xtrain,ytrain,epochs=20,batch_size=32,validation_data=(xtest,ytest))"
      ],
      "metadata": {
        "colab": {
          "base_uri": "https://localhost:8080/"
        },
        "id": "5Pz-vlYQDhHd",
        "outputId": "99250984-d08d-4fbe-b5a4-26983ff5a794"
      },
      "execution_count": 20,
      "outputs": [
        {
          "output_type": "stream",
          "name": "stdout",
          "text": [
            "Epoch 1/20\n",
            "17/17 [==============================] - 1s 20ms/step - loss: 0.6924 - accuracy: 0.5524 - val_loss: 0.6881 - val_accuracy: 0.5826\n",
            "Epoch 2/20\n",
            "17/17 [==============================] - 0s 5ms/step - loss: 0.6867 - accuracy: 0.5674 - val_loss: 0.6843 - val_accuracy: 0.5826\n",
            "Epoch 3/20\n",
            "17/17 [==============================] - 0s 5ms/step - loss: 0.6833 - accuracy: 0.5787 - val_loss: 0.6810 - val_accuracy: 0.5826\n",
            "Epoch 4/20\n",
            "17/17 [==============================] - 0s 5ms/step - loss: 0.6788 - accuracy: 0.5805 - val_loss: 0.6782 - val_accuracy: 0.5826\n",
            "Epoch 5/20\n",
            "17/17 [==============================] - 0s 6ms/step - loss: 0.6781 - accuracy: 0.5805 - val_loss: 0.6762 - val_accuracy: 0.5826\n",
            "Epoch 6/20\n",
            "17/17 [==============================] - 0s 6ms/step - loss: 0.6788 - accuracy: 0.5805 - val_loss: 0.6756 - val_accuracy: 0.5826\n",
            "Epoch 7/20\n",
            "17/17 [==============================] - 0s 5ms/step - loss: 0.6815 - accuracy: 0.5805 - val_loss: 0.6752 - val_accuracy: 0.5826\n",
            "Epoch 8/20\n",
            "17/17 [==============================] - 0s 6ms/step - loss: 0.6794 - accuracy: 0.5805 - val_loss: 0.6749 - val_accuracy: 0.5826\n",
            "Epoch 9/20\n",
            "17/17 [==============================] - 0s 5ms/step - loss: 0.6766 - accuracy: 0.5805 - val_loss: 0.6747 - val_accuracy: 0.5826\n",
            "Epoch 10/20\n",
            "17/17 [==============================] - 0s 6ms/step - loss: 0.6784 - accuracy: 0.5805 - val_loss: 0.6747 - val_accuracy: 0.5826\n",
            "Epoch 11/20\n",
            "17/17 [==============================] - 0s 7ms/step - loss: 0.6757 - accuracy: 0.5805 - val_loss: 0.6741 - val_accuracy: 0.5826\n",
            "Epoch 12/20\n",
            "17/17 [==============================] - 0s 5ms/step - loss: 0.6731 - accuracy: 0.5805 - val_loss: 0.6739 - val_accuracy: 0.5826\n",
            "Epoch 13/20\n",
            "17/17 [==============================] - 0s 5ms/step - loss: 0.6766 - accuracy: 0.5805 - val_loss: 0.6737 - val_accuracy: 0.5826\n",
            "Epoch 14/20\n",
            "17/17 [==============================] - 0s 10ms/step - loss: 0.6805 - accuracy: 0.5805 - val_loss: 0.6738 - val_accuracy: 0.5826\n",
            "Epoch 15/20\n",
            "17/17 [==============================] - 0s 5ms/step - loss: 0.6751 - accuracy: 0.5805 - val_loss: 0.6736 - val_accuracy: 0.5826\n",
            "Epoch 16/20\n",
            "17/17 [==============================] - 0s 5ms/step - loss: 0.6787 - accuracy: 0.5805 - val_loss: 0.6735 - val_accuracy: 0.5826\n",
            "Epoch 17/20\n",
            "17/17 [==============================] - 0s 6ms/step - loss: 0.6786 - accuracy: 0.5805 - val_loss: 0.6735 - val_accuracy: 0.5826\n",
            "Epoch 18/20\n",
            "17/17 [==============================] - 0s 5ms/step - loss: 0.6760 - accuracy: 0.5805 - val_loss: 0.6731 - val_accuracy: 0.5826\n",
            "Epoch 19/20\n",
            "17/17 [==============================] - 0s 5ms/step - loss: 0.6762 - accuracy: 0.5805 - val_loss: 0.6727 - val_accuracy: 0.5826\n",
            "Epoch 20/20\n",
            "17/17 [==============================] - 0s 5ms/step - loss: 0.6770 - accuracy: 0.5805 - val_loss: 0.6726 - val_accuracy: 0.5826\n"
          ]
        }
      ]
    },
    {
      "cell_type": "markdown",
      "source": [
        "##Model Evaluation"
      ],
      "metadata": {
        "id": "fd00G0fzJqbA"
      }
    },
    {
      "cell_type": "code",
      "source": [
        "loss, accuracy = model.evaluate(xtrain, ytrain, verbose=False)\n",
        "print(\"Training Accuracy: {:.4f}\".format(accuracy))\n",
        "loss, accuracy = model.evaluate(xtest, ytest, verbose=False)\n",
        "print(\"Testing Accuracy:  {:.4f}\".format(accuracy))"
      ],
      "metadata": {
        "colab": {
          "base_uri": "https://localhost:8080/"
        },
        "id": "RvEHxeE6EAWt",
        "outputId": "a5ec2203-0eb4-42bb-8ae6-4ea4a968dfb3"
      },
      "execution_count": 21,
      "outputs": [
        {
          "output_type": "stream",
          "name": "stdout",
          "text": [
            "Training Accuracy: 0.5805\n",
            "Testing Accuracy:  0.5826\n"
          ]
        }
      ]
    },
    {
      "cell_type": "code",
      "source": [
        "plt.plot(history.history['loss'])\n",
        "plt.plot(history.history['val_loss'])\n",
        "plt.title('Model loss')\n",
        "plt.xlabel('Epochs')\n",
        "plt.ylabel('Loss')\n",
        "plt.legend(['Train', 'Val'], loc='upper right')\n",
        "plt.show()"
      ],
      "metadata": {
        "colab": {
          "base_uri": "https://localhost:8080/",
          "height": 295
        },
        "id": "5vbXOqvpEuvv",
        "outputId": "8cc9d3ca-3a9a-4952-d978-814fc48579f9"
      },
      "execution_count": 22,
      "outputs": [
        {
          "output_type": "display_data",
          "data": {
            "image/png": "[encoded data removed]",
            "text/plain": [
              "<Figure size 432x288 with 1 Axes>"
            ]
          },
          "metadata": {
            "needs_background": "light"
          }
        }
      ]
    },
    {
      "cell_type": "code",
      "source": [
        "plt.plot(history.history['accuracy'])\n",
        "plt.plot(history.history['val_accuracy'])\n",
        "plt.title('Model accuracy')\n",
        "plt.xlabel('Epochs')\n",
        "plt.ylabel('Accuracy')\n",
        "plt.legend(['Train', 'Val'], loc='lower right')\n",
        "plt.show()"
      ],
      "metadata": {
        "colab": {
          "base_uri": "https://localhost:8080/",
          "height": 295
        },
        "id": "6GAlHtBmExyU",
        "outputId": "c2d0126f-92f0-48d5-b099-56b6b8165e81"
      },
      "execution_count": 23,
      "outputs": [
        {
          "output_type": "display_data",
          "data": {
            "image/png": "[encoded data removed]",
            "text/plain": [
              "<Figure size 432x288 with 1 Axes>"
            ]
          },
          "metadata": {
            "needs_background": "light"
          }
        }
      ]
    },
    {
      "cell_type": "markdown",
      "source": [
        "3. Visually observe the dataset and design an appropriate feature transformation (derived feature) such that after feature transformation, the dataset can be classified using a minimal network architecture (minimum number of parameters). Design, train this minimal network, and report training and validation errors, and trained parameters of the network. Use 75% training and 25% validation data, appropriate learning rate, activation and loss functions. Explain the final results."
      ],
      "metadata": {
        "id": "miqyaOebMJA1"
      }
    },
    {
      "cell_type": "code",
      "source": [
        "sns.pairplot(dataset)"
      ],
      "metadata": {
        "colab": {
          "base_uri": "https://localhost:8080/",
          "height": 567
        },
        "id": "vazB_4NqSA1q",
        "outputId": "fe11f95a-5971-42d7-9cf1-a3bafb8ca351"
      },
      "execution_count": 24,
      "outputs": [
        {
          "output_type": "execute_result",
          "data": {
            "text/plain": [
              "<seaborn.axisgrid.PairGrid at 0x7f50563daf50>"
            ]
          },
          "metadata": {},
          "execution_count": 24
        },
        {
          "output_type": "display_data",
          "data": {
            "image/png": "[encoded data removed]",
            "text/plain": [
              "<Figure size 540x540 with 12 Axes>"
            ]
          },
          "metadata": {
            "needs_background": "light"
          }
        }
      ]
    },
    {
      "cell_type": "markdown",
      "source": [
        "No relation between features hence extracting new feature by adding two dataset values"
      ],
      "metadata": {
        "id": "HR-PYA34MdEY"
      }
    },
    {
      "cell_type": "code",
      "source": [
        "dataset['feature1'].describe()"
      ],
      "metadata": {
        "colab": {
          "base_uri": "https://localhost:8080/"
        },
        "id": "O0iQc3l0gBGa",
        "outputId": "8ae5b418-ae83-4287-b35d-47571814e62c"
      },
      "execution_count": 25,
      "outputs": [
        {
          "output_type": "execute_result",
          "data": {
            "text/plain": [
              "count    764.000000\n",
              "mean       0.025005\n",
              "std        0.480714\n",
              "min       -0.996726\n",
              "25%       -0.351179\n",
              "50%        0.028465\n",
              "75%        0.404878\n",
              "max        0.953268\n",
              "Name: feature1, dtype: float64"
            ]
          },
          "metadata": {},
          "execution_count": 25
        }
      ]
    },
    {
      "cell_type": "markdown",
      "source": [
        "Could see the feature1 have values between -1 and 1"
      ],
      "metadata": {
        "id": "15nEdH23AtYI"
      }
    },
    {
      "cell_type": "code",
      "source": [
        "dataset['feature2'].describe()"
      ],
      "metadata": {
        "colab": {
          "base_uri": "https://localhost:8080/"
        },
        "id": "HIk9PDlIgjVo",
        "outputId": "cf485463-967d-454c-bb6d-d3fc02e28d91"
      },
      "execution_count": 26,
      "outputs": [
        {
          "output_type": "execute_result",
          "data": {
            "text/plain": [
              "count    764.000000\n",
              "mean      -0.006135\n",
              "std        0.499429\n",
              "min       -0.999604\n",
              "25%       -0.420132\n",
              "50%       -0.005979\n",
              "75%        0.382846\n",
              "max        0.984892\n",
              "Name: feature2, dtype: float64"
            ]
          },
          "metadata": {},
          "execution_count": 26
        }
      ]
    },
    {
      "cell_type": "markdown",
      "source": [
        "Could see the feature2 have values between -1 and 1"
      ],
      "metadata": {
        "id": "0zgpWJEQA2et"
      }
    },
    {
      "cell_type": "code",
      "source": [
        "import numpy as np\n",
        "import pandas as pd\n",
        "\n",
        "#Since the both feature 1 and feature 2 have values between -1 and 1 hence binning the numerical values and converting it into categorical data by using below template\n",
        "#-1 to -0.9 -> Label A\n",
        "#-0.9 to -0.8 -> Label B\n",
        "#-0.8 to -0.7 -> Label C\n",
        "#-0.7 to -0.6 -> Label D\n",
        "#-0.6 to -0.5 -> Label E\n",
        "#-0.5to -0.4 -> Label F\n",
        "#-0.4 to -0.3 -> Label G\n",
        "#-0.3 to -0.2 -> Label H\n",
        "#-0.2 to -0.1 -> Label I\n",
        "#-0.1 to 0.0 -> Label J\n",
        "#0.0 to 0.1 -> Label K\n",
        "#0.1 to 0.2 -> Label L\n",
        "#0.2 to 0.3 -> Label M\n",
        "#0.3 to 0.4 -> Label N\n",
        "#0.4 to 0.5 -> Label O\n",
        "#0.5 to 0.6 -> Label P\n",
        "#0.6 to 0.7 -> Label Q\n",
        "#0.7 to 0.8 -> Label R\n",
        "#0.8 to 0.9 -> Label S\n",
        "#0.9 to Infinity -> Label T\n",
        "\n",
        "#Converting both featues numerical data to categorical data\n",
        "dataset['binned_feature1'] = pd.cut(dataset.feature1, bins=[-1,-0.9,-0.8,-0.7,-0.6,-0.5,-0.4,-0.3,-0.2,-0.1,0,0.1,0.2,0.3,0.4,0.5,0.6,0.7,0.8,0.9, np.inf], include_lowest=False, right=True, labels=['A','B','C','D','E','F','G','H','I','J','K','L','M','N','O','P','Q','R','S','T'])\n",
        "dataset['binned_feature2'] = pd.cut(dataset.feature2, bins=[-1,-0.9,-0.8,-0.7,-0.6,-0.5,-0.4,-0.3,-0.2,-0.1,0,0.1,0.2,0.3,0.4,0.5,0.6,0.7,0.8,0.9, np.inf], include_lowest=False, right=True, labels=['A','B','C','D','E','F','G','H','I','J','K','L','M','N','O','P','Q','R','S','T'])\n",
        "\n",
        "#Deriving a new feature by concatenating two categorical data of feature1 and feature2\n",
        "dataset['derived_feature'] = dataset['binned_feature1'].astype(str) + dataset['binned_feature2'].astype(str)\n",
        "dataset['derived_feature']"
      ],
      "metadata": {
        "colab": {
          "base_uri": "https://localhost:8080/"
        },
        "id": "3sNkoSzkiKtH",
        "outputId": "d47644af-4ef1-4bc6-f8b9-96ddb64354b8"
      },
      "execution_count": 27,
      "outputs": [
        {
          "output_type": "execute_result",
          "data": {
            "text/plain": [
              "0      EM\n",
              "1      ME\n",
              "2      IP\n",
              "3      EM\n",
              "4      FG\n",
              "       ..\n",
              "759    ML\n",
              "760    JG\n",
              "761    HM\n",
              "762    RH\n",
              "763    MM\n",
              "Name: derived_feature, Length: 764, dtype: object"
            ]
          },
          "metadata": {},
          "execution_count": 27
        }
      ]
    },
    {
      "cell_type": "code",
      "source": [
        "dataset['derived_feature'].astype(str)"
      ],
      "metadata": {
        "colab": {
          "base_uri": "https://localhost:8080/"
        },
        "id": "eLQItwnHwFaf",
        "outputId": "392d176f-a168-471c-dd42-72651a3077bf"
      },
      "execution_count": 28,
      "outputs": [
        {
          "output_type": "execute_result",
          "data": {
            "text/plain": [
              "0      EM\n",
              "1      ME\n",
              "2      IP\n",
              "3      EM\n",
              "4      FG\n",
              "       ..\n",
              "759    ML\n",
              "760    JG\n",
              "761    HM\n",
              "762    RH\n",
              "763    MM\n",
              "Name: derived_feature, Length: 764, dtype: object"
            ]
          },
          "metadata": {},
          "execution_count": 28
        }
      ]
    },
    {
      "cell_type": "code",
      "source": [
        "#Encoding the derived feature since it has categorical string data\n",
        "from sklearn.preprocessing import LabelBinarizer\n",
        "x = LabelBinarizer().fit_transform(dataset.derived_feature)\n",
        "y = dataset['classifier']\n",
        "#Splitting the data into training and testing\n",
        "xtrain, xtest, ytrain, ytest = train_test_split(x,y,test_size=0.25, random_state=42)"
      ],
      "metadata": {
        "id": "IMHjbDVaVj4e"
      },
      "execution_count": 29,
      "outputs": []
    },
    {
      "cell_type": "code",
      "source": [
        "xtrain"
      ],
      "metadata": {
        "colab": {
          "base_uri": "https://localhost:8080/"
        },
        "id": "l6kka8qKtozL",
        "outputId": "ae72343c-7d61-4ad0-d47c-80c70082e0e7"
      },
      "execution_count": 30,
      "outputs": [
        {
          "output_type": "execute_result",
          "data": {
            "text/plain": [
              "array([[0, 0, 0, ..., 0, 0, 0],\n",
              "       [0, 0, 0, ..., 0, 0, 0],\n",
              "       [0, 0, 0, ..., 0, 0, 0],\n",
              "       ...,\n",
              "       [0, 0, 0, ..., 0, 0, 0],\n",
              "       [0, 0, 0, ..., 0, 0, 0],\n",
              "       [0, 0, 0, ..., 0, 0, 0]])"
            ]
          },
          "metadata": {},
          "execution_count": 30
        }
      ]
    },
    {
      "cell_type": "code",
      "source": [
        "xtrain.shape, xtest.shape, ytrain.shape, ytest.shape"
      ],
      "metadata": {
        "colab": {
          "base_uri": "https://localhost:8080/"
        },
        "id": "4giIKreZs4rg",
        "outputId": "8d002d6b-90c3-4f7c-d4f8-cd181860343e"
      },
      "execution_count": 31,
      "outputs": [
        {
          "output_type": "execute_result",
          "data": {
            "text/plain": [
              "((573, 301), (191, 301), (573,), (191,))"
            ]
          },
          "metadata": {},
          "execution_count": 31
        }
      ]
    },
    {
      "cell_type": "code",
      "source": [
        "input_size=xtrain.shape[1]"
      ],
      "metadata": {
        "id": "fBWo6ibl-zEr"
      },
      "execution_count": 32,
      "outputs": []
    },
    {
      "cell_type": "markdown",
      "source": [
        "##Building Model 2"
      ],
      "metadata": {
        "id": "B7J3ndRKN4qC"
      }
    },
    {
      "cell_type": "markdown",
      "source": [
        "Creating the minimal network since we have only one derived input"
      ],
      "metadata": {
        "id": "ucHjPRlwEtAJ"
      }
    },
    {
      "cell_type": "code",
      "source": [
        "model2=Sequential()\n",
        "#l2 regularization is also one of the feature selection hence used l2 regularization here\n",
        "model2.add(Dense(4,input_shape=(input_size,), activation='relu',kernel_regularizer = regularizers.l2(0.0001))) #Input layer\n",
        "model2.add(Dense(16,activation='relu')) #Hidden layer\n",
        "model2.add(Dense(1,activation='sigmoid')) #ouptut layer, Using sigmoid since its a binary output\n",
        "model2.summary()"
      ],
      "metadata": {
        "colab": {
          "base_uri": "https://localhost:8080/"
        },
        "id": "uxHmw_ytWcQj",
        "outputId": "720ef19b-add9-4b6c-d966-673d41eba410"
      },
      "execution_count": 33,
      "outputs": [
        {
          "output_type": "stream",
          "name": "stdout",
          "text": [
            "Model: \"sequential_1\"\n",
            "_________________________________________________________________\n",
            " Layer (type)                Output Shape              Param #   \n",
            "=================================================================\n",
            " dense_5 (Dense)             (None, 4)                 1208      \n",
            "                                                                 \n",
            " dense_6 (Dense)             (None, 16)                80        \n",
            "                                                                 \n",
            " dense_7 (Dense)             (None, 1)                 17        \n",
            "                                                                 \n",
            "=================================================================\n",
            "Total params: 1,305\n",
            "Trainable params: 1,305\n",
            "Non-trainable params: 0\n",
            "_________________________________________________________________\n"
          ]
        }
      ]
    },
    {
      "cell_type": "markdown",
      "source": [
        "##Model 2 Compiling and Training"
      ],
      "metadata": {
        "id": "oW0cGNL9N_zJ"
      }
    },
    {
      "cell_type": "code",
      "source": [
        "model2.compile(loss='binary_crossentropy',optimizer='adam',metrics=['accuracy'])"
      ],
      "metadata": {
        "id": "tw9eTs9lWz1J"
      },
      "execution_count": 34,
      "outputs": []
    },
    {
      "cell_type": "code",
      "source": [
        "history2 = model2.fit(xtrain,ytrain,epochs=20,batch_size=50,validation_data=(xtest,ytest))"
      ],
      "metadata": {
        "colab": {
          "base_uri": "https://localhost:8080/"
        },
        "id": "RHdxTrFGW63s",
        "outputId": "0351faae-6a92-4e9f-bcc8-b0115855dd2e"
      },
      "execution_count": 35,
      "outputs": [
        {
          "output_type": "stream",
          "name": "stdout",
          "text": [
            "Epoch 1/20\n",
            "12/12 [==============================] - 1s 20ms/step - loss: 0.6931 - accuracy: 0.5340 - val_loss: 0.6910 - val_accuracy: 0.5969\n",
            "Epoch 2/20\n",
            "12/12 [==============================] - 0s 5ms/step - loss: 0.6902 - accuracy: 0.5742 - val_loss: 0.6874 - val_accuracy: 0.6073\n",
            "Epoch 3/20\n",
            "12/12 [==============================] - 0s 5ms/step - loss: 0.6870 - accuracy: 0.5724 - val_loss: 0.6833 - val_accuracy: 0.6073\n",
            "Epoch 4/20\n",
            "12/12 [==============================] - 0s 7ms/step - loss: 0.6835 - accuracy: 0.5724 - val_loss: 0.6788 - val_accuracy: 0.6073\n",
            "Epoch 5/20\n",
            "12/12 [==============================] - 0s 6ms/step - loss: 0.6789 - accuracy: 0.5724 - val_loss: 0.6749 - val_accuracy: 0.6073\n",
            "Epoch 6/20\n",
            "12/12 [==============================] - 0s 7ms/step - loss: 0.6738 - accuracy: 0.5724 - val_loss: 0.6699 - val_accuracy: 0.6073\n",
            "Epoch 7/20\n",
            "12/12 [==============================] - 0s 8ms/step - loss: 0.6670 - accuracy: 0.5724 - val_loss: 0.6641 - val_accuracy: 0.6073\n",
            "Epoch 8/20\n",
            "12/12 [==============================] - 0s 7ms/step - loss: 0.6587 - accuracy: 0.5724 - val_loss: 0.6566 - val_accuracy: 0.6073\n",
            "Epoch 9/20\n",
            "12/12 [==============================] - 0s 8ms/step - loss: 0.6489 - accuracy: 0.5724 - val_loss: 0.6478 - val_accuracy: 0.6073\n",
            "Epoch 10/20\n",
            "12/12 [==============================] - 0s 8ms/step - loss: 0.6364 - accuracy: 0.5724 - val_loss: 0.6379 - val_accuracy: 0.6073\n",
            "Epoch 11/20\n",
            "12/12 [==============================] - 0s 6ms/step - loss: 0.6217 - accuracy: 0.5742 - val_loss: 0.6258 - val_accuracy: 0.6126\n",
            "Epoch 12/20\n",
            "12/12 [==============================] - 0s 5ms/step - loss: 0.6041 - accuracy: 0.6283 - val_loss: 0.6119 - val_accuracy: 0.6440\n",
            "Epoch 13/20\n",
            "12/12 [==============================] - 0s 5ms/step - loss: 0.5843 - accuracy: 0.6667 - val_loss: 0.5963 - val_accuracy: 0.6806\n",
            "Epoch 14/20\n",
            "12/12 [==============================] - 0s 5ms/step - loss: 0.5617 - accuracy: 0.7225 - val_loss: 0.5800 - val_accuracy: 0.7277\n",
            "Epoch 15/20\n",
            "12/12 [==============================] - 0s 5ms/step - loss: 0.5365 - accuracy: 0.7714 - val_loss: 0.5622 - val_accuracy: 0.7435\n",
            "Epoch 16/20\n",
            "12/12 [==============================] - 0s 7ms/step - loss: 0.5098 - accuracy: 0.8220 - val_loss: 0.5427 - val_accuracy: 0.8063\n",
            "Epoch 17/20\n",
            "12/12 [==============================] - 0s 6ms/step - loss: 0.4816 - accuracy: 0.8831 - val_loss: 0.5225 - val_accuracy: 0.8220\n",
            "Epoch 18/20\n",
            "12/12 [==============================] - 0s 7ms/step - loss: 0.4515 - accuracy: 0.9058 - val_loss: 0.5010 - val_accuracy: 0.8272\n",
            "Epoch 19/20\n",
            "12/12 [==============================] - 0s 6ms/step - loss: 0.4212 - accuracy: 0.9162 - val_loss: 0.4799 - val_accuracy: 0.8534\n",
            "Epoch 20/20\n",
            "12/12 [==============================] - 0s 7ms/step - loss: 0.3920 - accuracy: 0.9250 - val_loss: 0.4604 - val_accuracy: 0.8586\n"
          ]
        }
      ]
    },
    {
      "cell_type": "markdown",
      "source": [
        "##Model 2 Evaluation"
      ],
      "metadata": {
        "id": "_ctsC4yyOI5q"
      }
    },
    {
      "cell_type": "code",
      "source": [
        "loss, accuracy = model2.evaluate(xtrain, ytrain, verbose=False)\n",
        "print(\"Training Accuracy: {:.4f}\".format(accuracy))\n",
        "loss, accuracy = model2.evaluate(xtest, ytest, verbose=False)\n",
        "print(\"Testing Accuracy:  {:.4f}\".format(accuracy))"
      ],
      "metadata": {
        "colab": {
          "base_uri": "https://localhost:8080/"
        },
        "id": "l27RQGD0XFr-",
        "outputId": "b4b5c5e0-7170-44fe-9bd3-4038f5cb7084"
      },
      "execution_count": 36,
      "outputs": [
        {
          "output_type": "stream",
          "name": "stdout",
          "text": [
            "Training Accuracy: 0.9302\n",
            "Testing Accuracy:  0.8586\n"
          ]
        }
      ]
    },
    {
      "cell_type": "code",
      "source": [
        "plt.plot(history2.history['loss'])\n",
        "plt.plot(history2.history['val_loss'])\n",
        "plt.title('Model loss')\n",
        "plt.xlabel('Epochs')\n",
        "plt.ylabel('Loss')\n",
        "plt.legend(['Train', 'Val'], loc='upper right')\n",
        "plt.show()"
      ],
      "metadata": {
        "colab": {
          "base_uri": "https://localhost:8080/",
          "height": 295
        },
        "id": "SIs2YdRXXhFO",
        "outputId": "3ace59b3-cf76-431c-d897-61ff29438e0c"
      },
      "execution_count": 37,
      "outputs": [
        {
          "output_type": "display_data",
          "data": {
            "image/png": "[encoded data removed]",
            "text/plain": [
              "<Figure size 432x288 with 1 Axes>"
            ]
          },
          "metadata": {
            "needs_background": "light"
          }
        }
      ]
    },
    {
      "cell_type": "code",
      "source": [
        "plt.plot(history2.history['accuracy'])\n",
        "plt.plot(history2.history['val_accuracy'])\n",
        "plt.title('Model accuracy')\n",
        "plt.xlabel('Epochs')\n",
        "plt.ylabel('Accuracy')\n",
        "plt.legend(['Train', 'Val'], loc='lower right')\n",
        "plt.show()"
      ],
      "metadata": {
        "colab": {
          "base_uri": "https://localhost:8080/",
          "height": 295
        },
        "id": "EBuF97ufXxMP",
        "outputId": "c78e7ef7-0978-4e75-d590-631110624898"
      },
      "execution_count": 38,
      "outputs": [
        {
          "output_type": "display_data",
          "data": {
            "image/png": "[encoded data removed]",
            "text/plain": [
              "<Figure size 432x288 with 1 Axes>"
            ]
          },
          "metadata": {
            "needs_background": "light"
          }
        }
      ]
    },
    {
      "cell_type": "code",
      "source": [
        "y_pred_new = model2.predict(xtest)\n",
        "y_pred_nn = np.where(y_pred_new>0.5,1,0)\n",
        "print(\"Accuracy:\\n\", accuracy_score(ytest, y_pred_nn))\n",
        "print(\"Confusion Matrix:\\n\", confusion_matrix(ytest, y_pred_nn))\n",
        "print(\"Classification Report:\\n\", classification_report(ytest, y_pred_nn))"
      ],
      "metadata": {
        "colab": {
          "base_uri": "https://localhost:8080/"
        },
        "id": "RD0LLJy0MspX",
        "outputId": "3720e8f9-488d-476d-d39c-57078a785204"
      },
      "execution_count": 39,
      "outputs": [
        {
          "output_type": "stream",
          "name": "stdout",
          "text": [
            "Accuracy:\n",
            " 0.8586387434554974\n",
            "Confusion Matrix:\n",
            " [[114   2]\n",
            " [ 25  50]]\n",
            "Classification Report:\n",
            "               precision    recall  f1-score   support\n",
            "\n",
            "           0       0.82      0.98      0.89       116\n",
            "           1       0.96      0.67      0.79        75\n",
            "\n",
            "    accuracy                           0.86       191\n",
            "   macro avg       0.89      0.82      0.84       191\n",
            "weighted avg       0.88      0.86      0.85       191\n",
            "\n"
          ]
        }
      ]
    },
    {
      "cell_type": "markdown",
      "source": [
        "**Conclusion:**\n",
        "\n",
        "For Model1, we have used two feautures and build the model with 3 hidden layers. The accuracy for the model1 is around 60%.\n",
        "\n",
        "For Model2, we have derived a new feature using the two features (using binning method) and build the model with only one hidden layer since we have only one feature in the training data. The accuracy for the model2 is around 86%.\n",
        "\n",
        "Hence minimizing the network helps to improve the accuracy of the model. So we are concluding that Model2 is better than Model1"
      ],
      "metadata": {
        "id": "ChttZitkMxCx"
      }
    }
  ]
}