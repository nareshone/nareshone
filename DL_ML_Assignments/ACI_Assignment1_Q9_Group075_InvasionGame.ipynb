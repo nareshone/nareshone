{
 "cells": [
  {
   "cell_type": "markdown",
   "metadata": {},
   "source": [
    "## Assignment 1 - Invasion Game\n",
    "\n",
    "The given notebook is a rough template to help you get started with the structure of the solution. Feel free to build on it. "
   ]
  },
  {
   "cell_type": "code",
   "execution_count": 1,
   "metadata": {},
   "outputs": [],
   "source": [
    "## Step 1\n",
    "# Explain the environment of the player agent\n",
    "\n",
    "#PEAS Descriptor\n",
    "#Performance Measure: Maxmimum no.of land nodes visited using short path and short time.\n",
    "#Environment:  Players, Board, Land cell, water cell\n",
    "#Actuators: move, stop\n",
    "#Sensors: cell value (0,1)\n",
    "\n",
    "#Task Environment\n",
    "#Agent: Goal Based Agent\n",
    "#Partially Observable\n",
    "#Stochastic\n",
    "#Semidynamic\n",
    "#Multi Agent\n",
    "#Sequential\n",
    "#Discrete"
   ]
  },
  {
   "cell_type": "code",
   "execution_count": 2,
   "metadata": {},
   "outputs": [],
   "source": [
    "## Step 2\n",
    "# Explain the algorithm and argue its correctness \n",
    "\n",
    "#Both BFS and DFS uninformed searches suits for the problem statment. Both searches explore the adjacent edges and try to\n",
    "#perform action on the edges\n",
    "\n",
    "# 1. BFS considers all neighbours so its not suitable for decision tree used in puzzle games. But DFS is more suitable for decision\n",
    "#tree. As with one decision, we need to traverse further to augument the decision. If we reach the concluion we won.\n",
    "# 2. DFS is more suitable when there are solutions away from source. \n",
    "\n",
    "#Hence we are using Depth First Search (DFS) algorithm to solve the problem statement."
   ]
  },
  {
   "cell_type": "code",
   "execution_count": 3,
   "metadata": {},
   "outputs": [],
   "source": [
    "#ACI Assignment Q9: Invasion Game\n",
    "from sys import setrecursionlimit\n",
    "setrecursionlimit(100000)\n",
    "\n",
    "#For each value from the given input matrix, This function will check the values of adjacent nodes/cells by\n",
    "#using DFS search. If the node value is land (1) then the node will be updated as visited and search for adjacent nodes which is land and unvisited.\n",
    "# The code will traverse to the board cells/nodes till all the land cells/nodes are visited and provide the maximum number of cells/nodes captured by player 2.\n",
    "def connected_components(board, N, M):\n",
    "  visited = [[False for _ in range(M)] for _ in range(N)]\n",
    "  components = []\n",
    "\n",
    "  for i in range(N):\n",
    "\t    for j in range(M):\n",
    "\t\t    if(board[i][j] == '1' and visited[i][j] == False):\n",
    "\t\t\t    c = []\n",
    "\t\t\t    dfs_algo(board, visited, c, i, j, N, M)\n",
    "\t\t\t    components.append(len(c))\n",
    "  return components\n",
    "\n",
    "#Using DFS algorithm to traverse the nodes/cells till visiting all the unvisited land cells/nodes\n",
    "def dfs_algo(board, visited, c, i, j, N, M):\n",
    " if(i < 0 or j < 0 or i >= N or j >= M or board[i][j] == '0' or visited[i][j] == True):\n",
    "    return\n",
    "\n",
    " visited[i][j] = True\n",
    " c.append([i,j])\n",
    "\n",
    " dfs_algo(board, visited, c, i+1, j, N, M)\n",
    " dfs_algo(board, visited, c, i, j+1, N, M)\n",
    " dfs_algo(board, visited, c, i-1, j, N, M)\n",
    " dfs_algo(board, visited, c, i, j-1, N, M)\n",
    "\n",
    "#Main function -> it takes input and provide output of the program\n",
    "def run_Invasion_Game(N,M,nmmatrix):\n",
    "    board = []\n",
    "    matrix_row_count=len((nmmatrix.split()))\n",
    "    if matrix_row_count != N:\n",
    "        print('No. of rows and no. of matrix values should be matched. ')\n",
    "        exit(0)\n",
    "    for i in range(N):\n",
    "        row = list(nmmatrix.split()[i])\n",
    "        board.append(row)\n",
    "\n",
    "    l = connected_components(board, N, M)\n",
    "\n",
    "    ans = 0\n",
    "\n",
    "    #For getting the player 2 output\n",
    "    for i in range(len(l)):\n",
    "\t    if(i%2 == 1):\n",
    "\t\t    ans += l[i]\n",
    "\n",
    "    print('Output:',ans)\n"
   ]
  },
  {
   "cell_type": "code",
   "execution_count": 4,
   "metadata": {},
   "outputs": [],
   "source": [
    "## Step 4\n",
    "# Outline space and time complexity of the code using pseudocode notation for the steps\n",
    "\n",
    "#Time Complexity: O(NxM) where N=no.of rows in the matrix board and M=no.of columns in the matrix board\n",
    "#Space complexity: worst case O(M×N) in case that the board is filled with lands where DFS goes by M×N deep."
   ]
  },
  {
   "cell_type": "code",
   "execution_count": 5,
   "metadata": {},
   "outputs": [
    {
     "name": "stdout",
     "output_type": "stream",
     "text": [
      "Output: 2\n",
      "Output: 7\n",
      "Output: 3\n"
     ]
    }
   ],
   "source": [
    "## Step 5\n",
    "# TA will make function calls here to test with different inputs\n",
    "run_Invasion_Game(4,4,\"1001 0110 0110 1001\")\n",
    "run_Invasion_Game(5,5,\"10010 00110 10110 11001 11001\")\n",
    "run_Invasion_Game(4,5,\"11010 00101 11101 10000\")"
   ]
  },
  {
   "cell_type": "code",
   "execution_count": 6,
   "metadata": {
    "scrolled": true
   },
   "outputs": [
    {
     "name": "stdout",
     "output_type": "stream",
     "text": [
      "Output: 0\n"
     ]
    }
   ],
   "source": [
    "run_Invasion_Game(2,3,\"100 110\")"
   ]
  },
  {
   "cell_type": "code",
   "execution_count": 7,
   "metadata": {},
   "outputs": [
    {
     "name": "stdout",
     "output_type": "stream",
     "text": [
      "Output: 3\n"
     ]
    }
   ],
   "source": [
    "run_Invasion_Game(3,3,\"001 110 100\")"
   ]
  },
  {
   "cell_type": "code",
   "execution_count": 8,
   "metadata": {},
   "outputs": [
    {
     "name": "stdout",
     "output_type": "stream",
     "text": [
      "Output: 6\n"
     ]
    }
   ],
   "source": [
    "run_Invasion_Game(6,6,\"101010 010101 100100 001001 000000 110011\")"
   ]
  },
  {
   "cell_type": "code",
   "execution_count": null,
   "metadata": {},
   "outputs": [],
   "source": []
  }
 ],
 "metadata": {
  "kernelspec": {
   "display_name": "Python 3",
   "language": "python",
   "name": "python3"
  },
  "language_info": {
   "codemirror_mode": {
    "name": "ipython",
    "version": 3
   },
   "file_extension": ".py",
   "mimetype": "text/x-python",
   "name": "python",
   "nbconvert_exporter": "python",
   "pygments_lexer": "ipython3",
   "version": "3.7.6"
  }
 },
 "nbformat": 4,
 "nbformat_minor": 4
}
