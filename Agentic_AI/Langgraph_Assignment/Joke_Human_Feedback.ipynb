{
 "cells": [
  {
   "cell_type": "code",
   "execution_count": 1,
   "metadata": {},
   "outputs": [
    {
     "data": {
      "text/plain": [
       "AIMessage(content='Hello! How can I assist you today?', additional_kwargs={}, response_metadata={'token_usage': {'completion_tokens': 10, 'prompt_tokens': 30, 'total_tokens': 40, 'completion_time': 0.05, 'prompt_time': 0.003703149, 'queue_time': 0.46517824799999996, 'total_time': 0.053703149}, 'model_name': 'qwen-2.5-32b', 'system_fingerprint': 'fp_35f92f8282', 'finish_reason': 'stop', 'logprobs': None}, id='run-f8eef4c5-9b19-48d8-8cf0-98368c6aaeb0-0', usage_metadata={'input_tokens': 30, 'output_tokens': 10, 'total_tokens': 40})"
      ]
     },
     "execution_count": 1,
     "metadata": {},
     "output_type": "execute_result"
    }
   ],
   "source": [
    "from dotenv import load_dotenv\n",
    "load_dotenv()\n",
    "import os\n",
    "\n",
    "from langchain_groq import ChatGroq\n",
    "\n",
    "\n",
    "#os.environ[\"OPENAI_API_KEY\"]=os.getenv(\"OPENAI_API_KEY\")\n",
    "os.environ[\"GROQ_API_KEY\"]=os.getenv(\"GROQ_API_KEY\")\n",
    "\n",
    "\n",
    "llm=ChatGroq(model=\"qwen-2.5-32b\")\n",
    "#llm = ChatOpenAI(model=\"gpt-4o\")\n",
    "result=llm.invoke(\"Hello\")\n",
    "result"
   ]
  },
  {
   "cell_type": "code",
   "execution_count": 15,
   "metadata": {},
   "outputs": [
    {
     "data": {
      "image/png": "[encoded data removed]",
      "text/plain": [
       "<IPython.core.display.Image object>"
      ]
     },
     "metadata": {},
     "output_type": "display_data"
    }
   ],
   "source": [
    "from IPython.display import Image, display\n",
    "\n",
    "from langgraph.checkpoint.memory import MemorySaver\n",
    "from langgraph.graph import MessagesState\n",
    "from langgraph.graph import START, StateGraph, END\n",
    "from langgraph.prebuilt import tools_condition, ToolNode\n",
    "\n",
    "from langchain_core.messages import AIMessage, HumanMessage, SystemMessage\n",
    "\n",
    "\n",
    "# System message\n",
    "sys_msg = SystemMessage(content=\"You need to tell a joke based on the user input topic.\")\n",
    "\n",
    "# Assistant node\n",
    "def assistant(state: MessagesState):\n",
    "    return {\"messages\": [llm.invoke([sys_msg] + state[\"messages\"])]}\n",
    "\n",
    "# Human feedback node\n",
    "def human_feedback(state: MessagesState):\n",
    "    return {\"messages\": state[\"messages\"]}  # Maintain state\n",
    "\n",
    "# Decision function for human feedback\n",
    "def evaluate_feedback(state: MessagesState) -> str:\n",
    "    \"\"\"Determine whether to continue or end based on user feedback.\"\"\"\n",
    "    last_message = state[\"messages\"][-1].content.lower()\n",
    "    if \"fail\" in last_message:\n",
    "        return \"assistant\"  # ✅ Return a string\n",
    "    else:\n",
    "        return END  # ✅ Return END (correct way)\n",
    "\n",
    "# Graph builder\n",
    "builder = StateGraph(MessagesState)\n",
    "\n",
    "# Add nodes\n",
    "builder.add_node(\"assistant\", assistant)\n",
    "builder.add_node(\"human_feedback\", human_feedback)\n",
    "\n",
    "# Define edges\n",
    "builder.add_edge(START, \"assistant\")\n",
    "builder.add_edge(\"assistant\", \"human_feedback\")\n",
    "\n",
    "# Correct conditional edges call\n",
    "builder.add_conditional_edges(\n",
    "    \"human_feedback\", evaluate_feedback, [\"assistant\", END]\n",
    ")\n",
    "builder.add_edge(\"assistant\", \"human_feedback\")\n",
    "\n",
    "# Setup memory and compile graph\n",
    "memory = MemorySaver()\n",
    "graph = builder.compile(interrupt_before=[\"human_feedback\"], checkpointer=memory)\n",
    "\n",
    "# Display graph\n",
    "display(Image(graph.get_graph().draw_mermaid_png()))\n"
   ]
  },
  {
   "cell_type": "code",
   "execution_count": 16,
   "metadata": {},
   "outputs": [],
   "source": [
    "initial_input={\"messages\":HumanMessage(content=\"Joke topic: Tiger\")}\n",
    "\n",
    "thread={\"configurable\":{\"thread_id\":\"1\"}}"
   ]
  },
  {
   "cell_type": "code",
   "execution_count": 17,
   "metadata": {},
   "outputs": [
    {
     "name": "stdout",
     "output_type": "stream",
     "text": [
      "================================\u001b[1m Human Message \u001b[0m=================================\n",
      "\n",
      "Joke topic: Tiger\n",
      "==================================\u001b[1m Ai Message \u001b[0m==================================\n",
      "\n",
      "Why don't tigers use Facebook? Because they prefer to show their faces in person!\n"
     ]
    }
   ],
   "source": [
    "for event in graph.stream(initial_input,thread,stream_mode=\"values\"):\n",
    "    event['messages'][-1].pretty_print()"
   ]
  },
  {
   "cell_type": "code",
   "execution_count": 24,
   "metadata": {},
   "outputs": [
    {
     "data": {
      "text/plain": [
       "('human_feedback',)"
      ]
     },
     "execution_count": 24,
     "metadata": {},
     "output_type": "execute_result"
    }
   ],
   "source": [
    "state=graph.get_state(thread)\n",
    "state.next"
   ]
  },
  {
   "cell_type": "code",
   "execution_count": 23,
   "metadata": {},
   "outputs": [
    {
     "data": {
      "text/plain": [
       "StateSnapshot(values={'messages': [HumanMessage(content='Joke topic: Tiger', additional_kwargs={}, response_metadata={}, id='b2b28fc6-5146-4681-be0e-c8001ecea05a'), AIMessage(content=\"Why don't tigers use Facebook? Because they prefer to show their faces in person!\", additional_kwargs={}, response_metadata={'token_usage': {'completion_tokens': 19, 'prompt_tokens': 31, 'total_tokens': 50, 'completion_time': 0.095, 'prompt_time': 0.003907668, 'queue_time': 0.235162119, 'total_time': 0.098907668}, 'model_name': 'qwen-2.5-32b', 'system_fingerprint': 'fp_35f92f8282', 'finish_reason': 'stop', 'logprobs': None}, id='run-0213edf1-3c35-47e0-9a23-7d338f843d67-0', usage_metadata={'input_tokens': 31, 'output_tokens': 19, 'total_tokens': 50})]}, next=('human_feedback',), config={'configurable': {'thread_id': '1', 'checkpoint_ns': '', 'checkpoint_id': '1eff3acc-c3f4-6728-8001-b0f058d1f271'}}, metadata={'source': 'loop', 'writes': {'assistant': {'messages': [AIMessage(content=\"Why don't tigers use Facebook? Because they prefer to show their faces in person!\", additional_kwargs={}, response_metadata={'token_usage': {'completion_tokens': 19, 'prompt_tokens': 31, 'total_tokens': 50, 'completion_time': 0.095, 'prompt_time': 0.003907668, 'queue_time': 0.235162119, 'total_time': 0.098907668}, 'model_name': 'qwen-2.5-32b', 'system_fingerprint': 'fp_35f92f8282', 'finish_reason': 'stop', 'logprobs': None}, id='run-0213edf1-3c35-47e0-9a23-7d338f843d67-0', usage_metadata={'input_tokens': 31, 'output_tokens': 19, 'total_tokens': 50})]}}, 'thread_id': '1', 'step': 1, 'parents': {}}, created_at='2025-02-25T19:14:55.839824+00:00', parent_config={'configurable': {'thread_id': '1', 'checkpoint_ns': '', 'checkpoint_id': '1eff3acc-bcbd-63ca-8000-b4bc864f3c13'}}, tasks=(PregelTask(id='1ed1d7a9-bd37-0a10-c939-a1c127b6ddef', name='human_feedback', path=('__pregel_pull', 'human_feedback'), error=None, interrupts=(), state=None, result=None),))"
      ]
     },
     "execution_count": 23,
     "metadata": {},
     "output_type": "execute_result"
    }
   ],
   "source": [
    "state"
   ]
  },
  {
   "cell_type": "code",
   "execution_count": 20,
   "metadata": {},
   "outputs": [
    {
     "data": {
      "text/plain": [
       "{'configurable': {'thread_id': '1',\n",
       "  'checkpoint_ns': '',\n",
       "  'checkpoint_id': '1eff3ad4-aac4-6479-8002-63aeb62ddf4f'}}"
      ]
     },
     "execution_count": 20,
     "metadata": {},
     "output_type": "execute_result"
    }
   ],
   "source": [
    "graph.update_state(thread,{\"messages\":[HumanMessage(content=\"fail\")]})"
   ]
  },
  {
   "cell_type": "code",
   "execution_count": 21,
   "metadata": {},
   "outputs": [
    {
     "name": "stdout",
     "output_type": "stream",
     "text": [
      "================================\u001b[1m Human Message \u001b[0m=================================\n",
      "\n",
      "Joke topic: Tiger\n",
      "==================================\u001b[1m Ai Message \u001b[0m==================================\n",
      "\n",
      "Why don't tigers use Facebook? Because they prefer to show their faces in person!\n",
      "================================\u001b[1m Human Message \u001b[0m=================================\n",
      "\n",
      "fail\n"
     ]
    }
   ],
   "source": [
    "new_state = graph.get_state(thread).values\n",
    "for m in new_state['messages']:\n",
    "    m.pretty_print()"
   ]
  },
  {
   "cell_type": "code",
   "execution_count": 22,
   "metadata": {},
   "outputs": [
    {
     "name": "stdout",
     "output_type": "stream",
     "text": [
      "================================\u001b[1m Human Message \u001b[0m=================================\n",
      "\n",
      "fail\n",
      "================================\u001b[1m Human Message \u001b[0m=================================\n",
      "\n",
      "fail\n",
      "==================================\u001b[1m Ai Message \u001b[0m==================================\n",
      "\n",
      "Okay, let's try this one: Why was the tiger not invited to the party? Because he always Roars naked! Just kidding, that one was rough. How about: Why did the tiger get arrested? Because he kept stripping off his stripes near the police station! \n",
      "\n",
      "I hope you found that one a bit more amusing!\n"
     ]
    }
   ],
   "source": [
    "for event in graph.stream(None, thread, stream_mode=\"values\"):\n",
    "    event['messages'][-1].pretty_print()"
   ]
  },
  {
   "cell_type": "code",
   "execution_count": 25,
   "metadata": {},
   "outputs": [
    {
     "data": {
      "text/plain": [
       "{'configurable': {'thread_id': '1',\n",
       "  'checkpoint_ns': '',\n",
       "  'checkpoint_id': '1eff3ada-0300-6854-8005-ec2ee6ae2b7c'}}"
      ]
     },
     "execution_count": 25,
     "metadata": {},
     "output_type": "execute_result"
    }
   ],
   "source": [
    "graph.update_state(thread,{\"messages\":[HumanMessage(content=\"fail, send me better joke\")]})"
   ]
  },
  {
   "cell_type": "code",
   "execution_count": 26,
   "metadata": {},
   "outputs": [
    {
     "name": "stdout",
     "output_type": "stream",
     "text": [
      "================================\u001b[1m Human Message \u001b[0m=================================\n",
      "\n",
      "Joke topic: Tiger\n",
      "==================================\u001b[1m Ai Message \u001b[0m==================================\n",
      "\n",
      "Why don't tigers use Facebook? Because they prefer to show their faces in person!\n",
      "================================\u001b[1m Human Message \u001b[0m=================================\n",
      "\n",
      "fail\n",
      "==================================\u001b[1m Ai Message \u001b[0m==================================\n",
      "\n",
      "Okay, let's try this one: Why was the tiger not invited to the party? Because he always Roars naked! Just kidding, that one was rough. How about: Why did the tiger get arrested? Because he kept stripping off his stripes near the police station! \n",
      "\n",
      "I hope you found that one a bit more amusing!\n",
      "================================\u001b[1m Human Message \u001b[0m=================================\n",
      "\n",
      "fail, send me better joke\n"
     ]
    }
   ],
   "source": [
    "new_state = graph.get_state(thread).values\n",
    "for m in new_state['messages']:\n",
    "    m.pretty_print()"
   ]
  },
  {
   "cell_type": "code",
   "execution_count": 27,
   "metadata": {},
   "outputs": [
    {
     "name": "stdout",
     "output_type": "stream",
     "text": [
      "================================\u001b[1m Human Message \u001b[0m=================================\n",
      "\n",
      "fail, send me better joke\n",
      "================================\u001b[1m Human Message \u001b[0m=================================\n",
      "\n",
      "fail, send me better joke\n",
      "==================================\u001b[1m Ai Message \u001b[0m==================================\n",
      "\n",
      "Sure, here's a better one:\n",
      "\n",
      "Why did the tiger cross the road?\n",
      "\n",
      "To get to the tiger side of the road!\n"
     ]
    }
   ],
   "source": [
    "for event in graph.stream(None, thread, stream_mode=\"values\"):\n",
    "    event['messages'][-1].pretty_print()"
   ]
  },
  {
   "cell_type": "code",
   "execution_count": 28,
   "metadata": {},
   "outputs": [
    {
     "name": "stdout",
     "output_type": "stream",
     "text": [
      "================================\u001b[1m Human Message \u001b[0m=================================\n",
      "\n",
      "Joke topic: Tiger\n",
      "==================================\u001b[1m Ai Message \u001b[0m==================================\n",
      "\n",
      "Why don't tigers use Facebook? Because they prefer to show their faces in person!\n",
      "================================\u001b[1m Human Message \u001b[0m=================================\n",
      "\n",
      "fail\n",
      "==================================\u001b[1m Ai Message \u001b[0m==================================\n",
      "\n",
      "Okay, let's try this one: Why was the tiger not invited to the party? Because he always Roars naked! Just kidding, that one was rough. How about: Why did the tiger get arrested? Because he kept stripping off his stripes near the police station! \n",
      "\n",
      "I hope you found that one a bit more amusing!\n",
      "================================\u001b[1m Human Message \u001b[0m=================================\n",
      "\n",
      "fail, send me better joke\n",
      "==================================\u001b[1m Ai Message \u001b[0m==================================\n",
      "\n",
      "Sure, here's a better one:\n",
      "\n",
      "Why did the tiger cross the road?\n",
      "\n",
      "To get to the tiger side of the road!\n",
      "================================\u001b[1m Human Message \u001b[0m=================================\n",
      "\n",
      "Nice joke\n"
     ]
    }
   ],
   "source": [
    "graph.update_state(thread,{\"messages\":[HumanMessage(content=\"Nice joke\")]})\n",
    "new_state = graph.get_state(thread).values\n",
    "for m in new_state['messages']:\n",
    "    m.pretty_print()"
   ]
  },
  {
   "cell_type": "code",
   "execution_count": 32,
   "metadata": {},
   "outputs": [
    {
     "name": "stdout",
     "output_type": "stream",
     "text": [
      "================================\u001b[1m Human Message \u001b[0m=================================\n",
      "\n",
      "Nice joke\n"
     ]
    }
   ],
   "source": [
    "for event in graph.stream(None, thread, stream_mode=\"values\"):\n",
    "    event['messages'][-1].pretty_print()"
   ]
  },
  {
   "cell_type": "code",
   "execution_count": 33,
   "metadata": {},
   "outputs": [
    {
     "data": {
      "text/plain": [
       "()"
      ]
     },
     "execution_count": 33,
     "metadata": {},
     "output_type": "execute_result"
    }
   ],
   "source": [
    "state=graph.get_state(thread)\n",
    "state.next"
   ]
  },
  {
   "cell_type": "code",
   "execution_count": 34,
   "metadata": {},
   "outputs": [
    {
     "data": {
      "text/plain": [
       "StateSnapshot(values={'messages': [HumanMessage(content='Joke topic: Tiger', additional_kwargs={}, response_metadata={}, id='b2b28fc6-5146-4681-be0e-c8001ecea05a'), AIMessage(content=\"Why don't tigers use Facebook? Because they prefer to show their faces in person!\", additional_kwargs={}, response_metadata={'token_usage': {'completion_tokens': 19, 'prompt_tokens': 31, 'total_tokens': 50, 'completion_time': 0.095, 'prompt_time': 0.003907668, 'queue_time': 0.235162119, 'total_time': 0.098907668}, 'model_name': 'qwen-2.5-32b', 'system_fingerprint': 'fp_35f92f8282', 'finish_reason': 'stop', 'logprobs': None}, id='run-0213edf1-3c35-47e0-9a23-7d338f843d67-0', usage_metadata={'input_tokens': 31, 'output_tokens': 19, 'total_tokens': 50}), HumanMessage(content='fail', additional_kwargs={}, response_metadata={}, id='d82ede23-9641-4d81-a401-04ab5edb1233'), AIMessage(content=\"Okay, let's try this one: Why was the tiger not invited to the party? Because he always Roars naked! Just kidding, that one was rough. How about: Why did the tiger get arrested? Because he kept stripping off his stripes near the police station! \\n\\nI hope you found that one a bit more amusing!\", additional_kwargs={}, response_metadata={'token_usage': {'completion_tokens': 68, 'prompt_tokens': 60, 'total_tokens': 128, 'completion_time': 0.34, 'prompt_time': 0.005087412, 'queue_time': 0.23652743899999998, 'total_time': 0.345087412}, 'model_name': 'qwen-2.5-32b', 'system_fingerprint': 'fp_35f92f8282', 'finish_reason': 'stop', 'logprobs': None}, id='run-1dc0b777-c787-4d5e-8b93-4475c9f7d0f1-0', usage_metadata={'input_tokens': 60, 'output_tokens': 68, 'total_tokens': 128}), HumanMessage(content='fail, send me better joke', additional_kwargs={}, response_metadata={}, id='bd80ff90-7967-4887-98b8-0814fad2ce88'), AIMessage(content=\"Sure, here's a better one:\\n\\nWhy did the tiger cross the road?\\n\\nTo get to the tiger side of the road!\", additional_kwargs={}, response_metadata={'token_usage': {'completion_tokens': 27, 'prompt_tokens': 143, 'total_tokens': 170, 'completion_time': 0.135, 'prompt_time': 0.00905131, 'queue_time': 0.236333027, 'total_time': 0.14405131}, 'model_name': 'qwen-2.5-32b', 'system_fingerprint': 'fp_35f92f8282', 'finish_reason': 'stop', 'logprobs': None}, id='run-e7f80526-3255-48f6-94bb-2f24cce143f4-0', usage_metadata={'input_tokens': 143, 'output_tokens': 27, 'total_tokens': 170}), HumanMessage(content='Nice joke', additional_kwargs={}, response_metadata={}, id='784e719b-1456-431e-9059-ada0176cfecf')]}, next=(), config={'configurable': {'thread_id': '1', 'checkpoint_ns': '', 'checkpoint_id': '1eff3ae0-e7c7-68ed-8009-1b4d261437ff'}}, metadata={'source': 'loop', 'writes': {'human_feedback': {'messages': [HumanMessage(content='Joke topic: Tiger', additional_kwargs={}, response_metadata={}, id='b2b28fc6-5146-4681-be0e-c8001ecea05a'), AIMessage(content=\"Why don't tigers use Facebook? Because they prefer to show their faces in person!\", additional_kwargs={}, response_metadata={'token_usage': {'completion_tokens': 19, 'prompt_tokens': 31, 'total_tokens': 50, 'completion_time': 0.095, 'prompt_time': 0.003907668, 'queue_time': 0.235162119, 'total_time': 0.098907668}, 'model_name': 'qwen-2.5-32b', 'system_fingerprint': 'fp_35f92f8282', 'finish_reason': 'stop', 'logprobs': None}, id='run-0213edf1-3c35-47e0-9a23-7d338f843d67-0', usage_metadata={'input_tokens': 31, 'output_tokens': 19, 'total_tokens': 50}), HumanMessage(content='fail', additional_kwargs={}, response_metadata={}, id='d82ede23-9641-4d81-a401-04ab5edb1233'), AIMessage(content=\"Okay, let's try this one: Why was the tiger not invited to the party? Because he always Roars naked! Just kidding, that one was rough. How about: Why did the tiger get arrested? Because he kept stripping off his stripes near the police station! \\n\\nI hope you found that one a bit more amusing!\", additional_kwargs={}, response_metadata={'token_usage': {'completion_tokens': 68, 'prompt_tokens': 60, 'total_tokens': 128, 'completion_time': 0.34, 'prompt_time': 0.005087412, 'queue_time': 0.23652743899999998, 'total_time': 0.345087412}, 'model_name': 'qwen-2.5-32b', 'system_fingerprint': 'fp_35f92f8282', 'finish_reason': 'stop', 'logprobs': None}, id='run-1dc0b777-c787-4d5e-8b93-4475c9f7d0f1-0', usage_metadata={'input_tokens': 60, 'output_tokens': 68, 'total_tokens': 128}), HumanMessage(content='fail, send me better joke', additional_kwargs={}, response_metadata={}, id='bd80ff90-7967-4887-98b8-0814fad2ce88'), AIMessage(content=\"Sure, here's a better one:\\n\\nWhy did the tiger cross the road?\\n\\nTo get to the tiger side of the road!\", additional_kwargs={}, response_metadata={'token_usage': {'completion_tokens': 27, 'prompt_tokens': 143, 'total_tokens': 170, 'completion_time': 0.135, 'prompt_time': 0.00905131, 'queue_time': 0.236333027, 'total_time': 0.14405131}, 'model_name': 'qwen-2.5-32b', 'system_fingerprint': 'fp_35f92f8282', 'finish_reason': 'stop', 'logprobs': None}, id='run-e7f80526-3255-48f6-94bb-2f24cce143f4-0', usage_metadata={'input_tokens': 143, 'output_tokens': 27, 'total_tokens': 170}), HumanMessage(content='Nice joke', additional_kwargs={}, response_metadata={}, id='784e719b-1456-431e-9059-ada0176cfecf')]}}, 'thread_id': '1', 'step': 9, 'parents': {}}, created_at='2025-02-25T19:23:56.467223+00:00', parent_config={'configurable': {'thread_id': '1', 'checkpoint_ns': '', 'checkpoint_id': '1eff3adf-d35b-6e8e-8008-ef1ff01da4b4'}}, tasks=())"
      ]
     },
     "execution_count": 34,
     "metadata": {},
     "output_type": "execute_result"
    }
   ],
   "source": [
    "state"
   ]
  }
 ],
 "metadata": {
  "kernelspec": {
   "display_name": "venv1",
   "language": "python",
   "name": "python3"
  },
  "language_info": {
   "codemirror_mode": {
    "name": "ipython",
    "version": 3
   },
   "file_extension": ".py",
   "mimetype": "text/x-python",
   "name": "python",
   "nbconvert_exporter": "python",
   "pygments_lexer": "ipython3",
   "version": "3.12.0"
  }
 },
 "nbformat": 4,
 "nbformat_minor": 2
}
