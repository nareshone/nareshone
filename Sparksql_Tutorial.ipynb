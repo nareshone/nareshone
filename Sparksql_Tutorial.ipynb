{
 "cells": [
  {
   "cell_type": "markdown",
   "metadata": {
    "application/vnd.databricks.v1+cell": {
     "cellMetadata": {},
     "inputWidgets": {},
     "nuid": "3a97c45a-009f-42f0-8a27-82d05017c636",
     "showTitle": false,
     "title": ""
    }
   },
   "source": [
    "Load Data into a DataFrame"
   ]
  },
  {
   "cell_type": "code",
   "execution_count": 0,
   "metadata": {
    "application/vnd.databricks.v1+cell": {
     "cellMetadata": {
      "byteLimit": 2048000,
      "rowLimit": 10000
     },
     "inputWidgets": {},
     "nuid": "6c80296d-9cf0-42f5-9eae-7357c93ab3c6",
     "showTitle": false,
     "title": ""
    }
   },
   "outputs": [],
   "source": [
    "# Load the synthetic data into a DataFrame\n",
    "data_file_path = \"/FileStore/tables/Salary_Data.csv\"\n",
    "df = spark.read.csv(data_file_path, header=True, inferSchema=True)"
   ]
  },
  {
   "cell_type": "code",
   "execution_count": 0,
   "metadata": {
    "application/vnd.databricks.v1+cell": {
     "cellMetadata": {
      "byteLimit": 2048000,
      "rowLimit": 10000
     },
     "inputWidgets": {},
     "nuid": "c189b132-c792-4a2f-aa82-72d54210ac14",
     "showTitle": false,
     "title": ""
    }
   },
   "outputs": [
    {
     "name": "stdout",
     "output_type": "stream",
     "text": [
      "root\n",
      " |-- Age: integer (nullable = true)\n",
      " |-- Gender: string (nullable = true)\n",
      " |-- Education Level: string (nullable = true)\n",
      " |-- Job Title: string (nullable = true)\n",
      " |-- Years of Experience: double (nullable = true)\n",
      " |-- Salary: integer (nullable = true)\n",
      "\n",
      "Initial DataFrame:\n",
      "+---+------+---------------+--------------------+-------------------+------+\n",
      "|Age|Gender|Education Level|           Job Title|Years of Experience|Salary|\n",
      "+---+------+---------------+--------------------+-------------------+------+\n",
      "| 32|  Male|     Bachelor's|   Software Engineer|                5.0| 90000|\n",
      "| 28|Female|       Master's|        Data Analyst|                3.0| 65000|\n",
      "| 45|  Male|            PhD|      Senior Manager|               15.0|150000|\n",
      "| 36|Female|     Bachelor's|     Sales Associate|                7.0| 60000|\n",
      "| 52|  Male|       Master's|            Director|               20.0|200000|\n",
      "| 29|  Male|     Bachelor's|   Marketing Analyst|                2.0| 55000|\n",
      "| 42|Female|       Master's|     Product Manager|               12.0|120000|\n",
      "| 31|  Male|     Bachelor's|       Sales Manager|                4.0| 80000|\n",
      "| 26|Female|     Bachelor's|Marketing Coordin...|                1.0| 45000|\n",
      "| 38|  Male|            PhD|    Senior Scientist|               10.0|110000|\n",
      "+---+------+---------------+--------------------+-------------------+------+\n",
      "only showing top 10 rows\n",
      "\n"
     ]
    }
   ],
   "source": [
    "# Display schema of DataFrame\n",
    "df.printSchema()\n",
    "\n",
    "# Show the initial DataFrame\n",
    "print(\"Initial DataFrame:\")\n",
    "df.show(10)"
   ]
  },
  {
   "cell_type": "markdown",
   "metadata": {
    "application/vnd.databricks.v1+cell": {
     "cellMetadata": {},
     "inputWidgets": {},
     "nuid": "05bdc315-039c-428f-b5ef-7c936bc2d867",
     "showTitle": false,
     "title": ""
    }
   },
   "source": [
    "Register the DataFrame as a Temporary Table"
   ]
  },
  {
   "cell_type": "code",
   "execution_count": 0,
   "metadata": {
    "application/vnd.databricks.v1+cell": {
     "cellMetadata": {
      "byteLimit": 2048000,
      "rowLimit": 10000
     },
     "inputWidgets": {},
     "nuid": "7bc95b59-2a0e-4c7f-a570-68bf26013720",
     "showTitle": false,
     "title": ""
    }
   },
   "outputs": [],
   "source": [
    "# Register the DataFrame as a Temporary Table\n",
    "df.createOrReplaceTempView(\"my_table\")"
   ]
  },
  {
   "cell_type": "markdown",
   "metadata": {
    "application/vnd.databricks.v1+cell": {
     "cellMetadata": {},
     "inputWidgets": {},
     "nuid": "9e3f18a7-d597-44e1-8e50-bedbeb2f5271",
     "showTitle": false,
     "title": ""
    }
   },
   "source": [
    "Perform SQL-like Queries"
   ]
  },
  {
   "cell_type": "code",
   "execution_count": 0,
   "metadata": {
    "application/vnd.databricks.v1+cell": {
     "cellMetadata": {
      "byteLimit": 2048000,
      "rowLimit": 10000
     },
     "inputWidgets": {},
     "nuid": "48768f5c-d479-44d8-b458-5099e329608c",
     "showTitle": false,
     "title": ""
    }
   },
   "outputs": [
    {
     "name": "stdout",
     "output_type": "stream",
     "text": [
      "+---+------+---------------+--------------------+-------------------+------+\n",
      "|Age|Gender|Education Level|           Job Title|Years of Experience|Salary|\n",
      "+---+------+---------------+--------------------+-------------------+------+\n",
      "| 32|  Male|     Bachelor's|   Software Engineer|                5.0| 90000|\n",
      "| 28|Female|       Master's|        Data Analyst|                3.0| 65000|\n",
      "| 45|  Male|            PhD|      Senior Manager|               15.0|150000|\n",
      "| 36|Female|     Bachelor's|     Sales Associate|                7.0| 60000|\n",
      "| 52|  Male|       Master's|            Director|               20.0|200000|\n",
      "| 29|  Male|     Bachelor's|   Marketing Analyst|                2.0| 55000|\n",
      "| 42|Female|       Master's|     Product Manager|               12.0|120000|\n",
      "| 31|  Male|     Bachelor's|       Sales Manager|                4.0| 80000|\n",
      "| 26|Female|     Bachelor's|Marketing Coordin...|                1.0| 45000|\n",
      "| 38|  Male|            PhD|    Senior Scientist|               10.0|110000|\n",
      "| 29|  Male|       Master's|  Software Developer|                3.0| 75000|\n",
      "| 48|Female|     Bachelor's|          HR Manager|               18.0|140000|\n",
      "| 35|  Male|     Bachelor's|   Financial Analyst|                6.0| 65000|\n",
      "| 40|Female|       Master's|     Project Manager|               14.0|130000|\n",
      "| 27|  Male|     Bachelor's|Customer Service Rep|                2.0| 40000|\n",
      "| 44|  Male|     Bachelor's|  Operations Manager|               16.0|125000|\n",
      "| 33|Female|       Master's|   Marketing Manager|                7.0| 90000|\n",
      "| 39|  Male|            PhD|     Senior Engineer|               12.0|115000|\n",
      "| 51|  Male|     Bachelor's|      Sales Director|               22.0|180000|\n",
      "| 34|Female|       Master's|    Business Analyst|                5.0| 80000|\n",
      "+---+------+---------------+--------------------+-------------------+------+\n",
      "only showing top 20 rows\n",
      "\n"
     ]
    }
   ],
   "source": [
    "# Select all rows where age is greater than 25\n",
    "result = spark.sql(\"SELECT * FROM my_table WHERE Age > 25\")\n",
    "\n",
    "result.show()"
   ]
  },
  {
   "cell_type": "code",
   "execution_count": 0,
   "metadata": {
    "application/vnd.databricks.v1+cell": {
     "cellMetadata": {
      "byteLimit": 2048000,
      "rowLimit": 10000
     },
     "inputWidgets": {},
     "nuid": "c0c7c625-2d41-4a8c-b6cd-9a26398372da",
     "showTitle": false,
     "title": ""
    }
   },
   "outputs": [
    {
     "name": "stdout",
     "output_type": "stream",
     "text": [
      "+------+------------------+\n",
      "|Gender|        avg_salary|\n",
      "+------+------------------+\n",
      "|  null|              null|\n",
      "|Female| 97011.17318435754|\n",
      "|  Male|103867.78350515464|\n",
      "+------+------------------+\n",
      "\n"
     ]
    }
   ],
   "source": [
    "# Compute the average salary by gender\n",
    "avg_salary_by_gender = spark.sql(\"SELECT Gender, AVG(Salary) as avg_salary FROM my_table GROUP BY Gender\")\n",
    "avg_salary_by_gender.show()"
   ]
  },
  {
   "cell_type": "markdown",
   "metadata": {
    "application/vnd.databricks.v1+cell": {
     "cellMetadata": {},
     "inputWidgets": {},
     "nuid": "fe0cfad8-a4af-4050-a817-d186ddc39981",
     "showTitle": false,
     "title": ""
    }
   },
   "source": [
    "Creating and managing temporary views."
   ]
  },
  {
   "cell_type": "code",
   "execution_count": 0,
   "metadata": {
    "application/vnd.databricks.v1+cell": {
     "cellMetadata": {
      "byteLimit": 2048000,
      "rowLimit": 10000
     },
     "inputWidgets": {},
     "nuid": "3ee3577d-232d-4696-856d-82de3d932153",
     "showTitle": false,
     "title": ""
    }
   },
   "outputs": [],
   "source": [
    "# Create a temporary view\n",
    "df.createOrReplaceTempView(\"people\")"
   ]
  },
  {
   "cell_type": "code",
   "execution_count": 0,
   "metadata": {
    "application/vnd.databricks.v1+cell": {
     "cellMetadata": {
      "byteLimit": 2048000,
      "rowLimit": 10000
     },
     "inputWidgets": {},
     "nuid": "7c306e82-9028-41cf-aa11-0d13c73b99a9",
     "showTitle": false,
     "title": ""
    }
   },
   "outputs": [
    {
     "name": "stdout",
     "output_type": "stream",
     "text": [
      "+---+------+---------------+--------------------+-------------------+------+\n",
      "|Age|Gender|Education Level|           Job Title|Years of Experience|Salary|\n",
      "+---+------+---------------+--------------------+-------------------+------+\n",
      "| 32|  Male|     Bachelor's|   Software Engineer|                5.0| 90000|\n",
      "| 28|Female|       Master's|        Data Analyst|                3.0| 65000|\n",
      "| 45|  Male|            PhD|      Senior Manager|               15.0|150000|\n",
      "| 36|Female|     Bachelor's|     Sales Associate|                7.0| 60000|\n",
      "| 52|  Male|       Master's|            Director|               20.0|200000|\n",
      "| 29|  Male|     Bachelor's|   Marketing Analyst|                2.0| 55000|\n",
      "| 42|Female|       Master's|     Product Manager|               12.0|120000|\n",
      "| 31|  Male|     Bachelor's|       Sales Manager|                4.0| 80000|\n",
      "| 26|Female|     Bachelor's|Marketing Coordin...|                1.0| 45000|\n",
      "| 38|  Male|            PhD|    Senior Scientist|               10.0|110000|\n",
      "| 29|  Male|       Master's|  Software Developer|                3.0| 75000|\n",
      "| 48|Female|     Bachelor's|          HR Manager|               18.0|140000|\n",
      "| 35|  Male|     Bachelor's|   Financial Analyst|                6.0| 65000|\n",
      "| 40|Female|       Master's|     Project Manager|               14.0|130000|\n",
      "| 27|  Male|     Bachelor's|Customer Service Rep|                2.0| 40000|\n",
      "| 44|  Male|     Bachelor's|  Operations Manager|               16.0|125000|\n",
      "| 33|Female|       Master's|   Marketing Manager|                7.0| 90000|\n",
      "| 39|  Male|            PhD|     Senior Engineer|               12.0|115000|\n",
      "| 51|  Male|     Bachelor's|      Sales Director|               22.0|180000|\n",
      "| 34|Female|       Master's|    Business Analyst|                5.0| 80000|\n",
      "+---+------+---------------+--------------------+-------------------+------+\n",
      "only showing top 20 rows\n",
      "\n"
     ]
    }
   ],
   "source": [
    "# Query the temporary view\n",
    "result = spark.sql(\"SELECT * FROM people WHERE age > 25\")\n",
    "\n",
    "result.show()"
   ]
  },
  {
   "cell_type": "code",
   "execution_count": 0,
   "metadata": {
    "application/vnd.databricks.v1+cell": {
     "cellMetadata": {
      "byteLimit": 2048000,
      "rowLimit": 10000
     },
     "inputWidgets": {},
     "nuid": "ed5c00ab-1ae3-4365-8ebf-4f48c88cef08",
     "showTitle": false,
     "title": ""
    }
   },
   "outputs": [
    {
     "name": "stdout",
     "output_type": "stream",
     "text": [
      "Out[8]: True"
     ]
    }
   ],
   "source": [
    "# Check if a temporary view exists\n",
    "view_exists = spark.catalog.tableExists(\"people\")\n",
    "view_exists"
   ]
  },
  {
   "cell_type": "code",
   "execution_count": 0,
   "metadata": {
    "application/vnd.databricks.v1+cell": {
     "cellMetadata": {
      "byteLimit": 2048000,
      "rowLimit": 10000
     },
     "inputWidgets": {},
     "nuid": "f8ed864f-eb7f-4446-b828-fd5bb7cddf41",
     "showTitle": false,
     "title": ""
    }
   },
   "outputs": [
    {
     "name": "stdout",
     "output_type": "stream",
     "text": [
      "Out[9]: True"
     ]
    }
   ],
   "source": [
    "# Drop a temporary view\n",
    "spark.catalog.dropTempView(\"people\")"
   ]
  },
  {
   "cell_type": "code",
   "execution_count": 0,
   "metadata": {
    "application/vnd.databricks.v1+cell": {
     "cellMetadata": {
      "byteLimit": 2048000,
      "rowLimit": 10000
     },
     "inputWidgets": {},
     "nuid": "16148dba-5e4f-4ca6-9139-2f24bec7d96f",
     "showTitle": false,
     "title": ""
    }
   },
   "outputs": [
    {
     "name": "stdout",
     "output_type": "stream",
     "text": [
      "Out[10]: False"
     ]
    }
   ],
   "source": [
    "# Check if a temporary view exists\n",
    "view_exists = spark.catalog.tableExists(\"people\")\n",
    "view_exists"
   ]
  },
  {
   "cell_type": "markdown",
   "metadata": {
    "application/vnd.databricks.v1+cell": {
     "cellMetadata": {},
     "inputWidgets": {},
     "nuid": "e4d1be45-6c90-42c2-b62a-3407d3824e40",
     "showTitle": false,
     "title": ""
    }
   },
   "source": [
    "Subqueries"
   ]
  },
  {
   "cell_type": "code",
   "execution_count": 0,
   "metadata": {
    "application/vnd.databricks.v1+cell": {
     "cellMetadata": {
      "byteLimit": 2048000,
      "rowLimit": 10000
     },
     "inputWidgets": {},
     "nuid": "ae34d7e2-4ee0-4527-951c-954fdd04c661",
     "showTitle": false,
     "title": ""
    }
   },
   "outputs": [
    {
     "name": "stdout",
     "output_type": "stream",
     "text": [
      "+---+-------+\n",
      "| id|   name|\n",
      "+---+-------+\n",
      "|  1|   John|\n",
      "|  2|  Alice|\n",
      "|  3|    Bob|\n",
      "|  4|  Emily|\n",
      "|  5|  David|\n",
      "|  6|  Sarah|\n",
      "|  7|Michael|\n",
      "|  8|   Lisa|\n",
      "|  9|William|\n",
      "+---+-------+\n",
      "\n",
      "+----------+---+------+\n",
      "|department| id|salary|\n",
      "+----------+---+------+\n",
      "|        HR|  1| 60000|\n",
      "|        HR|  2| 55000|\n",
      "|        HR|  3| 58000|\n",
      "|        IT|  4| 70000|\n",
      "|        IT|  5| 72000|\n",
      "|        IT|  6| 68000|\n",
      "|     Sales|  7| 75000|\n",
      "|     Sales|  8| 78000|\n",
      "|     Sales|  9| 77000|\n",
      "+----------+---+------+\n",
      "\n"
     ]
    }
   ],
   "source": [
    "# Create DataFrames\n",
    "employee_data = [\n",
    "    (1, \"John\"), (2, \"Alice\"), (3, \"Bob\"), (4, \"Emily\"),\n",
    "    (5, \"David\"), (6, \"Sarah\"), (7, \"Michael\"), (8, \"Lisa\"),\n",
    "    (9, \"William\")\n",
    "]\n",
    "employees = spark.createDataFrame(employee_data, [\"id\", \"name\"])\n",
    "\n",
    "salary_data = [\n",
    "    (\"HR\", 1, 60000), (\"HR\", 2, 55000), (\"HR\", 3, 58000),\n",
    "    (\"IT\", 4, 70000), (\"IT\", 5, 72000), (\"IT\", 6, 68000),\n",
    "    (\"Sales\", 7, 75000), (\"Sales\", 8, 78000), (\"Sales\", 9, 77000)\n",
    "]\n",
    "salaries = spark.createDataFrame(salary_data, [\"department\", \"id\", \"salary\"])\n",
    "\n",
    "employees.show()\n",
    "\n",
    "salaries.show()"
   ]
  },
  {
   "cell_type": "code",
   "execution_count": 0,
   "metadata": {
    "application/vnd.databricks.v1+cell": {
     "cellMetadata": {
      "byteLimit": 2048000,
      "rowLimit": 10000
     },
     "inputWidgets": {},
     "nuid": "19a11c12-a99b-4ed3-a8fc-d60efc81aa52",
     "showTitle": false,
     "title": ""
    }
   },
   "outputs": [],
   "source": [
    "# Register as temporary views\n",
    "employees.createOrReplaceTempView(\"employees\")\n",
    "salaries.createOrReplaceTempView(\"salaries\")"
   ]
  },
  {
   "cell_type": "code",
   "execution_count": 0,
   "metadata": {
    "application/vnd.databricks.v1+cell": {
     "cellMetadata": {
      "byteLimit": 2048000,
      "rowLimit": 10000
     },
     "inputWidgets": {},
     "nuid": "6191f26f-b03e-449b-ac95-c80af0cd0580",
     "showTitle": false,
     "title": ""
    }
   },
   "outputs": [
    {
     "name": "stdout",
     "output_type": "stream",
     "text": [
      "+-------+\n",
      "|   name|\n",
      "+-------+\n",
      "|  Emily|\n",
      "|  David|\n",
      "|Michael|\n",
      "|   Lisa|\n",
      "|William|\n",
      "+-------+\n",
      "\n"
     ]
    }
   ],
   "source": [
    "# Subquery to find employees with salaries above average\n",
    "result = spark.sql(\"\"\"\n",
    "    SELECT name\n",
    "    FROM employees\n",
    "    WHERE id IN (\n",
    "        SELECT id\n",
    "        FROM salaries\n",
    "        WHERE salary > (SELECT AVG(salary) FROM salaries)\n",
    "    )\n",
    "\"\"\")\n",
    "\n",
    "result.show()"
   ]
  },
  {
   "cell_type": "markdown",
   "metadata": {
    "application/vnd.databricks.v1+cell": {
     "cellMetadata": {},
     "inputWidgets": {},
     "nuid": "113de18e-33fe-4af3-a339-738ce4446ead",
     "showTitle": false,
     "title": ""
    }
   },
   "source": [
    "Window Function"
   ]
  },
  {
   "cell_type": "code",
   "execution_count": 0,
   "metadata": {
    "application/vnd.databricks.v1+cell": {
     "cellMetadata": {
      "byteLimit": 2048000,
      "rowLimit": 10000
     },
     "inputWidgets": {},
     "nuid": "a1368ad9-ef78-4eec-bd59-de14e213b800",
     "showTitle": false,
     "title": ""
    }
   },
   "outputs": [],
   "source": [
    "from pyspark.sql.window import Window\n",
    "from pyspark.sql import functions as F"
   ]
  },
  {
   "cell_type": "code",
   "execution_count": 0,
   "metadata": {
    "application/vnd.databricks.v1+cell": {
     "cellMetadata": {
      "byteLimit": 2048000,
      "rowLimit": 10000
     },
     "inputWidgets": {},
     "nuid": "0bfef6ea-2e86-45f3-8899-812ae5ce1010",
     "showTitle": false,
     "title": ""
    }
   },
   "outputs": [
    {
     "name": "stdout",
     "output_type": "stream",
     "text": [
      "+----------+---+------+-------+\n",
      "|department| id|salary|   name|\n",
      "+----------+---+------+-------+\n",
      "|        HR|  1| 60000|   John|\n",
      "|        HR|  2| 55000|  Alice|\n",
      "|        HR|  3| 58000|    Bob|\n",
      "|        IT|  4| 70000|  Emily|\n",
      "|        IT|  5| 72000|  David|\n",
      "|        IT|  6| 68000|  Sarah|\n",
      "|     Sales|  7| 75000|Michael|\n",
      "|     Sales|  8| 78000|   Lisa|\n",
      "|     Sales|  9| 77000|William|\n",
      "+----------+---+------+-------+\n",
      "\n"
     ]
    }
   ],
   "source": [
    "employee_salary = spark.sql(\"\"\"\n",
    "    select  salaries.*, employees.name\n",
    "    from salaries \n",
    "    left join employees on salaries.id = employees.id\n",
    "\"\"\")\n",
    "\n",
    "employee_salary.show()"
   ]
  },
  {
   "cell_type": "code",
   "execution_count": 0,
   "metadata": {
    "application/vnd.databricks.v1+cell": {
     "cellMetadata": {
      "byteLimit": 2048000,
      "rowLimit": 10000
     },
     "inputWidgets": {},
     "nuid": "213eb0f3-9b86-4408-aac9-217cc6d7d2e7",
     "showTitle": false,
     "title": ""
    }
   },
   "outputs": [],
   "source": [
    "# Create a window specification\n",
    "window_spec = Window.partitionBy(\"department\").orderBy(F.desc(\"salary\"))"
   ]
  },
  {
   "cell_type": "code",
   "execution_count": 0,
   "metadata": {
    "application/vnd.databricks.v1+cell": {
     "cellMetadata": {
      "byteLimit": 2048000,
      "rowLimit": 10000
     },
     "inputWidgets": {},
     "nuid": "59b64a86-7d57-4669-ab4f-04a35bec1197",
     "showTitle": false,
     "title": ""
    }
   },
   "outputs": [
    {
     "name": "stdout",
     "output_type": "stream",
     "text": [
      "+----------+---+------+-------+----+\n",
      "|department| id|salary|   name|rank|\n",
      "+----------+---+------+-------+----+\n",
      "|        HR|  1| 60000|   John|   1|\n",
      "|        HR|  3| 58000|    Bob|   2|\n",
      "|        HR|  2| 55000|  Alice|   3|\n",
      "|        IT|  5| 72000|  David|   1|\n",
      "|        IT|  4| 70000|  Emily|   2|\n",
      "|        IT|  6| 68000|  Sarah|   3|\n",
      "|     Sales|  8| 78000|   Lisa|   1|\n",
      "|     Sales|  9| 77000|William|   2|\n",
      "|     Sales|  7| 75000|Michael|   3|\n",
      "+----------+---+------+-------+----+\n",
      "\n"
     ]
    }
   ],
   "source": [
    "# Calculate the rank of employees within each department based on salary\n",
    "employee_salary.withColumn(\"rank\", F.rank().over(window_spec)).show()"
   ]
  }
 ],
 "metadata": {
  "application/vnd.databricks.v1+notebook": {
   "dashboards": [],
   "environmentMetadata": null,
   "language": "python",
   "notebookMetadata": {
    "pythonIndentUnit": 4
   },
   "notebookName": "Sparksql_Tutorial",
   "widgets": {}
  },
  "kernelspec": {
   "display_name": "Python 3 (ipykernel)",
   "language": "python",
   "name": "python3"
  },
  "language_info": {
   "codemirror_mode": {
    "name": "ipython",
    "version": 3
   },
   "file_extension": ".py",
   "mimetype": "text/x-python",
   "name": "python",
   "nbconvert_exporter": "python",
   "pygments_lexer": "ipython3",
   "version": "3.10.9"
  }
 },
 "nbformat": 4,
 "nbformat_minor": 1
}
